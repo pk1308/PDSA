{
 "cells": [
  {
   "cell_type": "code",
   "execution_count": null,
   "metadata": {},
   "outputs": [],
   "source": [
    "class Node:\n",
    "  def __init__(self, data):\n",
    "    self.data = data\n",
    "    self.next = None\n",
    "    self.prev = None\n",
    "class doubly_linked_list:\n",
    "  def __init__(self):\n",
    "    self.head = None\n",
    "    self.last = None\n",
    "\n",
    "  def insert_end(self, data):\n",
    "   \n",
    "      if self.head is None:\n",
    "          self.head = Node(data)\n",
    "      elif self.last is None:\n",
    "          temp = Node(data)\n",
    "          self.head.next = temp \n",
    "          self.last = temp \n",
    "          self.last.prev = self.head\n",
    "      else:\n",
    "          temp = Node(data)\n",
    "          self.last.next = temp\n",
    "          temp.prev = self.last\n",
    "          self.last = temp \n",
    "  def delete_end(self):\n",
    "      if self.head is None :\n",
    "          return None \n",
    "      else:\n",
    "          self.last = self.last.prev\n",
    "          self.last.next = None "
   ]
  }
 ],
 "metadata": {
  "language_info": {
   "name": "python"
  }
 },
 "nbformat": 4,
 "nbformat_minor": 2
}
