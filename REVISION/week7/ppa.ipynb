{
 "cells": [
  {
   "cell_type": "code",
   "execution_count": 5,
   "metadata": {},
   "outputs": [],
   "source": [
    "class Node:\n",
    "    def __init__(self,frequency,symbol = None,left = None,right = None):\n",
    "        self.frequency = frequency\n",
    "        self.symbol = symbol\n",
    "        self.left = left\n",
    "        self.right = right\n",
    "from  collections import Counter\n",
    "def Huffman(s):\n",
    "    huffcode = {}\n",
    "    char_count = Counter(s)\n",
    "    freqlist = [ (count , symbol) for symbol , count in char_count.items()]\n",
    "    \n",
    "    nodes = []\n",
    "    \n",
    "    for  each_char_freq in sorted(freqlist):\n",
    "        nodes.append((each_char_freq , Node(frequency=each_char_freq[0] , symbol=each_char_freq[1])))\n",
    "    \n",
    "    while len(nodes) > 1 :\n",
    "        \n",
    "        nodes.sort()\n",
    "        \n",
    "        Left_child_node = nodes[0][1]\n",
    "        right_child_node = nodes[1][1]\n",
    "        new_total = (Left_child_node.frequency+right_child_node.frequency)\n",
    "        new_symbol  = Left_child_node.symbol+right_child_node.symbol\n",
    "        new_node = Node(frequency=new_total,\n",
    "                        symbol= new_symbol, \n",
    "                        left= Left_child_node, \n",
    "                        right= right_child_node)\n",
    "        nodes.pop(0)\n",
    "        nodes.pop(0)\n",
    "        nodes.append(((new_total, new_symbol) , new_node))\n",
    "    \n",
    "    for char in char_count.keys():\n",
    "        \n",
    "        temp = new_node\n",
    "        char_encode = \"\"\n",
    "        while  char != temp.symbol:\n",
    "            if char in temp.left.symbol:\n",
    "                char_encode+= \"0\"\n",
    "                temp = temp.left \n",
    "            else:\n",
    "                char_encode +=\"1\"\n",
    "                temp = temp.right \n",
    "        huffcode[char] = char_encode\n",
    "    return huffcode\n",
    "                \n",
    "        \n",
    "        \n",
    "    "
   ]
  },
  {
   "cell_type": "code",
   "execution_count": 6,
   "metadata": {},
   "outputs": [
    {
     "name": "stdout",
     "output_type": "stream",
     "text": [
      "a 111\n",
      "b 000\n",
      "c 001\n",
      "d 10\n",
      "e 110\n",
      "f 01\n"
     ]
    }
   ],
   "source": [
    "s = input()\n",
    "res = Huffman(s)\n",
    "for char in sorted(res):\n",
    "    print(char,res[char])"
   ]
  },
  {
   "cell_type": "code",
   "execution_count": null,
   "metadata": {},
   "outputs": [],
   "source": [
    "from operator import itemgetter\n",
    "\n",
    "def minimizeLateness(N , jobs):\n",
    "    \n",
    "    working_line = [[] for i in range(N)]\n",
    "    current_time = [0  for i in range(N)]\n",
    "    max_lateness = 0 \n",
    "    sorted_jobs = sorted(jobs , key=itemgetter(2))\n",
    "    for i in range(N):\n",
    "        _job = sorted_jobs.pop(0)\n",
    "        working_line[i].append(_job[0])\n",
    "        current_time[i]+= _job[1]\n",
    "        max_lateness = max(max_lateness , current_time[i]- _job[2])\n",
    "    \n",
    "    while sorted_jobs:\n",
    "        _job = sorted_jobs.pop(0)\n",
    "        min_index = current_time.index(min(current_time))\n",
    "        working_line[min_index].append(_job[0])\n",
    "        current_time[min_index] += _job[1]\n",
    "        max_lateness = max(max_lateness, current_time[min_index] - _job[2])\n",
    "        \n",
    "        # Check if the max lateness exceeds the upper bound\n",
    "        if max_lateness > 36:\n",
    "            break\n",
    "  \n",
    "    return working_line\n",
    "\n",
    "    "
   ]
  },
  {
   "cell_type": "code",
   "execution_count": 9,
   "metadata": {},
   "outputs": [
    {
     "data": {
      "text/plain": [
       "[(1, '09:00', '09:10'),\n",
       " (2, '09:40', '12:00'),\n",
       " (3, '09:50', '11:20'),\n",
       " (4, '11:00', '11:30'),\n",
       " (5, '11:40', '12:10'),\n",
       " (6, '12:05', '19:00'),\n",
       " (7, '12:06', '13:00'),\n",
       " (8, '13:05', '14:00'),\n",
       " (9, '14:05', '15:00'),\n",
       " (10, '18:00', '20:00')]"
      ]
     },
     "execution_count": 9,
     "metadata": {},
     "output_type": "execute_result"
    }
   ],
   "source": [
    "[(1,'09:00','09:10'),(2,'09:40','12:00'),(3,'09:50','11:20'),(4,'11:00','11:30'),(5,'11:40','12:10'),\n",
    "    (6,'12:05','19:00'),(7,'12:06','13:00'),(8,'13:05','14:00'),(9,'14:05','15:00'),(10,'18:00','20:00')]"
   ]
  },
  {
   "cell_type": "code",
   "execution_count": 25,
   "metadata": {},
   "outputs": [],
   "source": [
    "def minimum_platform(train_schedule):\n",
    "    master_list = []\n",
    "    train_data = train_schedule.pop(0)\n",
    "    master_list.append([train_data])\n",
    "    \n",
    "    for data in train_schedule:\n",
    "        insert = False\n",
    "        for platform in master_list:\n",
    "            if platform[-1][-1] < data[1]:\n",
    "                insert =  True\n",
    "                platform.append(data)\n",
    "        if not insert:\n",
    "            master_list.append([data])\n",
    "    return len(master_list)\n",
    "        \n",
    "    "
   ]
  },
  {
   "cell_type": "code",
   "execution_count": 27,
   "metadata": {},
   "outputs": [],
   "source": [
    "schedule = eval(input())           \n",
    "data = (minimum_platform(schedule))"
   ]
  },
  {
   "cell_type": "code",
   "execution_count": 28,
   "metadata": {},
   "outputs": [
    {
     "data": {
      "text/plain": [
       "4"
      ]
     },
     "execution_count": 28,
     "metadata": {},
     "output_type": "execute_result"
    }
   ],
   "source": [
    "data"
   ]
  },
  {
   "cell_type": "code",
   "execution_count": 29,
   "metadata": {},
   "outputs": [],
   "source": [
    "def minimum_platform(train_schedule):\n",
    "  # Extract arrival and departure times\n",
    "  arrival_times = sorted([train[1] for train in train_schedule])\n",
    "  departure_times = sorted([train[2] for train in train_schedule])\n",
    "  \n",
    "  platform_needed = 0\n",
    "  max_platforms = 0\n",
    "  i = 0\n",
    "  j = 0\n",
    "  \n",
    "  # Iterate through all arrival and departure times\n",
    "  while i < len(train_schedule) and j < len(train_schedule):\n",
    "      # If next event is an arrival, increment platform count\n",
    "      if arrival_times[i] < departure_times[j]:\n",
    "          platform_needed += 1\n",
    "          i += 1\n",
    "          # Update the maximum platforms needed\n",
    "          if platform_needed > max_platforms:\n",
    "              max_platforms = platform_needed\n",
    "      else:\n",
    "          # If next event is a departure, decrement platform count\n",
    "          platform_needed -= 1\n",
    "          j += 1\n",
    "  \n",
    "  return max_platforms"
   ]
  },
  {
   "cell_type": "code",
   "execution_count": 31,
   "metadata": {},
   "outputs": [],
   "source": [
    "from operator import itemgetter\n",
    "def no_overlap(L):\n",
    "    customer_id = []\n",
    "    events = []\n",
    "    sorted_events = sorted(L , key=itemgetter(2))\n",
    "    if sorted_events:\n",
    "        data = sorted_events.pop(0)\n",
    "        events.append(data)\n",
    "        customer_id.append(data[0])\n",
    "    \n",
    "    for event in sorted_events:\n",
    "        if event[1] > events[-1][2]:\n",
    "            events.append(event)\n",
    "            customer_id.append(event[0])\n",
    "    \n",
    "    return customer_id"
   ]
  },
  {
   "cell_type": "code",
   "execution_count": null,
   "metadata": {},
   "outputs": [],
   "source": []
  }
 ],
 "metadata": {
  "kernelspec": {
   "display_name": "pdsa_1",
   "language": "python",
   "name": "python3"
  },
  "language_info": {
   "codemirror_mode": {
    "name": "ipython",
    "version": 3
   },
   "file_extension": ".py",
   "mimetype": "text/x-python",
   "name": "python",
   "nbconvert_exporter": "python",
   "pygments_lexer": "ipython3",
   "version": "3.11.9"
  }
 },
 "nbformat": 4,
 "nbformat_minor": 2
}
