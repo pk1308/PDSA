{
 "cells": [
  {
   "cell_type": "code",
   "execution_count": 3,
   "metadata": {},
   "outputs": [],
   "source": [
    "import time \n",
    "\n",
    "start_time = time.perf_counter()"
   ]
  },
  {
   "cell_type": "code",
   "execution_count": 4,
   "metadata": {},
   "outputs": [],
   "source": [
    "end_time = time.perf_counter()"
   ]
  },
  {
   "cell_type": "code",
   "execution_count": 5,
   "metadata": {},
   "outputs": [
    {
     "data": {
      "text/plain": [
       "-0.250828417003504"
      ]
     },
     "execution_count": 5,
     "metadata": {},
     "output_type": "execute_result"
    }
   ],
   "source": [
    "start_time- end_time"
   ]
  },
  {
   "cell_type": "code",
   "execution_count": 19,
   "metadata": {},
   "outputs": [],
   "source": [
    "class TimerError(Exception):\n",
    "    def __init__(self) -> None:\n",
    "        self._start_time = None \n",
    "        self._stop_time = None \n",
    "        self.elapsed_time = None\n",
    "        \n",
    "    def start(self):\n",
    "        if self._start_time != None:\n",
    "            raise TimerError(\" please stop the timer\")\n",
    "        self._start_time = time.perf_counter()\n",
    "        self._stop_time = None\n",
    "    \n",
    "    def stop(self):\n",
    "        if self._start_time == None:\n",
    "            raise TimerError(\"please start the timer\")\n",
    "        self._stop_time = time.perf_counter()\n",
    "        self.elapsed_time = self._stop_time - self._start_time\n",
    "        self._start_time = None \n",
    "    def elapsed(self):\n",
    "        if self.elapsed == None and self._start_time== None:\n",
    "            raise TimerError(\"the counter not running\")\n",
    "        elif self.elapsed == None and self._start_time != None:\n",
    "            raise TimerError(\"the counter not running\")\n",
    "        else:\n",
    "            self.stop()\n",
    "            return self.elapsed_time\n",
    "    def __str__(self) -> str:\n",
    "        return (str(self.elapsed_time))"
   ]
  },
  {
   "cell_type": "code",
   "execution_count": 20,
   "metadata": {},
   "outputs": [
    {
     "name": "stdout",
     "output_type": "stream",
     "text": [
      " i: 4 time taken 0.00022252700000535697\n",
      " i: 5 time taken 0.0022203449916560203\n",
      " i: 6 time taken 0.01746416199603118\n",
      " i: 7 time taken 0.14385948498966172\n",
      " i: 8 time taken 1.4716057649930008\n",
      " i: 9 time taken 14.134486352995737\n"
     ]
    }
   ],
   "source": [
    "timer_obj =  TimerError()\n",
    "\n",
    "for i in range(4,10):\n",
    "    timer_obj.start()\n",
    "    for j in range(10**i):\n",
    "        pass \n",
    "    print(f\" i: {i} time taken {timer_obj.elapsed()}\")"
   ]
  },
  {
   "cell_type": "code",
   "execution_count": 23,
   "metadata": {},
   "outputs": [
    {
     "data": {
      "text/plain": [
       "2.4133012630045414e-05"
      ]
     },
     "execution_count": 23,
     "metadata": {},
     "output_type": "execute_result"
    }
   ],
   "source": [
    "def gcd( m : int , n : int )-> int:\n",
    "    (a, b) = (max(m,n) , min(m,n))\n",
    "    if a%b == 0:\n",
    "        return b \n",
    "    else:\n",
    "        return gcd(b, a-b)\n",
    "timer_obj.start()\n",
    "gcd(9000,2)\n",
    "timer_obj.elapsed()"
   ]
  },
  {
   "cell_type": "code",
   "execution_count": 24,
   "metadata": {},
   "outputs": [
    {
     "data": {
      "text/plain": [
       "2.3304994101636112e-05"
      ]
     },
     "execution_count": 24,
     "metadata": {},
     "output_type": "execute_result"
    }
   ],
   "source": [
    "def gcd( m : int , n : int )-> int:\n",
    "    (a, b) = (max(m,n) , min(m,n))\n",
    "    if a%b == 0:\n",
    "        return b \n",
    "    else:\n",
    "        return gcd(b, a%b)\n",
    "timer_obj.start()\n",
    "gcd(9000,2)\n",
    "timer_obj.elapsed()"
   ]
  }
 ],
 "metadata": {
  "kernelspec": {
   "display_name": "pdsa",
   "language": "python",
   "name": "python3"
  },
  "language_info": {
   "codemirror_mode": {
    "name": "ipython",
    "version": 3
   },
   "file_extension": ".py",
   "mimetype": "text/x-python",
   "name": "python",
   "nbconvert_exporter": "python",
   "pygments_lexer": "ipython3",
   "version": "3.11.0"
  }
 },
 "nbformat": 4,
 "nbformat_minor": 2
}
