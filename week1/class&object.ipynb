{
 "cells": [
  {
   "cell_type": "code",
   "execution_count": 23,
   "metadata": {},
   "outputs": [],
   "source": [
    "class Stack:\n",
    "    \"\"\"\n",
    "    A Last-In-First-Out (LIFO) data structure implemented using a Python list.\n",
    "\n",
    "    Attributes:\n",
    "        __a (list): The internal list used to store the stack elements.\n",
    "    \"\"\"\n",
    "\n",
    "    def __init__(self) -> None:\n",
    "        \"\"\"\n",
    "        Initializes an empty stack.\n",
    "        \"\"\"\n",
    "        self.__a = []\n",
    "\n",
    "    def pop(self):\n",
    "        \"\"\"\n",
    "        Removes and returns the element at the top of the stack (the last element added).\n",
    "\n",
    "        Returns:\n",
    "            The value at the top of the stack, or -1 if the stack is empty.\n",
    "        \"\"\"\n",
    "        if self.__a:\n",
    "            return self.__a.pop()\n",
    "        else:\n",
    "            return -1\n",
    "\n",
    "    def push(self, value):\n",
    "        \"\"\"\n",
    "        Adds a new element to the top of the stack.\n",
    "\n",
    "        Args:\n",
    "            value: The element to be pushed onto the stack.\n",
    "        \"\"\"\n",
    "        self.__a.append(value)\n",
    "\n",
    "    def peek(self):\n",
    "        \"\"\"\n",
    "        Returns the element at the top of the stack without removing it.\n",
    "\n",
    "        Returns:\n",
    "            The value at the top of the stack, or -1 if the stack is empty.\n",
    "        \"\"\"\n",
    "        if self.__a:\n",
    "            return self.__a[-1]\n",
    "        else:\n",
    "            return -1\n",
    "\n",
    "    def __str__(self):\n",
    "        \"\"\"\n",
    "        Returns a string representation of the stack (useful for debugging).\n",
    "\n",
    "        Returns:\n",
    "            A string representation of the stack contents.\n",
    "        \"\"\"\n",
    "        return str(self.__a)\n",
    "\n",
    "    def __dict__(self):\n",
    "        \"\"\"\n",
    "        Returns a dictionary representing the stack's attributes (for debugging).\n",
    "\n",
    "        Returns:\n",
    "            A dictionary containing the stack's attributes.\n",
    "        \"\"\"\n",
    "        return self.__dict__\n",
    "\n",
    "        \n",
    "        \n",
    "    "
   ]
  },
  {
   "cell_type": "code",
   "execution_count": 28,
   "metadata": {},
   "outputs": [
    {
     "name": "stdout",
     "output_type": "stream",
     "text": [
      "Top element: 30\n",
      "Stack: [10, 20, 30]\n"
     ]
    }
   ],
   "source": [
    "my_stack = Stack()\n",
    "\n",
    "# Push elements onto the stack\n",
    "my_stack.push(10)\n",
    "my_stack.push(20)\n",
    "my_stack.push(30)\n",
    "\n",
    "# Get the top element without removing it\n",
    "top_element = my_stack.peek()\n",
    "print(f\"Top element: {top_element}\")  \n",
    "\n",
    "# Print the stack contents (for demonstration)\n",
    "print(f\"Stack: {my_stack}\") "
   ]
  },
  {
   "cell_type": "code",
   "execution_count": 29,
   "metadata": {},
   "outputs": [
    {
     "name": "stdout",
     "output_type": "stream",
     "text": [
      "Valued removed : 30\n",
      "Stack: [10, 20]\n"
     ]
    }
   ],
   "source": [
    "value_removed = my_stack.pop()\n",
    "print(f\"Valued removed : {value_removed}\")\n",
    "# Print the stack contents after removing the element \n",
    "print(f\"Stack: {my_stack}\") "
   ]
  },
  {
   "cell_type": "code",
   "execution_count": null,
   "metadata": {},
   "outputs": [],
   "source": []
  }
 ],
 "metadata": {
  "kernelspec": {
   "display_name": "pdsa",
   "language": "python",
   "name": "python3"
  },
  "language_info": {
   "codemirror_mode": {
    "name": "ipython",
    "version": 3
   },
   "file_extension": ".py",
   "mimetype": "text/x-python",
   "name": "python",
   "nbconvert_exporter": "python",
   "pygments_lexer": "ipython3",
   "version": "3.11.0"
  }
 },
 "nbformat": 4,
 "nbformat_minor": 2
}
