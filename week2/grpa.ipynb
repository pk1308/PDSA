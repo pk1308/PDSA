{
 "cells": [
  {
   "cell_type": "code",
   "execution_count": 62,
   "id": "68644664",
   "metadata": {},
   "outputs": [],
   "source": [
    "def sort_list(L: list ):\n",
    "    if len(L) == 0:\n",
    "        return []\n",
    "    midpoint = len(L)//2\n",
    "    mid_value = L[midpoint]\n",
    "    lower_list = [low for low in L if low < mid_value]\n",
    "    mid_list = [mid for mid in L if mid == mid_value]\n",
    "    upper_list = [upper for upper in L if upper > mid_value]\n",
    "    return sort_list(lower_list) + mid_list + sort_list(upper_list)\n",
    "def sort_list_descending(L: list) -> list:\n",
    "    if len(L) == 0:\n",
    "        return []\n",
    "    midpoint = len(L)//2\n",
    "    mid_value = L[midpoint]\n",
    "    first_list = [first for first in L if int(first[1:]) > int(mid_value[1:])]\n",
    "    mid_list = [mid for mid in L if int(mid[1:]) == int(mid_value[1:])]\n",
    "    last_list = [last for last in L if int(last[1:]) < int(mid_value[1:])]\n",
    "    return sort_list_descending(first_list) + mid_list + sort_list_descending(last_list)\n",
    "\n",
    "def combinationSort(strList: list) -> list:\n",
    "    ascending_list , descending_list = [] , []\n",
    "    master_dict = {}\n",
    "    \n",
    "    for value in strList:\n",
    "        if value[0] in master_dict:\n",
    "            master_dict[value[0]].append(value)\n",
    "        else:\n",
    "            master_dict[value[0]] = [value]\n",
    "    sorted_keys = sort_list(list(master_dict.keys()))\n",
    "    for keys in sorted_keys:\n",
    "        value_to_add = master_dict.get(keys)\n",
    "        ascending_list.extend(value_to_add)\n",
    "        if len(value_to_add) > 1:\n",
    "            descending_list.extend(sort_list_descending(value_to_add))\n",
    "        else:\n",
    "            descending_list.extend(value_to_add)\n",
    "        \n",
    "    \n",
    "   \n",
    "    return ascending_list , descending_list \n",
    "    "
   ]
  },
  {
   "cell_type": "code",
   "execution_count": 63,
   "id": "c620bdc2",
   "metadata": {},
   "outputs": [],
   "source": [
    "mast_dict = combinationSort([\"d34\", \"g54\", \"d12\", \"b87\", \"g1\", \"c65\", \"g40\", \"g5\", \"d77\"])"
   ]
  },
  {
   "cell_type": "code",
   "execution_count": 64,
   "id": "8b8f84a6",
   "metadata": {},
   "outputs": [
    {
     "data": {
      "text/plain": [
       "(['b87', 'c65', 'd34', 'd12', 'd77', 'g54', 'g1', 'g40', 'g5'],\n",
       " ['b87', 'c65', 'd77', 'd34', 'd12', 'g54', 'g40', 'g5', 'g1'])"
      ]
     },
     "execution_count": 64,
     "metadata": {},
     "output_type": "execute_result"
    }
   ],
   "source": [
    "mast_dict"
   ]
  },
  {
   "cell_type": "code",
   "execution_count": 51,
   "id": "fbab4d26",
   "metadata": {},
   "outputs": [],
   "source": [
    "L = ['g54', 'g1', 'g40', 'g5']"
   ]
  },
  {
   "cell_type": "code",
   "execution_count": 57,
   "id": "d5689a40",
   "metadata": {},
   "outputs": [],
   "source": [
    "midpoint = len(L)//2\n",
    "mid_value = L[midpoint]\n",
    "first_list = [first for first in L if int(first[1:]) > int(mid_value[1:])]\n",
    "mid_list = [mid for mid in L if int(mid[1:]) == int(mid_value[1:])]\n",
    "last_list = [last for last in L if int(last[1:]) < int(mid_value[1:])]"
   ]
  },
  {
   "cell_type": "code",
   "execution_count": 58,
   "id": "6d64f5e2",
   "metadata": {},
   "outputs": [
    {
     "data": {
      "text/plain": [
       "['g54']"
      ]
     },
     "execution_count": 58,
     "metadata": {},
     "output_type": "execute_result"
    }
   ],
   "source": [
    "first_list"
   ]
  },
  {
   "cell_type": "code",
   "execution_count": 59,
   "id": "99b0f5a5",
   "metadata": {},
   "outputs": [
    {
     "data": {
      "text/plain": [
       "['g40']"
      ]
     },
     "execution_count": 59,
     "metadata": {},
     "output_type": "execute_result"
    }
   ],
   "source": [
    "mid_list"
   ]
  },
  {
   "cell_type": "code",
   "execution_count": 60,
   "id": "75d48592",
   "metadata": {},
   "outputs": [
    {
     "data": {
      "text/plain": [
       "['g1', 'g5']"
      ]
     },
     "execution_count": 60,
     "metadata": {},
     "output_type": "execute_result"
    }
   ],
   "source": [
    "last_list"
   ]
  },
  {
   "cell_type": "code",
   "execution_count": 24,
   "id": "4b9ae217",
   "metadata": {},
   "outputs": [],
   "source": [
    "def findLargest(L):\n",
    "    left , right = 0 , len(L)-1\n",
    "    if len(L) ==1:\n",
    "        return L[0]\n",
    "    \n",
    "    largest = -1 \n",
    "    while left < right:\n",
    "        midpoint = L[(left+right)//2]\n",
    "        largest = max(largest, L[left], L[right] , midpoint)  # Update largest if temp is greater\n",
    "        \n",
    "        if midpoint > L[left] :\n",
    "            left = (left+right)//2+1\n",
    "        else:\n",
    "            right = (left+right)//2-1\n",
    "    return largest"
   ]
  },
  {
   "cell_type": "code",
   "execution_count": 20,
   "id": "33826cab",
   "metadata": {},
   "outputs": [],
   "source": [
    "L =[7 ,8 ,2 ,4 ,5 ,6]"
   ]
  },
  {
   "cell_type": "code",
   "execution_count": 21,
   "id": "c8e01cac",
   "metadata": {},
   "outputs": [
    {
     "data": {
      "text/plain": [
       "8"
      ]
     },
     "execution_count": 21,
     "metadata": {},
     "output_type": "execute_result"
    }
   ],
   "source": [
    "findLargest(L)"
   ]
  },
  {
   "cell_type": "code",
   "execution_count": 22,
   "id": "0076956f",
   "metadata": {},
   "outputs": [],
   "source": [
    "L =[2 , 4 , 5 ,7 ,9]"
   ]
  },
  {
   "cell_type": "code",
   "execution_count": 23,
   "id": "8998c63c",
   "metadata": {},
   "outputs": [
    {
     "data": {
      "text/plain": [
       "9"
      ]
     },
     "execution_count": 23,
     "metadata": {},
     "output_type": "execute_result"
    }
   ],
   "source": [
    "findLargest(L)"
   ]
  },
  {
   "cell_type": "code",
   "execution_count": 10,
   "id": "39acbf1b",
   "metadata": {},
   "outputs": [],
   "source": [
    "left , right = 0 , len(L)-1"
   ]
  },
  {
   "cell_type": "code",
   "execution_count": 11,
   "id": "3b518ea3",
   "metadata": {},
   "outputs": [],
   "source": [
    "largest = -1 "
   ]
  },
  {
   "cell_type": "code",
   "execution_count": 18,
   "id": "2a06adc3",
   "metadata": {},
   "outputs": [
    {
     "data": {
      "text/plain": [
       "(3, 2)"
      ]
     },
     "execution_count": 18,
     "metadata": {},
     "output_type": "execute_result"
    }
   ],
   "source": [
    "left , right"
   ]
  },
  {
   "cell_type": "code",
   "execution_count": 16,
   "id": "68901593",
   "metadata": {},
   "outputs": [
    {
     "data": {
      "text/plain": [
       "9"
      ]
     },
     "execution_count": 16,
     "metadata": {},
     "output_type": "execute_result"
    }
   ],
   "source": [
    "midpoint = L[(left+right)//2]\n",
    "largest = max(largest, L[left], L[right] , midpoint)  # Update largest if temp is greater\n",
    "largest\n",
    "        "
   ]
  },
  {
   "cell_type": "code",
   "execution_count": 17,
   "id": "c6119a06",
   "metadata": {},
   "outputs": [],
   "source": [
    "if midpoint > L[left] :\n",
    "            left = (left+right)//2+1\n",
    "else:\n",
    "    right = (left+right)//2-1"
   ]
  },
  {
   "cell_type": "code",
   "execution_count": 27,
   "id": "b58af3b8",
   "metadata": {},
   "outputs": [],
   "source": [
    "def selectionsort(L : list) -> list :\n",
    "    number_of_elements = len(L)\n",
    "    if number_of_elements<= 1:\n",
    "        return L\n",
    "    for i in range(number_of_elements):\n",
    "        index_to_sort = i \n",
    "        for j in range(i+1, number_of_elements):\n",
    "            if L[j] < L[index_to_sort]:\n",
    "                L[j] , L[index_to_sort] = L[index_to_sort] , L[j]\n",
    "    return L"
   ]
  },
  {
   "cell_type": "code",
   "execution_count": 28,
   "id": "0faaf277",
   "metadata": {},
   "outputs": [
    {
     "data": {
      "text/plain": [
       "[2, 4, 5, 7, 9]"
      ]
     },
     "execution_count": 28,
     "metadata": {},
     "output_type": "execute_result"
    }
   ],
   "source": [
    "selectionsort(L)"
   ]
  },
  {
   "cell_type": "code",
   "execution_count": null,
   "id": "99980391",
   "metadata": {},
   "outputs": [],
   "source": []
  },
  {
   "cell_type": "code",
   "execution_count": 2,
   "id": "69c2cb77",
   "metadata": {},
   "outputs": [],
   "source": [
    "class MyList:\n",
    "    def __init__(self, data):\n",
    "        self.data = data\n",
    "    \n",
    "    def __len__(self):\n",
    "        return len(self.data)\n",
    "    \n",
    "    def __getitem__(self, index):\n",
    "        return self.data[index]\n",
    "    \n",
    "    def swap(self, indexA, other, indexB):\n",
    "        if isinstance(other, MyList):\n",
    "            self.data[indexA], other.data[indexB] = other.data[indexB], self.data[indexA]\n",
    "        else:\n",
    "            self.data[indexA], self.data[other] = self.data[other], self.data[indexA]"
   ]
  },
  {
   "cell_type": "code",
   "execution_count": 10,
   "id": "8fad9edd",
   "metadata": {},
   "outputs": [],
   "source": [
    "def mergeInPlace(first_list , second_list):\n",
    "    len_of_first , len_of_second = len(first_list) , len(second_list)\n",
    "    pointer_first , pointer_second = 0, 0 \n",
    "    \n",
    "    while pointer_first < len_of_first and pointer_second < len_of_second:\n",
    "        if first_list[pointer_first] <= second_list[pointer_second]:\n",
    "            pointer_first+=1 \n",
    "        else:\n",
    "            first_list.swap(pointer_first, second_list, pointer_second)\n",
    "        # temp pointer to sorted second list \n",
    "        k = pointer_second\n",
    "        while k < len_of_second-1 and second_list[k] > second_list[k+1]:\n",
    "            second_list.swap(k, second_list, k+1)\n",
    "            k+=1\n",
    "        pointer_first+=1\n",
    "    return first_list , second_list    "
   ]
  },
  {
   "cell_type": "code",
   "execution_count": 16,
   "id": "675283c1",
   "metadata": {},
   "outputs": [],
   "source": [
    "def mergeInPlace(first_list , second_list):\n",
    "    len_of_first , len_of_second = len(first_list) , len(second_list)\n",
    "    for first_index in range(len_of_first):\n",
    "        for second_index in range(len_of_second):\n",
    "            if first_list[first_index] > second_list[second_index]:\n",
    "                first_list.swap(first_index, second_list, second_index)\n",
    "    for second_index in range(len_of_second):\n",
    "        for j in range(second_index+1, len_of_second):\n",
    "            if second_list[second_index] > second_list[j]:\n",
    "                second_list.swap(second_index, second_list, j)\n",
    "    return first_list , second_list    "
   ]
  },
  {
   "cell_type": "code",
   "execution_count": 17,
   "id": "43164bd7",
   "metadata": {},
   "outputs": [
    {
     "name": "stdout",
     "output_type": "stream",
     "text": [
      "[1, 2, 3, 4, 5, 6]\n",
      "[9, 10, 13, 15]\n"
     ]
    }
   ],
   "source": [
    "A = MyList([2,4 ,6 ,9 ,13 ,15])\n",
    "B = MyList([1 ,3 ,5 ,10])\n",
    "mergeInPlace(A, B)\n",
    "print(A.data)  # Output: [1, 2, 3]\n",
    "print(B.data)  # Output: [4, 5, 6]\n"
   ]
  },
  {
   "cell_type": "code",
   "execution_count": null,
   "id": "3699b278",
   "metadata": {},
   "outputs": [],
   "source": []
  }
 ],
 "metadata": {
  "kernelspec": {
   "display_name": "Python 3",
   "language": "python",
   "name": "python3"
  },
  "language_info": {
   "codemirror_mode": {
    "name": "ipython",
    "version": 3
   },
   "file_extension": ".py",
   "mimetype": "text/x-python",
   "name": "python",
   "nbconvert_exporter": "python",
   "pygments_lexer": "ipython3",
   "version": "3.11.9"
  }
 },
 "nbformat": 4,
 "nbformat_minor": 5
}
