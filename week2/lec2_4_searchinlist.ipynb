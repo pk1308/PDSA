{
 "cells": [
  {
   "cell_type": "code",
   "execution_count": 1,
   "metadata": {},
   "outputs": [
    {
     "name": "stderr",
     "output_type": "stream",
     "text": [
      "\u001b[32m2024-05-08 17:13:40.450\u001b[0m | \u001b[1mINFO    \u001b[0m | \u001b[36m__main__\u001b[0m:\u001b[36m<module>\u001b[0m:\u001b[36m38\u001b[0m - \u001b[1mtime taken:1.1658004950731993e-05\u001b[0m\n"
     ]
    }
   ],
   "source": [
    "\n",
    "import sys\n",
    "from loguru import logger as lg \n",
    "import random\n",
    "import time\n",
    "\n",
    "\n",
    "class TimerError(Exception):\n",
    "    def __init__(self) -> None:\n",
    "        self._start_time = None \n",
    "        self._stop_time = None \n",
    "        self.elapsed_time = None\n",
    "        \n",
    "    def start(self):\n",
    "        if self._start_time != None:\n",
    "            raise TimerError(\" please stop the timer\")\n",
    "        self._start_time = time.perf_counter()\n",
    "        self._stop_time = None\n",
    "    \n",
    "    def stop(self):\n",
    "        if self._start_time == None:\n",
    "            raise TimerError(\"please start the timer\")\n",
    "        self._stop_time = time.perf_counter()\n",
    "        self.elapsed_time = self._stop_time - self._start_time\n",
    "        self._start_time = None \n",
    "    def elapsed(self):\n",
    "        if self.elapsed == None and self._start_time== None:\n",
    "            raise TimerError(\"the counter not running\")\n",
    "        else:\n",
    "            self.stop()\n",
    "            return self.elapsed_time\n",
    "    def __str__(self) -> str:\n",
    "        return (str(self.elapsed_time))\n",
    "\n",
    "\n",
    "T =TimerError()\n",
    "T.start()\n",
    "end_time = T.elapsed()\n",
    "lg.info(f\"time taken:{end_time}\")"
   ]
  },
  {
   "cell_type": "code",
   "execution_count": 2,
   "metadata": {},
   "outputs": [],
   "source": [
    "L = [ random.randint(1,1000000000) for i in range(10000)]"
   ]
  },
  {
   "cell_type": "code",
   "execution_count": 3,
   "metadata": {},
   "outputs": [],
   "source": [
    "v = random.randint(1,1000000)"
   ]
  },
  {
   "cell_type": "markdown",
   "metadata": {},
   "source": [
    "# Naive Approach "
   ]
  },
  {
   "cell_type": "code",
   "execution_count": 4,
   "metadata": {},
   "outputs": [],
   "source": [
    "def naive_search(V,L):\n",
    "    for x in L:\n",
    "        if V==x:\n",
    "            return True \n",
    "    else:\n",
    "        return False \n",
    "    \n",
    "    "
   ]
  },
  {
   "cell_type": "markdown",
   "metadata": {},
   "source": [
    "complexity = O(n)"
   ]
  },
  {
   "cell_type": "code",
   "execution_count": 5,
   "metadata": {},
   "outputs": [
    {
     "name": "stderr",
     "output_type": "stream",
     "text": [
      "\u001b[32m2024-05-08 17:13:40.480\u001b[0m | \u001b[1mINFO    \u001b[0m | \u001b[36m__main__\u001b[0m:\u001b[36m<module>\u001b[0m:\u001b[36m6\u001b[0m - \u001b[1mtime taken:0.00020517699886113405\u001b[0m\n"
     ]
    },
    {
     "name": "stdout",
     "output_type": "stream",
     "text": [
      "length of L :10000\n",
      "False\n"
     ]
    }
   ],
   "source": [
    "T =TimerError()\n",
    "T.start()\n",
    "print(f\"length of L :{len(L)}\")\n",
    "print(naive_search(v,L))\n",
    "end_time = T.elapsed()\n",
    "lg.info(f\"time taken:{end_time}\")"
   ]
  },
  {
   "cell_type": "markdown",
   "metadata": {},
   "source": [
    "# binary search "
   ]
  },
  {
   "cell_type": "markdown",
   "metadata": {},
   "source": [
    "# sorting function "
   ]
  },
  {
   "cell_type": "code",
   "execution_count": 6,
   "metadata": {},
   "outputs": [],
   "source": [
    "def sort_list(L: list):\n",
    "    if len(L) ==0:\n",
    "        return []\n",
    "    midpoint = len(L)//2\n",
    "    mid_value = L[midpoint]\n",
    "    lower_list = [low for low in L if low < mid_value]\n",
    "    mid_list = [mid for mid in L if mid == mid_value]\n",
    "    upper_list = [ upper for  upper in L if  upper > mid_value]\n",
    "    return sort_list(lower_list)+mid_list+sort_list(upper_list)"
   ]
  },
  {
   "cell_type": "code",
   "execution_count": 7,
   "metadata": {},
   "outputs": [],
   "source": [
    "midpoint = len(L)//2\n",
    "mid_value = L[midpoint]"
   ]
  },
  {
   "cell_type": "code",
   "execution_count": 8,
   "metadata": {},
   "outputs": [
    {
     "name": "stderr",
     "output_type": "stream",
     "text": [
      "\u001b[32m2024-05-08 17:13:40.512\u001b[0m | \u001b[1mINFO    \u001b[0m | \u001b[36m__main__\u001b[0m:\u001b[36m<module>\u001b[0m:\u001b[36m6\u001b[0m - \u001b[1mtime taken:0.012002756993751973\u001b[0m\n"
     ]
    },
    {
     "name": "stdout",
     "output_type": "stream",
     "text": [
      "length of L :10000\n"
     ]
    }
   ],
   "source": [
    "T =TimerError()\n",
    "T.start()\n",
    "print(f\"length of L :{len(L)}\")\n",
    "sort_list(L)\n",
    "end_time = T.elapsed()\n",
    "lg.info(f\"time taken:{end_time}\")"
   ]
  },
  {
   "cell_type": "code",
   "execution_count": 9,
   "metadata": {},
   "outputs": [],
   "source": [
    "def sort_list(L: list) -> list:\n",
    "  \"\"\"Sorts a list of numbers in ascending order using Quicksort algorithm.\n",
    "\n",
    "  Args:\n",
    "      L: The list to be sorted.\n",
    "\n",
    "  Returns:\n",
    "      A new list containing the sorted elements of the original list.\n",
    "  \"\"\"\n",
    "\n",
    "  if len(L) <= 1:\n",
    "    return L\n",
    "\n",
    "  midpoint = len(L) // 2\n",
    "  mid_value = L[midpoint]\n",
    "  lower_list = sort_list([low for low in L if low < mid_value])\n",
    "  upper_list = sort_list([upper for upper in L if upper > mid_value])\n",
    "  mid_list = [mid for mid in L if mid == mid_value]\n",
    "  return lower_list + mid_list + upper_list"
   ]
  },
  {
   "cell_type": "code",
   "execution_count": 10,
   "metadata": {},
   "outputs": [
    {
     "name": "stderr",
     "output_type": "stream",
     "text": [
      "\u001b[32m2024-05-08 17:13:40.538\u001b[0m | \u001b[1mINFO    \u001b[0m | \u001b[36m__main__\u001b[0m:\u001b[36m<module>\u001b[0m:\u001b[36m6\u001b[0m - \u001b[1mtime taken:0.009969204023946077\u001b[0m\n"
     ]
    },
    {
     "name": "stdout",
     "output_type": "stream",
     "text": [
      "length of L :10000\n"
     ]
    }
   ],
   "source": [
    "T =TimerError()\n",
    "T.start()\n",
    "print(f\"length of L :{len(L)}\")\n",
    "L = sort_list(L)\n",
    "end_time = T.elapsed()\n",
    "lg.info(f\"time taken:{end_time}\")"
   ]
  },
  {
   "cell_type": "code",
   "execution_count": 11,
   "metadata": {},
   "outputs": [],
   "source": [
    "def binarysearch(v: int ,L : list)-> bool:\n",
    "    \n",
    "    if not L:\n",
    "        return False \n",
    "    midpoint = len(L) // 2\n",
    "    \n",
    "    if v == L[midpoint]:\n",
    "        return True \n",
    "    if v < L[midpoint]:\n",
    "        return binarysearch(v, L[:midpoint])\n",
    "    else:\n",
    "        return binarysearch(v, L[midpoint+1:])"
   ]
  },
  {
   "cell_type": "code",
   "execution_count": 12,
   "metadata": {},
   "outputs": [
    {
     "name": "stderr",
     "output_type": "stream",
     "text": [
      "\u001b[32m2024-05-08 17:13:40.554\u001b[0m | \u001b[1mINFO    \u001b[0m | \u001b[36m__main__\u001b[0m:\u001b[36m<module>\u001b[0m:\u001b[36m6\u001b[0m - \u001b[1mtime taken:0.0001781220198608935\u001b[0m\n"
     ]
    },
    {
     "name": "stdout",
     "output_type": "stream",
     "text": [
      "length of L :10000\n",
      "False\n"
     ]
    }
   ],
   "source": [
    "T =TimerError()\n",
    "T.start()\n",
    "print(f\"length of L :{len(L)}\")\n",
    "print(binarysearch(v,L))\n",
    "end_time = T.elapsed()\n",
    "lg.info(f\"time taken:{end_time}\")"
   ]
  },
  {
   "cell_type": "markdown",
   "metadata": {},
   "source": [
    "Complexity = O(logn)"
   ]
  }
 ],
 "metadata": {
  "kernelspec": {
   "display_name": "pdsa",
   "language": "python",
   "name": "python3"
  },
  "language_info": {
   "codemirror_mode": {
    "name": "ipython",
    "version": 3
   },
   "file_extension": ".py",
   "mimetype": "text/x-python",
   "name": "python",
   "nbconvert_exporter": "python",
   "pygments_lexer": "ipython3",
   "version": "3.11.0"
  }
 },
 "nbformat": 4,
 "nbformat_minor": 2
}
