{
 "cells": [
  {
   "metadata": {
    "ExecuteTime": {
     "end_time": "2024-12-06T03:40:59.046412Z",
     "start_time": "2024-12-06T03:40:59.042550Z"
    }
   },
   "cell_type": "code",
   "source": [
    "a = [1, 5 ,3, 4]\n",
    "b = [2, 3, 5,6]"
   ],
   "id": "a70cd2a0c2fca983",
   "outputs": [],
   "execution_count": 2
  },
  {
   "metadata": {
    "ExecuteTime": {
     "end_time": "2024-12-06T03:40:59.292985Z",
     "start_time": "2024-12-06T03:40:59.289690Z"
    }
   },
   "cell_type": "code",
   "source": "c = a.copy()",
   "id": "f0df60ad372f67b0",
   "outputs": [],
   "execution_count": 3
  },
  {
   "metadata": {
    "ExecuteTime": {
     "end_time": "2024-12-06T03:40:59.519662Z",
     "start_time": "2024-12-06T03:40:59.513828Z"
    }
   },
   "cell_type": "code",
   "source": "id(a)",
   "id": "61effdb1bf00e1a5",
   "outputs": [
    {
     "data": {
      "text/plain": [
       "140276286346432"
      ]
     },
     "execution_count": 4,
     "metadata": {},
     "output_type": "execute_result"
    }
   ],
   "execution_count": 4
  },
  {
   "metadata": {
    "ExecuteTime": {
     "end_time": "2024-12-06T03:40:59.688060Z",
     "start_time": "2024-12-06T03:40:59.671546Z"
    }
   },
   "cell_type": "code",
   "source": "id(d)",
   "id": "549390c4b7f23cb1",
   "outputs": [
    {
     "ename": "NameError",
     "evalue": "name 'd' is not defined",
     "output_type": "error",
     "traceback": [
      "\u001B[0;31m---------------------------------------------------------------------------\u001B[0m",
      "\u001B[0;31mNameError\u001B[0m                                 Traceback (most recent call last)",
      "Cell \u001B[0;32mIn[5], line 1\u001B[0m\n\u001B[0;32m----> 1\u001B[0m \u001B[38;5;28mid\u001B[39m(d)\n",
      "\u001B[0;31mNameError\u001B[0m: name 'd' is not defined"
     ]
    }
   ],
   "execution_count": 5
  },
  {
   "metadata": {
    "ExecuteTime": {
     "end_time": "2024-12-06T03:40:59.875839Z",
     "start_time": "2024-12-06T03:40:59.871740Z"
    }
   },
   "cell_type": "code",
   "source": "id(c)",
   "id": "6f3f1888ce286dc5",
   "outputs": [
    {
     "data": {
      "text/plain": [
       "140275634791872"
      ]
     },
     "execution_count": 6,
     "metadata": {},
     "output_type": "execute_result"
    }
   ],
   "execution_count": 6
  },
  {
   "metadata": {
    "ExecuteTime": {
     "end_time": "2024-12-06T03:41:00.048090Z",
     "start_time": "2024-12-06T03:41:00.043854Z"
    }
   },
   "cell_type": "code",
   "source": "d = a",
   "id": "48f0a73981805de5",
   "outputs": [],
   "execution_count": 7
  },
  {
   "metadata": {
    "ExecuteTime": {
     "end_time": "2024-12-06T03:41:00.209465Z",
     "start_time": "2024-12-06T03:41:00.205589Z"
    }
   },
   "cell_type": "code",
   "source": "a[-1] = 55",
   "id": "8e5fdd1af69479f7",
   "outputs": [],
   "execution_count": 8
  },
  {
   "metadata": {
    "ExecuteTime": {
     "end_time": "2024-12-06T03:41:00.404724Z",
     "start_time": "2024-12-06T03:41:00.398948Z"
    }
   },
   "cell_type": "code",
   "source": "c",
   "id": "d5ddd4a69a4320b8",
   "outputs": [
    {
     "data": {
      "text/plain": [
       "[1, 5, 3, 4]"
      ]
     },
     "execution_count": 9,
     "metadata": {},
     "output_type": "execute_result"
    }
   ],
   "execution_count": 9
  },
  {
   "metadata": {
    "ExecuteTime": {
     "end_time": "2024-12-06T03:41:05.234526Z",
     "start_time": "2024-12-06T03:41:05.230799Z"
    }
   },
   "cell_type": "code",
   "source": "d",
   "id": "45055b8045e47a76",
   "outputs": [
    {
     "data": {
      "text/plain": [
       "[1, 5, 3, 55]"
      ]
     },
     "execution_count": 10,
     "metadata": {},
     "output_type": "execute_result"
    }
   ],
   "execution_count": 10
  },
  {
   "metadata": {
    "ExecuteTime": {
     "end_time": "2024-12-06T03:41:05.510173Z",
     "start_time": "2024-12-06T03:41:05.506965Z"
    }
   },
   "cell_type": "code",
   "source": [
    "a\n",
    "for index,(i,j) in enumerate(zip(a,b)):\n",
    "    print(i,j)"
   ],
   "id": "953b68928371df9",
   "outputs": [
    {
     "name": "stdout",
     "output_type": "stream",
     "text": [
      "1 2\n",
      "5 3\n",
      "3 5\n",
      "55 6\n"
     ]
    }
   ],
   "execution_count": 11
  },
  {
   "metadata": {
    "ExecuteTime": {
     "end_time": "2024-12-06T03:41:05.981473Z",
     "start_time": "2024-12-06T03:41:05.979408Z"
    }
   },
   "cell_type": "code",
   "source": "# linklist",
   "id": "5e4bb8f694f2e50f",
   "outputs": [],
   "execution_count": 12
  },
  {
   "metadata": {
    "ExecuteTime": {
     "end_time": "2024-12-06T03:41:06.411642Z",
     "start_time": "2024-12-06T03:41:06.408949Z"
    }
   },
   "cell_type": "code",
   "source": [
    "class Node:\n",
    "    def __init__(self, data):\n",
    "        self.data = data\n",
    "        self.next = None"
   ],
   "id": "78b3f628597d38b3",
   "outputs": [],
   "execution_count": 13
  },
  {
   "metadata": {
    "ExecuteTime": {
     "end_time": "2024-12-06T03:41:06.827905Z",
     "start_time": "2024-12-06T03:41:06.824416Z"
    }
   },
   "cell_type": "code",
   "source": [
    "import random\n",
    "\n",
    "base_list = [random.randint(1,100) for i in range(10)]"
   ],
   "id": "96ab257f31695201",
   "outputs": [],
   "execution_count": 14
  },
  {
   "metadata": {
    "ExecuteTime": {
     "end_time": "2024-12-06T03:41:07.194533Z",
     "start_time": "2024-12-06T03:41:07.190359Z"
    }
   },
   "cell_type": "code",
   "source": "base_list",
   "id": "8f2cf878e7722b45",
   "outputs": [
    {
     "data": {
      "text/plain": [
       "[49, 48, 76, 45, 89, 62, 14, 33, 45, 92]"
      ]
     },
     "execution_count": 15,
     "metadata": {},
     "output_type": "execute_result"
    }
   ],
   "execution_count": 15
  },
  {
   "metadata": {
    "ExecuteTime": {
     "end_time": "2024-12-06T03:41:07.626495Z",
     "start_time": "2024-12-06T03:41:07.622564Z"
    }
   },
   "cell_type": "code",
   "source": [
    "head = Node(base_list[0])\n",
    "head.data"
   ],
   "id": "844d7f37d55a0201",
   "outputs": [
    {
     "data": {
      "text/plain": [
       "49"
      ]
     },
     "execution_count": 16,
     "metadata": {},
     "output_type": "execute_result"
    }
   ],
   "execution_count": 16
  },
  {
   "metadata": {
    "ExecuteTime": {
     "end_time": "2024-12-06T03:41:08.027445Z",
     "start_time": "2024-12-06T03:41:08.024996Z"
    }
   },
   "cell_type": "code",
   "source": "head.next",
   "id": "cfa7ed7d6cef56e8",
   "outputs": [],
   "execution_count": 17
  },
  {
   "metadata": {
    "ExecuteTime": {
     "end_time": "2024-12-06T03:41:08.381822Z",
     "start_time": "2024-12-06T03:41:08.378920Z"
    }
   },
   "cell_type": "code",
   "source": [
    "temp = Node(base_list[-1])\n",
    "head.next = temp"
   ],
   "id": "a1a80fbe682a7c1c",
   "outputs": [],
   "execution_count": 18
  },
  {
   "metadata": {
    "ExecuteTime": {
     "end_time": "2024-12-06T03:41:08.751Z",
     "start_time": "2024-12-06T03:41:08.746917Z"
    }
   },
   "cell_type": "code",
   "source": "head.next.data",
   "id": "7ef9362a48afaf14",
   "outputs": [
    {
     "data": {
      "text/plain": [
       "92"
      ]
     },
     "execution_count": 19,
     "metadata": {},
     "output_type": "execute_result"
    }
   ],
   "execution_count": 19
  },
  {
   "metadata": {
    "ExecuteTime": {
     "end_time": "2024-12-06T03:41:09.115464Z",
     "start_time": "2024-12-06T03:41:09.112427Z"
    }
   },
   "cell_type": "code",
   "source": "head.next.next",
   "id": "11e011d60b0b0352",
   "outputs": [],
   "execution_count": 20
  },
  {
   "metadata": {
    "ExecuteTime": {
     "end_time": "2024-12-06T03:41:09.431773Z",
     "start_time": "2024-12-06T03:41:09.428602Z"
    }
   },
   "cell_type": "code",
   "source": [
    "curr = head\n",
    "\n",
    "curr = curr.next"
   ],
   "id": "f2d0b63c061dc025",
   "outputs": [],
   "execution_count": 21
  },
  {
   "metadata": {
    "ExecuteTime": {
     "end_time": "2024-12-06T03:41:09.843644Z",
     "start_time": "2024-12-06T03:41:09.839641Z"
    }
   },
   "cell_type": "code",
   "source": "head.data",
   "id": "42dd2639aa019fa3",
   "outputs": [
    {
     "data": {
      "text/plain": [
       "49"
      ]
     },
     "execution_count": 22,
     "metadata": {},
     "output_type": "execute_result"
    }
   ],
   "execution_count": 22
  },
  {
   "metadata": {
    "ExecuteTime": {
     "end_time": "2024-12-06T03:41:10.214582Z",
     "start_time": "2024-12-06T03:41:10.211926Z"
    }
   },
   "cell_type": "code",
   "source": "curr.next = Node(base_list[-2])",
   "id": "ffa8c6ea7eff1b3d",
   "outputs": [],
   "execution_count": 23
  },
  {
   "metadata": {
    "ExecuteTime": {
     "end_time": "2024-12-06T03:41:10.584646Z",
     "start_time": "2024-12-06T03:41:10.580937Z"
    }
   },
   "cell_type": "code",
   "source": "curr.next.data",
   "id": "578c24cb8c645156",
   "outputs": [
    {
     "data": {
      "text/plain": [
       "45"
      ]
     },
     "execution_count": 24,
     "metadata": {},
     "output_type": "execute_result"
    }
   ],
   "execution_count": 24
  },
  {
   "metadata": {
    "ExecuteTime": {
     "end_time": "2024-12-06T03:41:11.025453Z",
     "start_time": "2024-12-06T03:41:11.021297Z"
    }
   },
   "cell_type": "code",
   "source": "head.next.next.data",
   "id": "2dfe5f5d1be6aebe",
   "outputs": [
    {
     "data": {
      "text/plain": [
       "45"
      ]
     },
     "execution_count": 25,
     "metadata": {},
     "output_type": "execute_result"
    }
   ],
   "execution_count": 25
  },
  {
   "metadata": {
    "ExecuteTime": {
     "end_time": "2024-12-06T03:41:11.463954Z",
     "start_time": "2024-12-06T03:41:11.460524Z"
    }
   },
   "cell_type": "code",
   "source": [
    "def peak_unimodal(L):\n",
    "\n",
    "    left , right = 0 , len(L)-1\n",
    "\n",
    "    while left < right:\n",
    "        print (f\" left index: {left } value :{L[left]} , right index : {right} value : {L[right]}\")\n",
    "        mid = (left+right)//2\n",
    "        if L[mid] > L[mid+1]:\n",
    "            right = mid\n",
    "        else:\n",
    "            left = mid+1\n",
    "    return left"
   ],
   "id": "6e78082ed7456927",
   "outputs": [],
   "execution_count": 26
  },
  {
   "metadata": {
    "ExecuteTime": {
     "end_time": "2024-12-06T03:41:12.066914Z",
     "start_time": "2024-12-06T03:41:12.064060Z"
    }
   },
   "cell_type": "code",
   "source": [
    "L =  [2, 3, 4, 21, 43, 52, 51, 18, 11, 9, 6, 5, 1]\n",
    "\n",
    "peak = peak_unimodal(L)"
   ],
   "id": "4b2952b4f2114244",
   "outputs": [
    {
     "name": "stdout",
     "output_type": "stream",
     "text": [
      " left index: 0 value :2 , right index : 12 value : 1\n",
      " left index: 0 value :2 , right index : 6 value : 51\n",
      " left index: 4 value :43 , right index : 6 value : 51\n",
      " left index: 4 value :43 , right index : 5 value : 52\n"
     ]
    }
   ],
   "execution_count": 27
  },
  {
   "metadata": {
    "ExecuteTime": {
     "end_time": "2024-12-06T03:41:12.662305Z",
     "start_time": "2024-12-06T03:41:12.659048Z"
    }
   },
   "cell_type": "code",
   "source": "peak",
   "id": "bfe5d8d12f89f95",
   "outputs": [
    {
     "data": {
      "text/plain": [
       "5"
      ]
     },
     "execution_count": 28,
     "metadata": {},
     "output_type": "execute_result"
    }
   ],
   "execution_count": 28
  },
  {
   "metadata": {
    "ExecuteTime": {
     "end_time": "2024-12-06T03:41:13.181790Z",
     "start_time": "2024-12-06T03:41:13.178479Z"
    }
   },
   "cell_type": "code",
   "source": [
    "import heapq\n",
    "import random\n",
    "L=  [ random.randint(1,1000) for i in range(100)]\n",
    "print(L)\n",
    "heapq.heapify(L)"
   ],
   "id": "fbf254942038afc",
   "outputs": [
    {
     "name": "stdout",
     "output_type": "stream",
     "text": [
      "[80, 747, 630, 771, 495, 507, 846, 495, 176, 119, 335, 208, 614, 460, 509, 325, 206, 924, 423, 764, 92, 345, 14, 672, 699, 716, 759, 20, 349, 551, 948, 499, 557, 131, 198, 169, 151, 687, 85, 394, 997, 235, 331, 124, 655, 277, 559, 94, 414, 224, 600, 368, 307, 406, 467, 998, 269, 374, 667, 399, 192, 532, 797, 282, 129, 390, 919, 739, 895, 734, 972, 335, 941, 125, 955, 891, 310, 550, 805, 237, 191, 596, 314, 987, 24, 933, 784, 177, 471, 481, 643, 695, 808, 182, 766, 893, 82, 765, 913, 36]\n"
     ]
    }
   ],
   "execution_count": 29
  },
  {
   "metadata": {
    "ExecuteTime": {
     "end_time": "2024-12-06T03:41:13.990750Z",
     "start_time": "2024-12-06T03:41:13.986920Z"
    }
   },
   "cell_type": "code",
   "source": "L[0]",
   "id": "a2a23a8e7ec27f9e",
   "outputs": [
    {
     "data": {
      "text/plain": [
       "14"
      ]
     },
     "execution_count": 30,
     "metadata": {},
     "output_type": "execute_result"
    }
   ],
   "execution_count": 30
  },
  {
   "metadata": {
    "ExecuteTime": {
     "end_time": "2024-12-06T03:41:14.546832Z",
     "start_time": "2024-12-06T03:41:14.543269Z"
    }
   },
   "cell_type": "code",
   "source": "L",
   "id": "3536e60c1045ddba",
   "outputs": [
    {
     "data": {
      "text/plain": [
       "[14,\n",
       " 24,\n",
       " 20,\n",
       " 85,\n",
       " 80,\n",
       " 36,\n",
       " 192,\n",
       " 129,\n",
       " 125,\n",
       " 92,\n",
       " 124,\n",
       " 82,\n",
       " 307,\n",
       " 269,\n",
       " 399,\n",
       " 282,\n",
       " 131,\n",
       " 151,\n",
       " 176,\n",
       " 191,\n",
       " 119,\n",
       " 177,\n",
       " 182,\n",
       " 94,\n",
       " 208,\n",
       " 368,\n",
       " 406,\n",
       " 460,\n",
       " 349,\n",
       " 509,\n",
       " 532,\n",
       " 325,\n",
       " 390,\n",
       " 206,\n",
       " 198,\n",
       " 169,\n",
       " 771,\n",
       " 310,\n",
       " 423,\n",
       " 237,\n",
       " 314,\n",
       " 235,\n",
       " 331,\n",
       " 345,\n",
       " 481,\n",
       " 277,\n",
       " 335,\n",
       " 507,\n",
       " 414,\n",
       " 224,\n",
       " 600,\n",
       " 614,\n",
       " 716,\n",
       " 759,\n",
       " 467,\n",
       " 998,\n",
       " 846,\n",
       " 374,\n",
       " 667,\n",
       " 630,\n",
       " 551,\n",
       " 948,\n",
       " 797,\n",
       " 495,\n",
       " 499,\n",
       " 557,\n",
       " 919,\n",
       " 739,\n",
       " 895,\n",
       " 734,\n",
       " 972,\n",
       " 335,\n",
       " 941,\n",
       " 924,\n",
       " 955,\n",
       " 891,\n",
       " 687,\n",
       " 550,\n",
       " 805,\n",
       " 764,\n",
       " 394,\n",
       " 596,\n",
       " 997,\n",
       " 987,\n",
       " 747,\n",
       " 933,\n",
       " 784,\n",
       " 495,\n",
       " 471,\n",
       " 655,\n",
       " 643,\n",
       " 695,\n",
       " 808,\n",
       " 559,\n",
       " 766,\n",
       " 893,\n",
       " 672,\n",
       " 765,\n",
       " 913,\n",
       " 699]"
      ]
     },
     "execution_count": 31,
     "metadata": {},
     "output_type": "execute_result"
    }
   ],
   "execution_count": 31
  },
  {
   "metadata": {
    "ExecuteTime": {
     "end_time": "2024-12-06T03:41:15.048217Z",
     "start_time": "2024-12-06T03:41:15.044574Z"
    }
   },
   "cell_type": "code",
   "source": [
    "def dijkstra_1(Wlist, S, blocked_edge=None):\n",
    "    priority_queue = []\n",
    "    distance = {v: float('inf') for v in Wlist.keys()}\n",
    "    distance[S] = 0\n",
    "    heapq.heappush(priority_queue, (0, S))\n",
    "\n",
    "    while priority_queue:\n",
    "        current_dist, u = heapq.heappop(priority_queue)\n",
    "        if current_dist > distance[u]:\n",
    "            continue\n",
    "\n",
    "        for v, weight in Wlist[u]:\n",
    "            if blocked_edge and (u, v) == blocked_edge:\n",
    "                continue  # Skip the blocked edge\n",
    "\n",
    "            new_dist = current_dist + weight\n",
    "\n",
    "            if new_dist < distance[v]:\n",
    "                distance[v] = new_dist\n",
    "                heapq.heappush(priority_queue, (new_dist, v))\n",
    "\n",
    "    return distance"
   ],
   "id": "5769d4097612655b",
   "outputs": [],
   "execution_count": 32
  },
  {
   "metadata": {
    "ExecuteTime": {
     "end_time": "2024-12-06T03:41:15.439554Z",
     "start_time": "2024-12-06T03:41:15.436250Z"
    }
   },
   "cell_type": "code",
   "source": "L=  [ random.randint(1,1000) for i in range(10)]",
   "id": "cb0dab6b863b7f8e",
   "outputs": [],
   "execution_count": 33
  },
  {
   "metadata": {
    "ExecuteTime": {
     "end_time": "2024-12-06T03:41:15.880309Z",
     "start_time": "2024-12-06T03:41:15.875590Z"
    }
   },
   "cell_type": "code",
   "source": "L",
   "id": "211461054ce64fa2",
   "outputs": [
    {
     "data": {
      "text/plain": [
       "[806, 922, 80, 182, 368, 737, 268, 666, 242, 852]"
      ]
     },
     "execution_count": 34,
     "metadata": {},
     "output_type": "execute_result"
    }
   ],
   "execution_count": 34
  },
  {
   "metadata": {
    "ExecuteTime": {
     "end_time": "2024-12-06T03:41:16.787590Z",
     "start_time": "2024-12-06T03:41:16.767251Z"
    }
   },
   "cell_type": "code",
   "source": [
    "import bisect\n",
    "\n",
    "bisect.insort_left()"
   ],
   "id": "840fc5a4588017f8",
   "outputs": [
    {
     "ename": "TypeError",
     "evalue": "insort_left() missing required argument 'a' (pos 1)",
     "output_type": "error",
     "traceback": [
      "\u001B[0;31m---------------------------------------------------------------------------\u001B[0m",
      "\u001B[0;31mTypeError\u001B[0m                                 Traceback (most recent call last)",
      "Cell \u001B[0;32mIn[35], line 3\u001B[0m\n\u001B[1;32m      1\u001B[0m \u001B[38;5;28;01mimport\u001B[39;00m \u001B[38;5;21;01mbisect\u001B[39;00m\n\u001B[0;32m----> 3\u001B[0m bisect\u001B[38;5;241m.\u001B[39minsort_left()\n",
      "\u001B[0;31mTypeError\u001B[0m: insort_left() missing required argument 'a' (pos 1)"
     ]
    }
   ],
   "execution_count": 35
  },
  {
   "metadata": {
    "ExecuteTime": {
     "end_time": "2024-12-06T03:41:22.454963Z",
     "start_time": "2024-12-06T03:41:22.450195Z"
    }
   },
   "cell_type": "code",
   "source": "L",
   "id": "82f71e96b7a2ab3d",
   "outputs": [
    {
     "data": {
      "text/plain": [
       "[806, 922, 80, 182, 368, 737, 268, 666, 242, 852]"
      ]
     },
     "execution_count": 36,
     "metadata": {},
     "output_type": "execute_result"
    }
   ],
   "execution_count": 36
  },
  {
   "metadata": {
    "ExecuteTime": {
     "end_time": "2024-12-06T03:41:23.494806Z",
     "start_time": "2024-12-06T03:41:23.490608Z"
    }
   },
   "cell_type": "code",
   "source": [
    "# Python code to demonstrate the working of\n",
    "# bisect(), bisect_left() and bisect_right()\n",
    "\n",
    "# importing \"bisect\" for bisection operations\n",
    "import bisect\n",
    "\n",
    "# initializing list\n",
    "li = [1, 3, 4, 4, 4, 6, 7]\n",
    "\n",
    "# using bisect() to find index to insert new element\n",
    "# returns 5 ( right most possible index )\n",
    "print (\"Rightmost index to insert, so list remains sorted is : \",\n",
    "\tend=\"\")\n",
    "print (bisect.bisect(li, 4))\n",
    "\n",
    "# using bisect_left() to find index to insert new element\n",
    "# returns 2 ( left most possible index )\n",
    "print (\"Leftmost index to insert, so list remains sorted is : \",\n",
    "\tend=\"\")\n",
    "print (bisect.bisect_left(li, 4))\n",
    "\n",
    "# using bisect_right() to find index to insert new element\n",
    "# returns 4 ( right most possible index )\n",
    "print (\"Rightmost index to insert, so list remains sorted is : \",\n",
    "\tend=\"\")\n",
    "print (bisect.bisect_right(li, 4, 0, 4))\n"
   ],
   "id": "e8c12572e0fcc6a",
   "outputs": [
    {
     "name": "stdout",
     "output_type": "stream",
     "text": [
      "Rightmost index to insert, so list remains sorted is : 5\n",
      "Leftmost index to insert, so list remains sorted is : 2\n",
      "Rightmost index to insert, so list remains sorted is : 4\n"
     ]
    }
   ],
   "execution_count": 37
  },
  {
   "metadata": {
    "ExecuteTime": {
     "end_time": "2024-12-06T03:41:24.717377Z",
     "start_time": "2024-12-06T03:41:24.714486Z"
    }
   },
   "cell_type": "code",
   "source": "L=  [ random.randint(1,1000) for i in range(10)]",
   "id": "2696a9b616d76e87",
   "outputs": [],
   "execution_count": 38
  },
  {
   "metadata": {
    "ExecuteTime": {
     "end_time": "2024-12-06T03:41:25.620636Z",
     "start_time": "2024-12-06T03:41:25.616739Z"
    }
   },
   "cell_type": "code",
   "source": "L",
   "id": "b923239fc42195db",
   "outputs": [
    {
     "data": {
      "text/plain": [
       "[849, 776, 107, 34, 465, 286, 311, 431, 296, 866]"
      ]
     },
     "execution_count": 39,
     "metadata": {},
     "output_type": "execute_result"
    }
   ],
   "execution_count": 39
  },
  {
   "metadata": {
    "ExecuteTime": {
     "end_time": "2024-12-06T03:41:26.572753Z",
     "start_time": "2024-12-06T03:41:26.569781Z"
    }
   },
   "cell_type": "code",
   "source": "L = [-i for i in L ]",
   "id": "339cdcc4cb53fceb",
   "outputs": [],
   "execution_count": 40
  },
  {
   "metadata": {
    "ExecuteTime": {
     "end_time": "2024-12-06T03:41:27.294555Z",
     "start_time": "2024-12-06T03:41:27.290966Z"
    }
   },
   "cell_type": "code",
   "source": "L",
   "id": "2043303babe5fc81",
   "outputs": [
    {
     "data": {
      "text/plain": [
       "[-849, -776, -107, -34, -465, -286, -311, -431, -296, -866]"
      ]
     },
     "execution_count": 41,
     "metadata": {},
     "output_type": "execute_result"
    }
   ],
   "execution_count": 41
  },
  {
   "metadata": {
    "ExecuteTime": {
     "end_time": "2024-12-06T03:41:28.795130Z",
     "start_time": "2024-12-06T03:41:28.792550Z"
    }
   },
   "cell_type": "code",
   "source": [
    "J = []\n",
    "for i in range(len(L)):\n",
    "    heapq.heapify(L)\n",
    "    J.append(heapq.heappop(L))"
   ],
   "id": "695b708276c15d66",
   "outputs": [],
   "execution_count": 42
  },
  {
   "metadata": {
    "ExecuteTime": {
     "end_time": "2024-12-06T03:41:28.813270Z",
     "start_time": "2024-12-06T03:41:28.809670Z"
    }
   },
   "cell_type": "code",
   "source": "J",
   "id": "be114663ffbe8dcb",
   "outputs": [
    {
     "data": {
      "text/plain": [
       "[-866, -849, -776, -465, -431, -311, -296, -286, -107, -34]"
      ]
     },
     "execution_count": 43,
     "metadata": {},
     "output_type": "execute_result"
    }
   ],
   "execution_count": 43
  },
  {
   "metadata": {
    "ExecuteTime": {
     "end_time": "2024-12-06T03:41:34.538729Z",
     "start_time": "2024-12-06T03:41:34.532940Z"
    }
   },
   "cell_type": "code",
   "source": "L",
   "id": "711db289c33e5da6",
   "outputs": [
    {
     "data": {
      "text/plain": [
       "[]"
      ]
     },
     "execution_count": 44,
     "metadata": {},
     "output_type": "execute_result"
    }
   ],
   "execution_count": 44
  },
  {
   "metadata": {
    "ExecuteTime": {
     "end_time": "2024-12-06T03:41:35.567184Z",
     "start_time": "2024-12-06T03:41:35.562793Z"
    }
   },
   "cell_type": "code",
   "source": [
    "import heapq\n",
    "\n",
    "# Create an empty max-heap\n",
    "max_heap = []\n",
    "\n",
    "# Insert elements into the max-heap (negating the values)\n",
    "heapq.heappush(max_heap, -10)\n",
    "heapq.heappush(max_heap, -20)\n",
    "heapq.heappush(max_heap, -15)\n",
    "\n",
    "# Print the max-heap\n",
    "print(\"Max-Heap (negated values):\", max_heap)\n",
    "\n",
    "# Extract the maximum element (negate it back)\n",
    "max_element = -heapq.heappop(max_heap)\n",
    "print(\"Extracted Maximum Element:\", max_element)\n",
    "\n",
    "# Print the heap after extraction\n",
    "print(\"Max-Heap after extraction (negated values):\", max_heap)\n"
   ],
   "id": "6dd67df30f10a807",
   "outputs": [
    {
     "name": "stdout",
     "output_type": "stream",
     "text": [
      "Max-Heap (negated values): [-20, -10, -15]\n",
      "Extracted Maximum Element: 20\n",
      "Max-Heap after extraction (negated values): [-15, -10]\n"
     ]
    }
   ],
   "execution_count": 45
  },
  {
   "metadata": {
    "ExecuteTime": {
     "end_time": "2024-12-07T15:02:12.189734Z",
     "start_time": "2024-12-07T15:02:12.186622Z"
    }
   },
   "cell_type": "code",
   "source": [
    "from collections import defaultdict\n",
    "\n",
    "indegree = defaultdict(list)"
   ],
   "id": "5baa705369483d79",
   "outputs": [],
   "execution_count": 3
  },
  {
   "metadata": {
    "ExecuteTime": {
     "end_time": "2024-12-07T15:02:12.396230Z",
     "start_time": "2024-12-07T15:02:12.392258Z"
    }
   },
   "cell_type": "code",
   "source": "indegree[\"pk\"]",
   "id": "c7394fb43c232614",
   "outputs": [
    {
     "data": {
      "text/plain": [
       "[]"
      ]
     },
     "execution_count": 4,
     "metadata": {},
     "output_type": "execute_result"
    }
   ],
   "execution_count": 4
  },
  {
   "metadata": {
    "ExecuteTime": {
     "end_time": "2024-12-08T08:12:26.837086Z",
     "start_time": "2024-12-08T08:12:26.830522Z"
    }
   },
   "cell_type": "code",
   "source": [
    "def missing_number(L):\n",
    "    n = len(L)\n",
    "    left = 0\n",
    "    right = n - 1\n",
    "\n",
    "    # Handle edge cases\n",
    "    if L[0] != 1:\n",
    "        return 1\n",
    "    if L[n-1] != n+1:\n",
    "        return n+1\n",
    "\n",
    "    # Binary search\n",
    "    while left <= right:\n",
    "        mid = (left + right) // 2\n",
    "\n",
    "        # If the value at mid index is equal to mid+1,\n",
    "        # then missing number is in right half\n",
    "        if L[mid] == mid + 1:\n",
    "            left = mid + 1\n",
    "        # If the value at mid index is greater than mid+1,\n",
    "        # then missing number is in left half\n",
    "        else:\n",
    "            right = mid - 1\n",
    "\n",
    "    return left + 1\n",
    "\n",
    "# Test cases\n",
    "print(\"Test case 1:\")\n",
    "L1 = [1, 2, 4, 5, 6]\n",
    "print(missing_number(L1))  # Should print 3\n",
    "\n",
    "print(\"\\nTest case 2:\")\n",
    "L2 = [1, 2, 3, 4, 6]\n",
    "print(missing_number(L2))  # Should print 5"
   ],
   "id": "1715a65270ebcccc",
   "outputs": [
    {
     "name": "stdout",
     "output_type": "stream",
     "text": [
      "Test case 1:\n",
      "3\n",
      "\n",
      "Test case 2:\n",
      "5\n"
     ]
    }
   ],
   "execution_count": 1
  },
  {
   "metadata": {
    "ExecuteTime": {
     "end_time": "2024-12-08T08:42:35.984987Z",
     "start_time": "2024-12-08T08:42:35.979740Z"
    }
   },
   "cell_type": "code",
   "source": [
    "def find_cities(Alist):\n",
    "\n",
    "    def dfs(vertex, visited):\n",
    "        visited[vertex] = True\n",
    "        if vertex in Alist:\n",
    "            for neighbor in Alist[vertex]:\n",
    "                if not visited[neighbor]:\n",
    "                    dfs(neighbor, visited)\n",
    "    if not Alist:\n",
    "        return []\n",
    "\n",
    "\n",
    "    n = 0\n",
    "\n",
    "    if Alist:\n",
    "        n = max(Alist.keys()) + 1\n",
    "    # Check values\n",
    "    for values in Alist.values():\n",
    "        if values:  # Check if the list is not empty\n",
    "            n = max(n, max(values) + 1)\n",
    "\n",
    "    # Initialize visited array\n",
    "    visited = [False] * n\n",
    "\n",
    "    # Start DFS from capital city (vertex 0)\n",
    "    if 0 in Alist:  # Only start DFS if capital city exists in the graph\n",
    "        dfs(0, visited)\n",
    "\n",
    "    # Find all unvisited cities (disconnected from capital)\n",
    "    disconnected = [city for city in range(n) if not visited[city]]\n",
    "\n",
    "    return disconnected\n",
    "\n",
    "# Example usage:\n",
    "if __name__ == \"__main__\":\n",
    "    # Test Case 1: Normal case\n",
    "    graph1 = {\n",
    "        0: [1, 2],\n",
    "        1: [0, 2],\n",
    "        2: [0, 1],\n",
    "        3: [4],\n",
    "        4: [3],\n",
    "        5: []\n",
    "    }\n",
    "    print(\"Test 1:\", find_cities(graph1))  # Should print [3, 4, 5]\n",
    "\n",
    "    # Test Case 2: Empty graph\n",
    "    graph2 = {}\n",
    "    print(\"Test 2:\", find_cities(graph2))  # Should print []\n",
    "\n",
    "    # Test Case 3: Only isolated cities\n",
    "    graph3 = {\n",
    "        0: [],\n",
    "        1: [],\n",
    "        2: []\n",
    "    }\n",
    "    print(\"Test 3:\", find_cities(graph3))  # Should print [1, 2]\n",
    "\n",
    "    # Test Case 4: All connected to capital\n",
    "    graph4 = {\n",
    "        0: [1, 2, 3],\n",
    "        1: [0],\n",
    "        2: [0],\n",
    "        3: [0]\n",
    "    }\n",
    "    print(\"Test 4:\", find_cities(graph4))  # Should print []"
   ],
   "id": "ba1a49a1ba21574b",
   "outputs": [
    {
     "name": "stdout",
     "output_type": "stream",
     "text": [
      "Test 1: [3, 4, 5]\n",
      "Test 2: []\n",
      "Test 3: [1, 2]\n",
      "Test 4: []\n"
     ]
    }
   ],
   "execution_count": 4
  },
  {
   "metadata": {},
   "cell_type": "code",
   "outputs": [],
   "execution_count": null,
   "source": "",
   "id": "815d654cc0dfa7b6"
  }
 ],
 "metadata": {
  "kernelspec": {
   "name": "python3",
   "language": "python",
   "display_name": "Python 3 (ipykernel)"
  }
 },
 "nbformat": 5,
 "nbformat_minor": 9
}
