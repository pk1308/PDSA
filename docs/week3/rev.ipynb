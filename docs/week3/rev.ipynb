{
 "cells": [
  {
   "cell_type": "markdown",
   "metadata": {},
   "source": [
    "# Quick Sort Algo"
   ]
  },
  {
   "cell_type": "code",
   "execution_count": 1,
   "metadata": {},
   "outputs": [],
   "source": [
    "def quicksort(List_to_sort , lower_index , upper_index ):\n",
    "    if upper_index - lower_index <= 1: # base case \n",
    "        return List_to_sort\n",
    "    \n",
    "    pivot = List_to_sort[lower_index]\n",
    "    lower = lower_index+1\n",
    "    upper = upper_index-1\n",
    "    \n",
    "    while lower <= upper:\n",
    "        if List_to_sort[lower] <= pivot:\n",
    "            lower+=1\n",
    "        else:\n",
    "            List_to_sort[lower] , List_to_sort[upper] = List_to_sort[upper] , List_to_sort[lower]\n",
    "            upper -=1\n",
    "    List_to_sort[lower_index], List_to_sort[upper] = List_to_sort[upper], List_to_sort[lower_index]\n",
    "    quicksort(List_to_sort, lower_index=lower_index, upper_index=upper)\n",
    "    quicksort(List_to_sort , lower_index=upper+1 , upper_index=upper_index)\n",
    "    return List_to_sort\n",
    "    \n",
    "    \n",
    "    \n",
    "    \n",
    "     \n"
   ]
  },
  {
   "cell_type": "code",
   "execution_count": 2,
   "metadata": {},
   "outputs": [],
   "source": [
    "import sys\n",
    "import random\n",
    "\n",
    "\n",
    "import os\n",
    "\n",
    "os.chdir(\"..\")\n",
    "os.chdir(\"..\")\n",
    "from driver_folder.time_driver import TimerError"
   ]
  },
  {
   "cell_type": "code",
   "execution_count": 3,
   "metadata": {},
   "outputs": [],
   "source": [
    "import random \n",
    "\n",
    "L = [random.randint(a=1, b = 100000) for i in range(1000000)]\n"
   ]
  },
  {
   "cell_type": "code",
   "execution_count": 4,
   "metadata": {},
   "outputs": [],
   "source": [
    "J = L.copy()\n",
    "Z = L.copy()"
   ]
  },
  {
   "cell_type": "code",
   "execution_count": 5,
   "metadata": {},
   "outputs": [
    {
     "name": "stdout",
     "output_type": "stream",
     "text": [
      "time taken:0.22359681299985823\n"
     ]
    }
   ],
   "source": [
    "T = TimerError()\n",
    "T.start()\n",
    "J.sort()\n",
    "end_time_1 = T.elapsed()\n",
    "print(f\"time taken:{end_time_1}\")"
   ]
  },
  {
   "cell_type": "code",
   "execution_count": 6,
   "metadata": {},
   "outputs": [
    {
     "name": "stdout",
     "output_type": "stream",
     "text": [
      "time taken:1.6058930050003255\n"
     ]
    }
   ],
   "source": [
    "T = TimerError()\n",
    "T.start()\n",
    "quicksort(L, 0 , len(L))\n",
    "end_time_1 = T.elapsed()\n",
    "print(f\"time taken:{end_time_1}\")"
   ]
  },
  {
   "cell_type": "code",
   "execution_count": 7,
   "metadata": {},
   "outputs": [],
   "source": [
    "def quicksort(List_to_sort, lower_index, upper_index):\n",
    "    if upper_index- lower_index <=1:\n",
    "        return List_to_sort \n",
    "    \n",
    "    pivot , lower, upper = List_to_sort[lower_index] , lower_index+1 , lower_index+1\n",
    "    \n",
    "    for i in range(lower_index+1 , upper_index):\n",
    "        if List_to_sort[i] < pivot:\n",
    "            List_to_sort[i] , List_to_sort[lower] = List_to_sort[lower] , List_to_sort[i]\n",
    "            lower+=1 \n",
    "            upper+=1\n",
    "        else:\n",
    "            upper+=1\n",
    "\n",
    "        List_to_sort[lower-1] , List_to_sort[lower_index] = List_to_sort[lower_index], List_to_sort[lower-1]\n",
    "        \n",
    "        quicksort(L, lower_index=lower_index, upper_index=lower-1)\n",
    "        quicksort(L, lower_index= lower , upper_index=upper)\n",
    "        return List_to_sort\n",
    "        \n",
    "\n"
   ]
  },
  {
   "cell_type": "code",
   "execution_count": 8,
   "metadata": {},
   "outputs": [
    {
     "name": "stdout",
     "output_type": "stream",
     "text": [
      "time taken:2.754399974946864e-05\n"
     ]
    }
   ],
   "source": [
    "T = TimerError()\n",
    "T.start()\n",
    "quicksort(Z, 0 , len(L))\n",
    "end_time_1 = T.elapsed()\n",
    "print(f\"time taken:{end_time_1}\")"
   ]
  },
  {
   "cell_type": "code",
   "execution_count": null,
   "metadata": {},
   "outputs": [],
   "source": []
  }
 ],
 "metadata": {
  "kernelspec": {
   "display_name": "pdsa_1",
   "language": "python",
   "name": "python3"
  },
  "language_info": {
   "codemirror_mode": {
    "name": "ipython",
    "version": 3
   },
   "file_extension": ".py",
   "mimetype": "text/x-python",
   "name": "python",
   "nbconvert_exporter": "python",
   "pygments_lexer": "ipython3",
   "version": "3.11.9"
  }
 },
 "nbformat": 4,
 "nbformat_minor": 2
}
