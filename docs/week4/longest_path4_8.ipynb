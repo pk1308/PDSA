{
 "cells": [
  {
   "cell_type": "code",
   "metadata": {
    "ExecuteTime": {
     "end_time": "2024-05-15T18:59:42.314806Z",
     "start_time": "2024-05-15T18:59:42.240464Z"
    }
   },
   "source": [
    "import os \n",
    "import numpy as np \n",
    "\n",
    "os.chdir(\"..\")\n",
    "os.chdir(\"..\")\n",
    "from driver_folder.time_driver import TimerError "
   ],
   "outputs": [],
   "execution_count": 1
  },
  {
   "cell_type": "code",
   "metadata": {
    "ExecuteTime": {
     "end_time": "2024-05-15T18:59:43.706239Z",
     "start_time": "2024-05-15T18:59:43.703323Z"
    }
   },
   "source": [
    "T =TimerError()\n",
    "T.start()\n",
    "end_time = T.elapsed()\n",
    "print(f\"time taken:{end_time}\")"
   ],
   "outputs": [
    {
     "name": "stdout",
     "output_type": "stream",
     "text": [
      "time taken:2.27989999075362e-05\n"
     ]
    }
   ],
   "execution_count": 2
  },
  {
   "metadata": {
    "ExecuteTime": {
     "end_time": "2024-05-15T19:02:58.387515Z",
     "start_time": "2024-05-15T19:02:58.383490Z"
    }
   },
   "cell_type": "code",
   "source": [
    "from queue import Queue\n",
    "\n",
    "def longestpathlist(AList):\n",
    "    \"\"\"\n",
    "    Computes the longest path in a directed acyclic graph (DAG) using an adjacency list.\n",
    "\n",
    "    Parameters:\n",
    "    AList (dict): Adjacency list representing the graph, where keys are nodes and values are lists of adjacent nodes.\n",
    "\n",
    "    Returns:\n",
    "    dict: A dictionary where keys are nodes and values are the lengths of the longest paths ending at those nodes.\n",
    "    \"\"\"\n",
    "\n",
    "    # Initialize indegree and longest path length dictionaries\n",
    "    indegree = {}\n",
    "    lpath = {}\n",
    "    for u in AList.keys():\n",
    "        indegree[u] = 0\n",
    "        lpath[u] = 0\n",
    "\n",
    "    # Compute indegree for each node\n",
    "    for u in AList.keys():\n",
    "        for v in AList[u]:\n",
    "            indegree[v] += 1\n",
    "\n",
    "    # Initialize the zero degree queue\n",
    "    zerodegreeq = Queue()\n",
    "    for u in AList.keys():\n",
    "        if indegree[u] == 0:\n",
    "            zerodegreeq.put(u)\n",
    "\n",
    "    # Process nodes with zero indegree\n",
    "    while not zerodegreeq.empty():\n",
    "        j = zerodegreeq.get()\n",
    "\n",
    "        for k in AList[j]:\n",
    "            indegree[k] -= 1\n",
    "            lpath[k] = max(lpath[k], lpath[j] + 1)\n",
    "            if indegree[k] == 0:\n",
    "                zerodegreeq.put(k)\n",
    "\n",
    "    return lpath\n",
    "\n",
    "# Example usage:\n",
    "AList = {\n",
    "    'A': ['B', 'C'],\n",
    "    'B': ['D'],\n",
    "    'C': ['D'],\n",
    "    'D': ['E'],\n",
    "    'E': []\n",
    "}\n",
    "\n",
    "# Prints the longest path lengths from each node\n",
    "print(longestpathlist(AList))\n"
   ],
   "outputs": [
    {
     "name": "stdout",
     "output_type": "stream",
     "text": [
      "{'A': 0, 'B': 1, 'C': 1, 'D': 2, 'E': 3}\n"
     ]
    }
   ],
   "execution_count": 3
  },
  {
   "metadata": {},
   "cell_type": "code",
   "outputs": [],
   "execution_count": null,
   "source": ""
  }
 ],
 "metadata": {
  "kernelspec": {
   "display_name": "pdsa",
   "language": "python",
   "name": "python3"
  },
  "language_info": {
   "codemirror_mode": {
    "name": "ipython",
    "version": 3
   },
   "file_extension": ".py",
   "mimetype": "text/x-python",
   "name": "python",
   "nbconvert_exporter": "python",
   "pygments_lexer": "ipython3",
   "version": "3.11.0"
  }
 },
 "nbformat": 4,
 "nbformat_minor": 2
}
