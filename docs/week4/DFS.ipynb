{
 "cells": [
  {
   "cell_type": "code",
   "execution_count": 1,
   "metadata": {},
   "outputs": [],
   "source": [
    "import os \n",
    "import numpy as np \n"
   ]
  },
  {
   "cell_type": "markdown",
   "metadata": {},
   "source": [
    "# first approach "
   ]
  },
  {
   "cell_type": "code",
   "execution_count": 2,
   "metadata": {},
   "outputs": [],
   "source": [
    "    \n",
    "    \n",
    "# Define the neighbours function\n",
    "def neighbours(AMat, to_explore):\n",
    "    \"\"\"\n",
    "    Finds the neighbors of a given vertex in a graph represented by an adjacency matrix.\n",
    "\n",
    "    Parameters:\n",
    "    AMat: 2D numpy array\n",
    "        The adjacency matrix representing the graph.\n",
    "    j: int\n",
    "        The vertex for which to find the neighbors.\n",
    "\n",
    "    Returns:\n",
    "    list:\n",
    "        A list of neighbors of vertex j.\n",
    "    \"\"\"\n",
    "    neighbors = []\n",
    "    for i in range(AMat.shape[1]):\n",
    "        if AMat[to_explore, i] == 1:  # Assuming 1 indicates an edge/connection\n",
    "            neighbors.append(i)\n",
    "    return neighbors\n",
    "    "
   ]
  },
  {
   "cell_type": "code",
   "execution_count": 3,
   "metadata": {},
   "outputs": [],
   "source": [
    "def DFSinit(AMat):\n",
    "    \"\"\"\n",
    "    Initializes the visited and parent dictionaries for Depth-First Search (DFS).\n",
    "\n",
    "    Parameters:\n",
    "    AMat : numpy.ndarray\n",
    "        The adjacency matrix representing the graph.\n",
    "\n",
    "    Returns:\n",
    "    visited : dict\n",
    "        A dictionary where keys are the vertices and values are booleans indicating\n",
    "        whether the vertex has been visited (True) or not (False).\n",
    "    parent : dict\n",
    "        A dictionary where keys are the vertices and values are integers representing\n",
    "        the parent vertex in the DFS tree, or -1 if no parent (for the starting vertex).\n",
    "    \"\"\"\n",
    "    rows = AMat.shape[0]\n",
    "    visited = {}\n",
    "    parent = {}\n",
    "    \n",
    "    for i in range(rows):\n",
    "        visited[i] = False\n",
    "        parent[i] = -1\n",
    "        \n",
    "    return visited, parent\n",
    "\n",
    "\n",
    "\n",
    "def DFSAmat(Amat , visited  , parent , source_vertex):\n",
    "    \"\"\"\n",
    "    Performs Depth-First Search (BFS) on a graph represented by an adjacency matrix.\n",
    "\n",
    "    Parameters:\n",
    "    AMat : list of list\n",
    "        The adjacency matrix representing the graph.\n",
    "    visited : dict\n",
    "        A dictionary where keys are the vertices and values are booleans indicating\n",
    "        whether the vertex has been visited (True) or not (False).\n",
    "    parent : dict\n",
    "        A dictionary where keys are the vertices and values are integers representing\n",
    "        the parent vertex in the BFS tree, or -1 if no parent (for the source vertex).\n",
    "    source_vertex : int\n",
    "        The starting vertex for the BFS.\n",
    "\n",
    "    Returns:\n",
    "    visited : dict\n",
    "        Updated dictionary indicating which vertices have been visited after BFS.\n",
    "    parent : dict\n",
    "        Updated dictionary representing the parent vertices after BFS.\n",
    "    \"\"\"\n",
    "    visited[source_vertex] = True \n",
    "    \n",
    "    for neighbour in neighbours(AMat=Amat, to_explore=source_vertex):\n",
    "        if not visited[neighbour]: \n",
    "            parent[neighbour] = source_vertex\n",
    "            visited , parent = DFSAmat(Amat=Amat, visited=visited,parent=parent, source_vertex=neighbour )\n",
    "    return visited , parent\n",
    "        "
   ]
  },
  {
   "cell_type": "code",
   "execution_count": 4,
   "metadata": {},
   "outputs": [],
   "source": [
    "adj_matrix =np.array( [\n",
    "    [0, 1, 1, 1, 0, 0, 0, 0, 0],\n",
    "    [1, 0, 0, 0, 1, 1, 0, 0, 0],\n",
    "    [1, 0, 0, 0, 0, 0, 1, 0, 0],\n",
    "    [1, 0, 0, 0, 0, 0, 0, 1, 1],\n",
    "    [0, 1, 0, 0, 0, 0, 0, 0, 0],\n",
    "    [0, 1, 0, 0, 0, 0, 0, 0, 0],\n",
    "    [0, 0, 1, 0, 0, 0, 0, 0, 0],\n",
    "    [0, 0, 0, 1, 0, 0, 0, 0, 0],\n",
    "    [0, 0, 0, 1, 0, 0, 0, 0, 0]\n",
    "])\n"
   ]
  },
  {
   "cell_type": "code",
   "execution_count": 5,
   "metadata": {},
   "outputs": [],
   "source": [
    "visited , parent = DFSinit(AMat=adj_matrix) \n",
    "DFSAmat(adj_matrix, visited , parent , 0 )"
   ]
  },
  {
   "cell_type": "code",
   "execution_count": 6,
   "metadata": {},
   "outputs": [
    {
     "data": {
      "text/plain": [
       "({0: False,\n",
       "  1: False,\n",
       "  2: False,\n",
       "  3: False,\n",
       "  4: False,\n",
       "  5: False,\n",
       "  6: False,\n",
       "  7: False,\n",
       "  8: False},\n",
       " {0: -1, 1: -1, 2: -1, 3: -1, 4: -1, 5: -1, 6: -1, 7: -1, 8: -1})"
      ]
     },
     "execution_count": 6,
     "metadata": {},
     "output_type": "execute_result"
    }
   ],
   "source": [
    "visited , parent"
   ]
  },
  {
   "cell_type": "code",
   "execution_count": 7,
   "metadata": {},
   "outputs": [
    {
     "data": {
      "text/plain": [
       "({0: True,\n",
       "  1: True,\n",
       "  2: True,\n",
       "  3: True,\n",
       "  4: True,\n",
       "  5: True,\n",
       "  6: True,\n",
       "  7: True,\n",
       "  8: True},\n",
       " {0: -1, 1: 0, 2: 0, 3: 0, 4: 1, 5: 1, 6: 2, 7: 3, 8: 3})"
      ]
     },
     "execution_count": 7,
     "metadata": {},
     "output_type": "execute_result"
    }
   ],
   "source": [
    "DFSAmat(adj_matrix, visited , parent , 0 )"
   ]
  },
  {
   "cell_type": "code",
   "execution_count": 13,
   "metadata": {},
   "outputs": [],
   "source": [
    "del visited\n",
    "del parent"
   ]
  },
  {
   "cell_type": "code",
   "execution_count": 14,
   "metadata": {},
   "outputs": [],
   "source": [
    "visited = {}\n",
    "parent = {}\n",
    "def DFSinit(AMat):\n",
    "    \"\"\"\n",
    "    Initializes the visited and parent dictionaries for Depth-First Search (DFS).\n",
    "\n",
    "    Parameters:\n",
    "    AMat : numpy.ndarray\n",
    "        The adjacency matrix representing the graph.\n",
    "\n",
    "    Returns:\n",
    "    visited : dict\n",
    "        A dictionary where keys are the vertices and values are booleans indicating\n",
    "        whether the vertex has been visited (True) or not (False).\n",
    "    parent : dict\n",
    "        A dictionary where keys are the vertices and values are integers representing\n",
    "        the parent vertex in the DFS tree, or -1 if no parent (for the starting vertex).\n",
    "    \"\"\"\n",
    "    rows = AMat.shape[0]\n",
    "    global visited\n",
    "    global parent \n",
    "    \n",
    "    for i in range(rows):\n",
    "        visited[i] = False\n",
    "        parent[i] = -1\n",
    "        \n",
    "    return visited, parent\n",
    "\n",
    "\n",
    "\n",
    "def DFSAmat(Amat ,source_vertex):\n",
    "    \"\"\"\n",
    "    Performs Depth-First Search (BFS) on a graph represented by an adjacency matrix.\n",
    "\n",
    "    Parameters:\n",
    "    AMat : list of list\n",
    "        The adjacency matrix representing the graph.\n",
    "    visited : dict\n",
    "        A dictionary where keys are the vertices and values are booleans indicating\n",
    "        whether the vertex has been visited (True) or not (False).\n",
    "    parent : dict\n",
    "        A dictionary where keys are the vertices and values are integers representing\n",
    "        the parent vertex in the BFS tree, or -1 if no parent (for the source vertex).\n",
    "    source_vertex : int\n",
    "        The starting vertex for the BFS.\n",
    "\n",
    "    Returns:\n",
    "    visited : dict\n",
    "        Updated dictionary indicating which vertices have been visited after BFS.\n",
    "    parent : dict\n",
    "        Updated dictionary representing the parent vertices after BFS.\n",
    "    \"\"\"\n",
    "    global visited\n",
    "    global parent \n",
    "    visited[source_vertex] = True \n",
    "    \n",
    "    for neighbour in neighbours(AMat=Amat, to_explore=source_vertex):\n",
    "        if not visited[neighbour]: \n",
    "            parent[neighbour] = source_vertex\n",
    "            visited , parent = DFSAmat(Amat=Amat, source_vertex=neighbour )\n",
    "    return visited , parent\n",
    "        "
   ]
  },
  {
   "cell_type": "code",
   "execution_count": 15,
   "metadata": {},
   "outputs": [
    {
     "data": {
      "text/plain": [
       "({0: True,\n",
       "  1: True,\n",
       "  2: True,\n",
       "  3: True,\n",
       "  4: True,\n",
       "  5: True,\n",
       "  6: True,\n",
       "  7: True,\n",
       "  8: True},\n",
       " {0: -1, 1: 0, 2: 0, 3: 0, 4: 1, 5: 1, 6: 2, 7: 3, 8: 3})"
      ]
     },
     "execution_count": 15,
     "metadata": {},
     "output_type": "execute_result"
    }
   ],
   "source": [
    "visited , parent = DFSinit(AMat=adj_matrix) \n",
    "DFSAmat(adj_matrix, 0 )"
   ]
  },
  {
   "cell_type": "code",
   "execution_count": 16,
   "metadata": {},
   "outputs": [],
   "source": [
    "del visited\n",
    "del parent"
   ]
  },
  {
   "cell_type": "code",
   "execution_count": 17,
   "metadata": {},
   "outputs": [],
   "source": [
    "def create_Alist(AMat):\n",
    "    AList = {}\n",
    "    for  parent in range(AMat.shape[0]):\n",
    "        neighbours = []\n",
    "        for neighbour in range(AMat.shape[1]):\n",
    "            if AMat[parent, neighbour] ==1 :\n",
    "                neighbours.append(neighbour)\n",
    "        AList[parent] = neighbours\n",
    "    return AList"
   ]
  },
  {
   "cell_type": "code",
   "execution_count": 18,
   "metadata": {},
   "outputs": [],
   "source": [
    "Alist = create_Alist(adj_matrix)"
   ]
  },
  {
   "cell_type": "code",
   "execution_count": 20,
   "metadata": {},
   "outputs": [],
   "source": [
    "visited = {}\n",
    "parent = {}\n",
    "def DFSinit(AList):\n",
    "    \"\"\"\n",
    "    Initializes the visited and parent dictionaries for Depth-First Search (DFS).\n",
    "\n",
    "    Parameters:\n",
    "    AMat : numpy.ndarray\n",
    "        The adjacency matrix representing the graph.\n",
    "\n",
    "    Returns:\n",
    "    visited : dict\n",
    "        A dictionary where keys are the vertices and values are booleans indicating\n",
    "        whether the vertex has been visited (True) or not (False).\n",
    "    parent : dict\n",
    "        A dictionary where keys are the vertices and values are integers representing\n",
    "        the parent vertex in the DFS tree, or -1 if no parent (for the starting vertex).\n",
    "    \"\"\"\n",
    "    global visited\n",
    "    global parent \n",
    "    \n",
    "    for i in AList.keys():\n",
    "        visited[i] = False\n",
    "        parent[i] = -1\n",
    "        \n",
    "    return visited, parent\n",
    "\n",
    "\n",
    "\n",
    "def DFSList(AList ,source_vertex):\n",
    "    \"\"\"\n",
    "    Performs Depth-First Search (BFS) on a graph represented by an adjacency matrix.\n",
    "\n",
    "    Parameters:\n",
    "    AMat : list of list\n",
    "        The adjacency matrix representing the graph.\n",
    "    visited : dict\n",
    "        A dictionary where keys are the vertices and values are booleans indicating\n",
    "        whether the vertex has been visited (True) or not (False).\n",
    "    parent : dict\n",
    "        A dictionary where keys are the vertices and values are integers representing\n",
    "        the parent vertex in the BFS tree, or -1 if no parent (for the source vertex).\n",
    "    source_vertex : int\n",
    "        The starting vertex for the BFS.\n",
    "\n",
    "    Returns:\n",
    "    visited : dict\n",
    "        Updated dictionary indicating which vertices have been visited after BFS.\n",
    "    parent : dict\n",
    "        Updated dictionary representing the parent vertices after BFS.\n",
    "    \"\"\"\n",
    "    global visited\n",
    "    global parent \n",
    "    visited[source_vertex] = True \n",
    "    \n",
    "    for neighbour in  AList[source_vertex]:\n",
    "        if not visited[neighbour]: \n",
    "            parent[neighbour] = source_vertex\n",
    "            visited , parent = DFSAmat(AList=AList, source_vertex=neighbour )\n",
    "    return visited , parent\n",
    "        "
   ]
  },
  {
   "cell_type": "code",
   "execution_count": 22,
   "metadata": {},
   "outputs": [
    {
     "data": {
      "text/plain": [
       "({0: True,\n",
       "  1: True,\n",
       "  2: True,\n",
       "  3: True,\n",
       "  4: True,\n",
       "  5: True,\n",
       "  6: True,\n",
       "  7: True,\n",
       "  8: True},\n",
       " {0: -1, 1: 0, 2: 0, 3: 0, 4: 1, 5: 1, 6: 2, 7: 3, 8: 3})"
      ]
     },
     "execution_count": 22,
     "metadata": {},
     "output_type": "execute_result"
    }
   ],
   "source": [
    "visited , parent = DFSinit(AList=Alist)\n",
    "\n",
    "DFSList(AList=Alist , source_vertex=0 )"
   ]
  },
  {
   "cell_type": "code",
   "execution_count": null,
   "metadata": {},
   "outputs": [],
   "source": []
  }
 ],
 "metadata": {
  "kernelspec": {
   "display_name": "pdsa_1",
   "language": "python",
   "name": "python3"
  },
  "language_info": {
   "codemirror_mode": {
    "name": "ipython",
    "version": 3
   },
   "file_extension": ".py",
   "mimetype": "text/x-python",
   "name": "python",
   "nbconvert_exporter": "python",
   "pygments_lexer": "ipython3",
   "version": "3.11.9"
  }
 },
 "nbformat": 4,
 "nbformat_minor": 2
}
