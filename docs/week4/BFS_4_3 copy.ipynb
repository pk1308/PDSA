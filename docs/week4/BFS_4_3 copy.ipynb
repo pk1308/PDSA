{
 "cells": [
  {
   "cell_type": "code",
   "execution_count": 1,
   "metadata": {},
   "outputs": [],
   "source": [
    "import os\n",
    "import numpy as np\n"
   ]
  },
  {
   "cell_type": "markdown",
   "metadata": {},
   "source": [
    "# Queue "
   ]
  },
  {
   "cell_type": "code",
   "execution_count": 2,
   "metadata": {},
   "outputs": [],
   "source": [
    "\n",
    "class Queue:\n",
    "    def __init__(self):\n",
    "        \"\"\"\n",
    "        Initializes an empty queue.\n",
    "        The queue is represented as a list.\n",
    "        \"\"\"\n",
    "        self.queue = []\n",
    "\n",
    "    def Equeue(self, v):\n",
    "        \"\"\"\n",
    "        Adds an element 'v' to the end of the queue.\n",
    "\n",
    "        Parameters:\n",
    "        v: The element to be added to the queue.\n",
    "        \"\"\"\n",
    "        self.queue.append(v)\n",
    "\n",
    "    def Dqueue(self):\n",
    "        \"\"\"\n",
    "        Removes and returns the element at the front of the queue.\n",
    "\n",
    "        Returns:\n",
    "        The element at the front of the queue if the queue is not empty,\n",
    "        otherwise None.\n",
    "        \"\"\"\n",
    "        v = None\n",
    "        if not self.isempty():\n",
    "            v = self.queue[0]  \n",
    "            self.queue = self.queue[1:]  \n",
    "        return v\n",
    "\n",
    "    def isempty(self):\n",
    "        \"\"\"\n",
    "        Checks if the queue is empty.\n",
    "\n",
    "        Returns:\n",
    "        True if the queue is empty, otherwise False.\n",
    "        \"\"\"\n",
    "        return self.queue == []\n",
    "\n",
    "    def __str__(self):\n",
    "        \"\"\"\n",
    "        Returns a string representation of the queue.\n",
    "\n",
    "        Returns:\n",
    "        A string representation of the queue list.\n",
    "        \"\"\"\n",
    "        return str(self.queue)"
   ]
  },
  {
   "cell_type": "code",
   "execution_count": 3,
   "metadata": {},
   "outputs": [],
   "source": [
    "AMat = np.array(\n",
    "    [\n",
    "        [0, 1, 1, 0, 0, 0, 0, 0, 0, 0],\n",
    "        [1, 0, 0, 1, 0, 0, 0, 0, 0, 0],\n",
    "        [1, 0, 0, 0, 1, 0, 0, 0, 0, 0],\n",
    "        [0, 1, 0, 0, 0, 1, 1, 0, 0, 0],\n",
    "        [0, 0, 1, 0, 0, 1, 0, 0, 0, 1],\n",
    "        [0, 0, 0, 1, 1, 0, 0, 1, 0, 0],\n",
    "        [0, 0, 0, 1, 0, 0, 0, 0, 0, 0],\n",
    "        [0, 0, 0, 0, 0, 1, 0, 0, 1, 0],\n",
    "        [0, 0, 0, 0, 0, 0, 0, 1, 0, 0],\n",
    "        [0, 0, 0, 0, 1, 0, 0, 0, 0, 0],\n",
    "    ]\n",
    ")"
   ]
  },
  {
   "cell_type": "code",
   "execution_count": 6,
   "metadata": {},
   "outputs": [],
   "source": [
    "def BFSMat( AMat , source_vertex ):\n",
    "    \n",
    "    \"\"\"\n",
    "    Performs Breadth-First Search (BFS) on a graph represented by an adjacency matrix.\n",
    "\n",
    "    Parameters:\n",
    "    AMat: 2D numpy array\n",
    "        The adjacency matrix representing the graph.\n",
    "    Source_vertex : int\n",
    "        The starting vertex for the BFS.\n",
    "\n",
    "    Returns:\n",
    "    visited: dict\n",
    "        A dictionary where keys are the vertices and values are booleans indicating\n",
    "        whether the vertex has been visited (True) or not (False).\n",
    "        \"\"\"\n",
    "    rows , cols = AMat.shape\n",
    "    visited = {i : False for i in range(rows)\n",
    "               }\n",
    "    visited[source_vertex] = True \n",
    "    \n",
    "    q = Queue()\n",
    "    q.Equeue(source_vertex)\n",
    "    while not q.isempty():\n",
    "        to_explore = q.Dqueue()\n",
    "        for neighbour in neighbours(AMat=AMat , to_explore=to_explore):\n",
    "            if not visited[neighbour]:\n",
    "                visited[neighbour] = True \n",
    "                q.Equeue(neighbour)\n",
    "    return visited\n",
    "            \n",
    "    \n",
    "    \n",
    "# Define the neighbours function\n",
    "def neighbours(AMat, to_explore):\n",
    "    \"\"\"\n",
    "    Finds the neighbors of a given vertex in a graph represented by an adjacency matrix.\n",
    "\n",
    "    Parameters:\n",
    "    AMat: 2D numpy array\n",
    "        The adjacency matrix representing the graph.\n",
    "    j: int\n",
    "        The vertex for which to find the neighbors.\n",
    "\n",
    "    Returns:\n",
    "    list:\n",
    "        A list of neighbors of vertex j.\n",
    "    \"\"\"\n",
    "    neighbors = []\n",
    "    for i in range(AMat.shape[1]):\n",
    "        if AMat[to_explore, i] == 1:  # Assuming 1 indicates an edge/connection\n",
    "            neighbors.append(i)\n",
    "    return neighbors\n",
    "    \n",
    "            \n",
    "    "
   ]
  },
  {
   "cell_type": "code",
   "execution_count": 7,
   "metadata": {},
   "outputs": [
    {
     "name": "stdout",
     "output_type": "stream",
     "text": [
      "{0: True, 1: True, 2: True, 3: True}\n"
     ]
    }
   ],
   "source": [
    "AMat = np.array([[0, 1, 0, 0],\n",
    "                 [1, 0, 1, 0], \n",
    "                 [0, 1, 0, 1], \n",
    "                 [0, 0, 1, 0]])\n",
    "\n",
    "# Starting vertex\n",
    "v = 0\n",
    "\n",
    "# Perform BFS\n",
    "visited = BFSMat(AMat, v)\n",
    "print(visited)"
   ]
  },
  {
   "cell_type": "code",
   "execution_count": 8,
   "metadata": {},
   "outputs": [],
   "source": [
    "def create_Alist(AMat):\n",
    "    AList = {}\n",
    "    for  parent in range(AMat.shape[0]):\n",
    "        neighbours = []\n",
    "        for neighbour in range(AMat.shape[1]):\n",
    "            if AMat[parent, neighbour] ==1 :\n",
    "                neighbours.append(neighbour)\n",
    "        AList[parent] = neighbours\n",
    "    return AList"
   ]
  },
  {
   "cell_type": "code",
   "execution_count": 13,
   "metadata": {},
   "outputs": [],
   "source": [
    "def BFSAlist( AList , source_vertex ):\n",
    "    \n",
    "    \"\"\"\n",
    "    Performs Breadth-First Search (BFS) on a graph represented by an adjacency matrix.\n",
    "\n",
    "    Parameters:\n",
    "    AMat: 2D numpy array\n",
    "        The adjacency matrix representing the graph.\n",
    "    Source_vertex : int\n",
    "        The starting vertex for the BFS.\n",
    "\n",
    "    Returns:\n",
    "    visited: dict\n",
    "        A dictionary where keys are the vertices and values are booleans indicating\n",
    "        whether the vertex has been visited (True) or not (False).\n",
    "        \"\"\"\n",
    "    visited = {i : False for i in AList.keys() }\n",
    "    visited[source_vertex] = True \n",
    "    \n",
    "    q = Queue()\n",
    "    q.Equeue(source_vertex)\n",
    "    while not q.isempty():\n",
    "        to_explore = q.Dqueue()\n",
    "        for neighbour in AList[to_explore]:\n",
    "            if not visited[neighbour]:\n",
    "                visited[neighbour] = True \n",
    "                q.Equeue(neighbour)\n",
    "    return visited"
   ]
  },
  {
   "cell_type": "code",
   "execution_count": 14,
   "metadata": {},
   "outputs": [],
   "source": [
    "Alist = create_Alist(AMat)"
   ]
  },
  {
   "cell_type": "code",
   "execution_count": 15,
   "metadata": {},
   "outputs": [
    {
     "data": {
      "text/plain": [
       "{0: [1], 1: [0, 2], 2: [1, 3], 3: [2]}"
      ]
     },
     "execution_count": 15,
     "metadata": {},
     "output_type": "execute_result"
    }
   ],
   "source": [
    "Alist"
   ]
  },
  {
   "cell_type": "code",
   "execution_count": 16,
   "metadata": {},
   "outputs": [
    {
     "data": {
      "text/plain": [
       "{0: True, 1: True, 2: True, 3: True}"
      ]
     },
     "execution_count": 16,
     "metadata": {},
     "output_type": "execute_result"
    }
   ],
   "source": [
    "BFSAlist(Alist,source_vertex=v)"
   ]
  },
  {
   "cell_type": "code",
   "execution_count": null,
   "metadata": {},
   "outputs": [],
   "source": []
  },
  {
   "cell_type": "code",
   "execution_count": null,
   "metadata": {},
   "outputs": [],
   "source": []
  }
 ],
 "metadata": {
  "kernelspec": {
   "display_name": "pdsa",
   "language": "python",
   "name": "python3"
  },
  "language_info": {
   "codemirror_mode": {
    "name": "ipython",
    "version": 3
   },
   "file_extension": ".py",
   "mimetype": "text/x-python",
   "name": "python",
   "nbconvert_exporter": "python",
   "pygments_lexer": "ipython3",
   "version": "3.11.9"
  }
 },
 "nbformat": 4,
 "nbformat_minor": 2
}
