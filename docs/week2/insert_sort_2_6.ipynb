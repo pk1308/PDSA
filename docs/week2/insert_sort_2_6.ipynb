{
 "cells": [
  {
   "cell_type": "code",
   "execution_count": 1,
   "metadata": {},
   "outputs": [
    {
     "name": "stderr",
     "output_type": "stream",
     "text": [
      "\u001b[32m2024-05-08 22:21:09.423\u001b[0m | \u001b[1mINFO    \u001b[0m | \u001b[36m__main__\u001b[0m:\u001b[36m<module>\u001b[0m:\u001b[36m37\u001b[0m - \u001b[1mtime taken:1.105800038203597e-05\u001b[0m\n"
     ]
    }
   ],
   "source": [
    "from loguru import logger as lg \n",
    "import random\n",
    "import time\n",
    "\n",
    "\n",
    "class TimerError(Exception):\n",
    "    def __init__(self) -> None:\n",
    "        self._start_time = None \n",
    "        self._stop_time = None \n",
    "        self.elapsed_time = None\n",
    "        \n",
    "    def start(self):\n",
    "        if self._start_time != None:\n",
    "            raise TimerError(\" please stop the timer\")\n",
    "        self._start_time = time.perf_counter()\n",
    "        self._stop_time = None\n",
    "    \n",
    "    def stop(self):\n",
    "        if self._start_time == None:\n",
    "            raise TimerError(\"please start the timer\")\n",
    "        self._stop_time = time.perf_counter()\n",
    "        self.elapsed_time = self._stop_time - self._start_time\n",
    "        self._start_time = None \n",
    "    def elapsed(self):\n",
    "        if self.elapsed == None and self._start_time== None:\n",
    "            raise TimerError(\"the counter not running\")\n",
    "        else:\n",
    "            self.stop()\n",
    "            return self.elapsed_time\n",
    "    def __str__(self) -> str:\n",
    "        return (str(self.elapsed_time))\n",
    "# lg.add(sys.stdout, colorize=True)\n",
    "\n",
    "T =TimerError()\n",
    "T.start()\n",
    "end_time = T.elapsed()\n",
    "lg.info(f\"time taken:{end_time}\")"
   ]
  },
  {
   "cell_type": "code",
   "execution_count": 22,
   "metadata": {},
   "outputs": [],
   "source": [
    "L = [ random.randint(1,100) for i in range(1000)]\n",
    "V= random.randint(1,100)"
   ]
  },
  {
   "cell_type": "markdown",
   "metadata": {},
   "source": [
    "# insertion sort "
   ]
  },
  {
   "cell_type": "code",
   "execution_count": 23,
   "metadata": {},
   "outputs": [],
   "source": [
    "def insertion_sort(L):\n",
    "    \"\"\"\n",
    "    Sorts a list using the insertion sort algorithm.\n",
    "    \n",
    "    Args:\n",
    "        L (list): The list to be sorted.\n",
    "        \n",
    "    Returns:\n",
    "        list: The sorted list.\n",
    "    \"\"\"\n",
    "    n = len(L)\n",
    "    \n",
    "    # If the list has 1 or fewer elements, it is already sorted\n",
    "    if n <= 1:\n",
    "        return L\n",
    "    \n",
    "    # Iterate through each element in the list\n",
    "    for i in range(n):\n",
    "        j = i\n",
    "        \n",
    "        # Mo value_to_inserte the element at index j towards the beginning of the list\n",
    "        # until it's in the correct sorted position\n",
    "        while j > 0 and L[j] < L[j - 1]:\n",
    "            # Swap the current element with the prevalue_to_insertalue_to_insertious one if it's smaller\n",
    "            L[j], L[j - 1] = L[j - 1], L[j]\n",
    "            j -= 1  # Decrement j to movalue_to_inserte towards the beginning of the list\n",
    "            \n",
    "    return L\n"
   ]
  },
  {
   "cell_type": "code",
   "execution_count": 24,
   "metadata": {},
   "outputs": [
    {
     "name": "stderr",
     "output_type": "stream",
     "text": [
      "\u001b[32m2024-05-08 22:47:10.805\u001b[0m | \u001b[1mINFO    \u001b[0m | \u001b[36m__main__\u001b[0m:\u001b[36m<module>\u001b[0m:\u001b[36m5\u001b[0m - \u001b[1mtime taken:0.014249863976147026\u001b[0m\n"
     ]
    }
   ],
   "source": [
    "T =TimerError()\n",
    "T.start()\n",
    "insertion_sort(L)\n",
    "end_time = T.elapsed()\n",
    "lg.info(f\"time taken:{end_time}\")"
   ]
  },
  {
   "cell_type": "markdown",
   "metadata": {},
   "source": [
    "$$\n",
    "\\begin{gather*}\n",
    "outer\\ loop\\ =\\ n\\ \\\\\n",
    "inner\\ loop\\ =\\ \\frac{n( n-1)}{2}\\\\\n",
    "\\\\\n",
    "complexity\\ =\\ O\\left( n^{2}\\right)\n",
    "\\end{gather*}$$"
   ]
  },
  {
   "cell_type": "code",
   "execution_count": 30,
   "metadata": {},
   "outputs": [],
   "source": [
    "def Insert(List_to_sort, Value_to_insert):\n",
    "    \"\"\"\n",
    "    Inserts a value into a sorted list while maintaining the sorted order.\n",
    "    \n",
    "    Args:\n",
    "        List_to_sort (list): The sorted list to insert the value into.\n",
    "        Value_to_insert (Any): The value to insert into the list.\n",
    "        \n",
    "    Returns:\n",
    "        list: The sorted list after inserting the value.\n",
    "    \"\"\"\n",
    "    n = len(List_to_sort)\n",
    "    \n",
    "    # If the list is empty, simply return the value as a single-element list\n",
    "    if n == 0:\n",
    "        return [Value_to_insert]\n",
    "    \n",
    "    # If the value is greater than or equal to the last element in the list,\n",
    "    # append it to the end of the list\n",
    "    if Value_to_insert >= List_to_sort[-1]:\n",
    "        return List_to_sort + [Value_to_insert]\n",
    "    else:\n",
    "        # Recursively insert the value into the sublist List_to_sort[:-1]\n",
    "        # and then append the last element of List_to_sort to the result\n",
    "        return Insert(List_to_sort[:-1], Value_to_insert) + List_to_sort[-1:]\n",
    "\n",
    "def ISort(List_to_sort):\n",
    "    \"\"\"\n",
    "    Sorts a list using the insertion sort algorithm recursively.\n",
    "    \n",
    "    Args:\n",
    "        List_to_sort (list): The list to be sorted.\n",
    "        \n",
    "    Returns:\n",
    "        list: The sorted list.\n",
    "    \"\"\"\n",
    "    n = len(List_to_sort)\n",
    "    \n",
    "    # If the list has less than 1 element, it is already sorted\n",
    "    if n < 1:\n",
    "        return List_to_sort\n",
    "    \n",
    "    # Recursively sort the sublist List_to_sort[:-1]\n",
    "    # and then insert the last element of List_to_sort into the sorted sublist\n",
    "    L = Insert(ISort(List_to_sort[:-1]), List_to_sort[-1])\n",
    "    \n",
    "    return L\n"
   ]
  },
  {
   "cell_type": "code",
   "execution_count": 31,
   "metadata": {},
   "outputs": [
    {
     "name": "stderr",
     "output_type": "stream",
     "text": [
      "\u001b[32m2024-05-08 22:49:07.900\u001b[0m | \u001b[1mINFO    \u001b[0m | \u001b[36m__main__\u001b[0m:\u001b[36m<module>\u001b[0m:\u001b[36m5\u001b[0m - \u001b[1mtime taken:0.003761364030651748\u001b[0m\n"
     ]
    }
   ],
   "source": [
    "T =TimerError()\n",
    "T.start()\n",
    "ISort(L)\n",
    "end_time = T.elapsed()\n",
    "lg.info(f\"time taken:{end_time}\")"
   ]
  },
  {
   "cell_type": "markdown",
   "metadata": {},
   "source": [
    "$$\n",
    "\\begin{gather*}\n",
    "\n",
    "complexity\\ =\\ O\\left( n^{2}\\right)\n",
    "\\end{gather*}$$"
   ]
  }
 ],
 "metadata": {
  "kernelspec": {
   "display_name": "pdsa",
   "language": "python",
   "name": "python3"
  },
  "language_info": {
   "codemirror_mode": {
    "name": "ipython",
    "version": 3
   },
   "file_extension": ".py",
   "mimetype": "text/x-python",
   "name": "python",
   "nbconvert_exporter": "python",
   "pygments_lexer": "ipython3",
   "version": "3.11.0"
  }
 },
 "nbformat": 4,
 "nbformat_minor": 2
}
