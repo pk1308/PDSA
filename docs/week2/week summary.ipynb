{
 "cells": [
  {
   "cell_type": "code",
   "execution_count": 1,
   "metadata": {},
   "outputs": [],
   "source": [
    "import sys\n",
    "sys.setrecursionlimit(2**31-1)"
   ]
  },
  {
   "cell_type": "code",
   "execution_count": 2,
   "metadata": {},
   "outputs": [
    {
     "name": "stderr",
     "output_type": "stream",
     "text": [
      "\u001b[32m2024-05-08 23:58:37.997\u001b[0m | \u001b[1mINFO    \u001b[0m | \u001b[36m__main__\u001b[0m:\u001b[36m<module>\u001b[0m:\u001b[36m38\u001b[0m - \u001b[1mtime taken:1.1069001629948616e-05\u001b[0m\n"
     ]
    }
   ],
   "source": [
    "\n",
    "import sys\n",
    "from loguru import logger as lg \n",
    "import random\n",
    "import time\n",
    "\n",
    "\n",
    "class TimerError(Exception):\n",
    "    def __init__(self) -> None:\n",
    "        self._start_time = None \n",
    "        self._stop_time = None \n",
    "        self.elapsed_time = None\n",
    "        \n",
    "    def start(self):\n",
    "        if self._start_time != None:\n",
    "            raise TimerError(\" please stop the timer\")\n",
    "        self._start_time = time.perf_counter()\n",
    "        self._stop_time = None\n",
    "    \n",
    "    def stop(self):\n",
    "        if self._start_time == None:\n",
    "            raise TimerError(\"please start the timer\")\n",
    "        self._stop_time = time.perf_counter()\n",
    "        self.elapsed_time = self._stop_time - self._start_time\n",
    "        self._start_time = None \n",
    "    def elapsed(self):\n",
    "        if self.elapsed == None and self._start_time== None:\n",
    "            raise TimerError(\"the counter not running\")\n",
    "        else:\n",
    "            self.stop()\n",
    "            return self.elapsed_time\n",
    "    def __str__(self) -> str:\n",
    "        return (str(self.elapsed_time))\n",
    "\n",
    "\n",
    "T =TimerError()\n",
    "T.start()\n",
    "end_time = T.elapsed()\n",
    "lg.info(f\"time taken:{end_time}\")"
   ]
  },
  {
   "cell_type": "code",
   "execution_count": 3,
   "metadata": {},
   "outputs": [],
   "source": [
    "random.seed(1965)"
   ]
  },
  {
   "cell_type": "code",
   "execution_count": 4,
   "metadata": {},
   "outputs": [],
   "source": [
    "L = [ random.randint(1,1000000000) for i in range(10000)]\n"
   ]
  },
  {
   "cell_type": "code",
   "execution_count": 5,
   "metadata": {},
   "outputs": [],
   "source": [
    "v = random.randint(1,1000000)"
   ]
  },
  {
   "cell_type": "markdown",
   "metadata": {},
   "source": [
    "# Naive Approach "
   ]
  },
  {
   "cell_type": "code",
   "execution_count": 6,
   "metadata": {},
   "outputs": [],
   "source": [
    "def naive_search(V,L):\n",
    "    for x in L:\n",
    "        if V==x:\n",
    "            return True \n",
    "    else:\n",
    "        return False \n",
    "    \n",
    "    "
   ]
  },
  {
   "cell_type": "markdown",
   "metadata": {},
   "source": [
    "complexity = O(n)"
   ]
  },
  {
   "cell_type": "markdown",
   "metadata": {},
   "source": [
    "# binary search "
   ]
  },
  {
   "cell_type": "markdown",
   "metadata": {},
   "source": [
    "# sorting function "
   ]
  },
  {
   "cell_type": "code",
   "execution_count": 7,
   "metadata": {},
   "outputs": [],
   "source": [
    "def sort_list(L: list):\n",
    "    if len(L) ==0:\n",
    "        return []\n",
    "    midpoint = len(L)//2\n",
    "    mid_value = L[midpoint]\n",
    "    lower_list = [low for low in L if low < mid_value]\n",
    "    mid_list = [mid for mid in L if mid == mid_value]\n",
    "    upper_list = [ upper for  upper in L if  upper > mid_value]\n",
    "    return sort_list(lower_list)+mid_list+sort_list(upper_list)"
   ]
  },
  {
   "cell_type": "code",
   "execution_count": 8,
   "metadata": {},
   "outputs": [],
   "source": [
    "midpoint = len(L)//2\n",
    "mid_value = L[midpoint]"
   ]
  },
  {
   "cell_type": "code",
   "execution_count": 9,
   "metadata": {},
   "outputs": [
    {
     "name": "stderr",
     "output_type": "stream",
     "text": [
      "\u001b[32m2024-05-08 23:58:38.066\u001b[0m | \u001b[1mINFO    \u001b[0m | \u001b[36m__main__\u001b[0m:\u001b[36m<module>\u001b[0m:\u001b[36m6\u001b[0m - \u001b[1mtime taken:0.011552168987691402\u001b[0m\n"
     ]
    },
    {
     "name": "stdout",
     "output_type": "stream",
     "text": [
      "length of L :10000\n"
     ]
    }
   ],
   "source": [
    "T =TimerError()\n",
    "T.start()\n",
    "print(f\"length of L :{len(L)}\")\n",
    "sort_list(L)\n",
    "end_time = T.elapsed()\n",
    "lg.info(f\"time taken:{end_time}\")"
   ]
  },
  {
   "cell_type": "code",
   "execution_count": 10,
   "metadata": {},
   "outputs": [],
   "source": [
    "def sort_list(L: list) -> list:\n",
    "  \"\"\"Sorts a list of numbers in ascending order using Quicksort algorithm.\n",
    "\n",
    "  Args:\n",
    "      L: The list to be sorted.\n",
    "\n",
    "  Returns:\n",
    "      A new list containing the sorted elements of the original list.\n",
    "  \"\"\"\n",
    "\n",
    "  if len(L) <= 1:\n",
    "    return L\n",
    "\n",
    "  midpoint = len(L) // 2\n",
    "  mid_value = L[midpoint]\n",
    "  lower_list = sort_list([low for low in L if low < mid_value])\n",
    "  upper_list = sort_list([upper for upper in L if upper > mid_value])\n",
    "  mid_list = [mid for mid in L if mid == mid_value]\n",
    "  return lower_list + mid_list + upper_list"
   ]
  },
  {
   "cell_type": "code",
   "execution_count": 11,
   "metadata": {},
   "outputs": [
    {
     "name": "stderr",
     "output_type": "stream",
     "text": [
      "\u001b[32m2024-05-08 23:58:38.093\u001b[0m | \u001b[1mINFO    \u001b[0m | \u001b[36m__main__\u001b[0m:\u001b[36m<module>\u001b[0m:\u001b[36m6\u001b[0m - \u001b[1mtime taken:0.01215230894740671\u001b[0m\n"
     ]
    },
    {
     "name": "stdout",
     "output_type": "stream",
     "text": [
      "length of L :10000\n"
     ]
    }
   ],
   "source": [
    "T =TimerError()\n",
    "T.start()\n",
    "print(f\"length of L :{len(L)}\")\n",
    "L = sort_list(L)\n",
    "end_time = T.elapsed()\n",
    "lg.info(f\"time taken:{end_time}\")"
   ]
  },
  {
   "cell_type": "code",
   "execution_count": 12,
   "metadata": {},
   "outputs": [],
   "source": [
    "def binarysearch(v: int ,L : list)-> bool:\n",
    "    \n",
    "    if not L:\n",
    "        return False \n",
    "    midpoint = len(L) // 2\n",
    "    \n",
    "    if v == L[midpoint]:\n",
    "        return True \n",
    "    if v < L[midpoint]:\n",
    "        return binarysearch(v, L[:midpoint])\n",
    "    else:\n",
    "        return binarysearch(v, L[midpoint+1:])"
   ]
  },
  {
   "cell_type": "markdown",
   "metadata": {},
   "source": [
    "Complexity = O(logn)"
   ]
  },
  {
   "cell_type": "code",
   "execution_count": 13,
   "metadata": {},
   "outputs": [
    {
     "name": "stderr",
     "output_type": "stream",
     "text": [
      "\u001b[32m2024-05-08 23:58:38.106\u001b[0m | \u001b[1mINFO    \u001b[0m | \u001b[36m__main__\u001b[0m:\u001b[36m<module>\u001b[0m:\u001b[36m5\u001b[0m - \u001b[1mtime taken naive :0.0001515159965492785\u001b[0m\n"
     ]
    },
    {
     "name": "stdout",
     "output_type": "stream",
     "text": [
      "length of L :10000\n"
     ]
    }
   ],
   "source": [
    "T =TimerError()\n",
    "T.start()\n",
    "print(f\"length of L :{len(L)}\")\n",
    "end_time = T.elapsed()\n",
    "lg.info(f\"time taken naive :{end_time}\")"
   ]
  },
  {
   "cell_type": "code",
   "execution_count": 14,
   "metadata": {},
   "outputs": [
    {
     "name": "stderr",
     "output_type": "stream",
     "text": [
      "\u001b[32m2024-05-08 23:58:38.112\u001b[0m | \u001b[1mINFO    \u001b[0m | \u001b[36m__main__\u001b[0m:\u001b[36m<module>\u001b[0m:\u001b[36m6\u001b[0m - \u001b[1mtime taken binary:0.0001189609756693244\u001b[0m\n"
     ]
    },
    {
     "name": "stdout",
     "output_type": "stream",
     "text": [
      "length of L :10000\n",
      "False\n"
     ]
    }
   ],
   "source": [
    "T =TimerError()\n",
    "T.start()\n",
    "print(f\"length of L :{len(L)}\")\n",
    "print(binarysearch(v,L))\n",
    "end_time = T.elapsed()\n",
    "lg.info(f\"time taken binary:{end_time}\")"
   ]
  },
  {
   "cell_type": "code",
   "execution_count": 15,
   "metadata": {},
   "outputs": [
    {
     "name": "stderr",
     "output_type": "stream",
     "text": [
      "\u001b[32m2024-05-08 23:58:38.914\u001b[0m | \u001b[1mINFO    \u001b[0m | \u001b[36m__main__\u001b[0m:\u001b[36m<module>\u001b[0m:\u001b[36m21\u001b[0m - \u001b[1mtime taken SelectionSort:0.7941872259834781\u001b[0m\n",
      "\u001b[32m2024-05-08 23:58:38.922\u001b[0m | \u001b[1mINFO    \u001b[0m | \u001b[36m__main__\u001b[0m:\u001b[36m<module>\u001b[0m:\u001b[36m35\u001b[0m - \u001b[1mtime taken sort_list:0.007573203009087592\u001b[0m\n"
     ]
    }
   ],
   "source": [
    "\n",
    "def SelectionSort(L):\n",
    "    n = len(L)\n",
    "    if n <= 1:\n",
    "        return(L)\n",
    "    for i in range(n):\n",
    "        # Assume L[:i] is sorted\n",
    "        mpos = i\n",
    "        # mpos: position of minimum in L[i:]\n",
    "        for j in range(i+1,n):\n",
    "            if L[j] < L[mpos]:\n",
    "                mpos = j\n",
    "                # L[mpos] : smallest value in L[i:]\n",
    "                # # Exchange L[mpos] and L[i]\n",
    "                (L[i],L[mpos]) = (L[mpos],L[i])\n",
    "                # Now L[:i+1] is sorted\n",
    "                return(L)\n",
    "T =TimerError()\n",
    "T.start()\n",
    "SelectionSort(L)\n",
    "end_time_1 = T.elapsed()\n",
    "lg.info(f\"time taken SelectionSort:{end_time_1}\")\n",
    "def sort_list(L: list):\n",
    "    if len(L) ==0:\n",
    "        return []\n",
    "    midpoint = len(L)//2\n",
    "    mid_value = L[midpoint]\n",
    "    lower_list = [low for low in L if low < mid_value]\n",
    "    mid_list = [mid for mid in L if mid == mid_value]\n",
    "    upper_list = [ upper for  upper in L if  upper > mid_value]\n",
    "    return sort_list(lower_list)+mid_list+sort_list(upper_list)\n",
    "T =TimerError()\n",
    "T.start()\n",
    "sort_list(L)\n",
    "end_time_2 = T.elapsed()\n",
    "lg.info(f\"time taken sort_list:{end_time_2}\")"
   ]
  },
  {
   "cell_type": "code",
   "execution_count": 16,
   "metadata": {},
   "outputs": [
    {
     "name": "stderr",
     "output_type": "stream",
     "text": [
      "\u001b[32m2024-05-08 23:58:38.929\u001b[0m | \u001b[1mINFO    \u001b[0m | \u001b[36m__main__\u001b[0m:\u001b[36m<module>\u001b[0m:\u001b[36m35\u001b[0m - \u001b[1mtime taken insertion_sort:0.0003439149586483836\u001b[0m\n",
      "\u001b[32m2024-05-08 23:58:39.333\u001b[0m | \u001b[1mINFO    \u001b[0m | \u001b[36m__main__\u001b[0m:\u001b[36m<module>\u001b[0m:\u001b[36m89\u001b[0m - \u001b[1mtime taken merge Sort(:0.40309521002927795\u001b[0m\n"
     ]
    }
   ],
   "source": [
    "# insertion sort \n",
    "def insertion_sort(L):\n",
    "    \"\"\"\n",
    "    Sorts a list using the insertion sort algorithm.\n",
    "    \n",
    "    Args:\n",
    "        L (list): The list to be sorted.\n",
    "        \n",
    "    Returns:\n",
    "        list: The sorted list.\n",
    "    \"\"\"\n",
    "    n = len(L)\n",
    "    \n",
    "    # If the list has 1 or fewer elements, it is already sorted\n",
    "    if n <= 1:\n",
    "        return L\n",
    "    \n",
    "    # Iterate through each element in the list\n",
    "    for i in range(n):\n",
    "        j = i\n",
    "        \n",
    "        # Mo value_to_inserte the element at index j towards the beginning of the list\n",
    "        # until it's in the correct sorted position\n",
    "        while j > 0 and L[j] < L[j - 1]:\n",
    "            # Swap the current element with the prevalue_to_insertalue_to_insertious one if it's smaller\n",
    "            L[j], L[j - 1] = L[j - 1], L[j]\n",
    "            j -= 1  # Decrement j to movalue_to_inserte towards the beginning of the list\n",
    "            \n",
    "    return L\n",
    "\n",
    "T =TimerError()\n",
    "T.start()\n",
    "insertion_sort(L)\n",
    "end_time = T.elapsed()\n",
    "lg.info(f\"time taken insertion_sort:{end_time}\")\n",
    "\n",
    "def Insert(List_to_sort, Value_to_insert):\n",
    "    \"\"\"\n",
    "    Inserts a value into a sorted list while maintaining the sorted order.\n",
    "    \n",
    "    Args:\n",
    "        List_to_sort (list): The sorted list to insert the value into.\n",
    "        Value_to_insert (Any): The value to insert into the list.\n",
    "        \n",
    "    Returns:\n",
    "        list: The sorted list after inserting the value.\n",
    "    \"\"\"\n",
    "    n = len(List_to_sort)\n",
    "    \n",
    "    # If the list is empty, simply return the value as a single-element list\n",
    "    if n == 0:\n",
    "        return [Value_to_insert]\n",
    "    \n",
    "    # If the value is greater than or equal to the last element in the list,\n",
    "    # append it to the end of the list\n",
    "    if Value_to_insert >= List_to_sort[-1]:\n",
    "        return List_to_sort + [Value_to_insert]\n",
    "    else:\n",
    "        # Recursively insert the value into the sublist List_to_sort[:-1]\n",
    "        # and then append the last element of List_to_sort to the result\n",
    "        return Insert(List_to_sort[:-1], Value_to_insert) + List_to_sort[-1:]\n",
    "\n",
    "def ISort(List_to_sort):\n",
    "    \"\"\"\n",
    "    Sorts a list using the insertion sort algorithm recursively.\n",
    "    \n",
    "    Args:\n",
    "        List_to_sort (list): The list to be sorted.\n",
    "        \n",
    "    Returns:\n",
    "        list: The sorted list.\n",
    "    \"\"\"\n",
    "    n = len(List_to_sort)\n",
    "    \n",
    "    # If the list has less than 1 element, it is already sorted\n",
    "    if n < 1:\n",
    "        return List_to_sort\n",
    "    \n",
    "    # Recursively sort the sublist List_to_sort[:-1]\n",
    "    # and then insert the last element of List_to_sort into the sorted sublist\n",
    "    L = Insert(ISort(List_to_sort[:-1]), List_to_sort[-1])\n",
    "    \n",
    "    return L\n",
    "\n",
    "T =TimerError()\n",
    "T.start()\n",
    "ISort(L)\n",
    "end_time = T.elapsed()\n",
    "lg.info(f\"time taken merge Sort(:{end_time}\")"
   ]
  },
  {
   "cell_type": "code",
   "execution_count": 17,
   "metadata": {},
   "outputs": [
    {
     "name": "stderr",
     "output_type": "stream",
     "text": [
      "\u001b[32m2024-05-08 23:58:39.347\u001b[0m | \u001b[1mINFO    \u001b[0m | \u001b[36m__main__\u001b[0m:\u001b[36m<module>\u001b[0m:\u001b[36m64\u001b[0m - \u001b[1mtime taken merge sort :0.006971621012780815\u001b[0m\n"
     ]
    }
   ],
   "source": [
    "def merge(A, B):\n",
    "    \"\"\"\n",
    "    Merge two sorted lists A and B into a single sorted list.\n",
    "\n",
    "    Args:\n",
    "        A (list): The first sorted list.\n",
    "        B (list): The second sorted list.\n",
    "\n",
    "    Returns:\n",
    "        list: The merged sorted list.\n",
    "    \"\"\"\n",
    "    C, i, j, k = [], 0, 0, 0\n",
    "    m, n = len(A), len(B)\n",
    "\n",
    "    while k < m + n:\n",
    "        if i == m:\n",
    "            C.extend(B[j:])\n",
    "            k = k + (n - j)\n",
    "        elif j == n:\n",
    "            C.extend(A[i:])\n",
    "            k = k + (m - i)\n",
    "        elif A[i] < B[j]:\n",
    "            C.append(A[i])\n",
    "            i, k = i + 1, k + 1\n",
    "        else:\n",
    "            C.append(B[j])\n",
    "            j, k = j + 1, k + 1\n",
    "\n",
    "    return C\n",
    "\n",
    "\n",
    "def mergesort(A):\n",
    "    \"\"\"\n",
    "    Sorts a list using the merge sort algorithm.\n",
    "\n",
    "    Args:\n",
    "        A (list): The list to be sorted.\n",
    "\n",
    "    Returns:\n",
    "        list: The sorted list.\n",
    "    \"\"\"\n",
    "    n = len(A)\n",
    "    \n",
    "    # Base case: If the list has 0 or 1 element, it is already sorted\n",
    "    if n <= 1:\n",
    "        return A\n",
    "    \n",
    "    # Recursively split the list into two halves and sort each half\n",
    "    L = mergesort(A[:n // 2])\n",
    "    R = mergesort(A[n // 2:])\n",
    "    \n",
    "    # Merge the sorted halves\n",
    "    B = merge(L, R)\n",
    "    \n",
    "    return B\n",
    "\n",
    "\n",
    "\n",
    "\n",
    "T =TimerError()\n",
    "T.start()\n",
    "mergesort(L)\n",
    "end_time = T.elapsed()\n",
    "lg.info(f\"time taken merge sort :{end_time}\")"
   ]
  },
  {
   "cell_type": "code",
   "execution_count": 18,
   "metadata": {},
   "outputs": [
    {
     "name": "stderr",
     "output_type": "stream",
     "text": [
      "\u001b[32m2024-05-08 23:58:40.284\u001b[0m | \u001b[1mINFO    \u001b[0m | \u001b[36m__main__\u001b[0m:\u001b[36m<module>\u001b[0m:\u001b[36m6\u001b[0m - \u001b[1mtime taken merge sort :0.9263360829791054\u001b[0m\n"
     ]
    }
   ],
   "source": [
    "\n",
    "T =TimerError()\n",
    "T.start()\n",
    "\n",
    "mergesort(list(range(1000000,0,-1)))\n",
    "end_time = T.elapsed()\n",
    "lg.info(f\"time taken merge sort :{end_time}\")"
   ]
  },
  {
   "cell_type": "code",
   "execution_count": 19,
   "metadata": {},
   "outputs": [
    {
     "name": "stderr",
     "output_type": "stream",
     "text": [
      "\u001b[32m2024-05-08 23:58:41.205\u001b[0m | \u001b[1mINFO    \u001b[0m | \u001b[36m__main__\u001b[0m:\u001b[36m<module>\u001b[0m:\u001b[36m6\u001b[0m - \u001b[1mtime taken merge sort :0.9164764899760485\u001b[0m\n"
     ]
    }
   ],
   "source": [
    "\n",
    "T =TimerError()\n",
    "T.start()\n",
    "\n",
    "mergesort(list(range(1000000)))\n",
    "end_time = T.elapsed()\n",
    "lg.info(f\"time taken merge sort :{end_time}\")"
   ]
  },
  {
   "cell_type": "code",
   "execution_count": 20,
   "metadata": {},
   "outputs": [
    {
     "name": "stderr",
     "output_type": "stream",
     "text": [
      "\u001b[32m2024-05-08 23:59:49.059\u001b[0m | \u001b[1mINFO    \u001b[0m | \u001b[36m__main__\u001b[0m:\u001b[36m<module>\u001b[0m:\u001b[36m6\u001b[0m - \u001b[1mtime taken merge sort :1.6022985609597526\u001b[0m\n"
     ]
    }
   ],
   "source": [
    "L = [ random.randint(1,1000000) for i in range(1000000)]\n",
    "T =TimerError()\n",
    "T.start()\n",
    "mergesort(L)\n",
    "end_time = T.elapsed()\n",
    "lg.info(f\"time taken merge sort :{end_time}\")"
   ]
  },
  {
   "cell_type": "code",
   "execution_count": null,
   "metadata": {},
   "outputs": [],
   "source": []
  }
 ],
 "metadata": {
  "kernelspec": {
   "display_name": "pdsa",
   "language": "python",
   "name": "python3"
  },
  "language_info": {
   "codemirror_mode": {
    "name": "ipython",
    "version": 3
   },
   "file_extension": ".py",
   "mimetype": "text/x-python",
   "name": "python",
   "nbconvert_exporter": "python",
   "pygments_lexer": "ipython3",
   "version": "3.11.0"
  }
 },
 "nbformat": 4,
 "nbformat_minor": 2
}
