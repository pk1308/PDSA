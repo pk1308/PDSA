{
 "cells": [
  {
   "cell_type": "code",
   "execution_count": 1,
   "metadata": {},
   "outputs": [
    {
     "name": "stderr",
     "output_type": "stream",
     "text": [
      "\u001b[32m2024-05-08 18:59:53.053\u001b[0m | \u001b[1mINFO    \u001b[0m | \u001b[36m__main__\u001b[0m:\u001b[36m<module>\u001b[0m:\u001b[36m38\u001b[0m - \u001b[1mtime taken:1.0107993148267269e-05\u001b[0m\n"
     ]
    }
   ],
   "source": [
    "\n",
    "import sys\n",
    "from loguru import logger as lg \n",
    "import random\n",
    "import time\n",
    "\n",
    "\n",
    "class TimerError(Exception):\n",
    "    def __init__(self) -> None:\n",
    "        self._start_time = None \n",
    "        self._stop_time = None \n",
    "        self.elapsed_time = None\n",
    "        \n",
    "    def start(self):\n",
    "        if self._start_time != None:\n",
    "            raise TimerError(\" please stop the timer\")\n",
    "        self._start_time = time.perf_counter()\n",
    "        self._stop_time = None\n",
    "    \n",
    "    def stop(self):\n",
    "        if self._start_time == None:\n",
    "            raise TimerError(\"please start the timer\")\n",
    "        self._stop_time = time.perf_counter()\n",
    "        self.elapsed_time = self._stop_time - self._start_time\n",
    "        self._start_time = None \n",
    "    def elapsed(self):\n",
    "        if self.elapsed == None and self._start_time== None:\n",
    "            raise TimerError(\"the counter not running\")\n",
    "        else:\n",
    "            self.stop()\n",
    "            return self.elapsed_time\n",
    "    def __str__(self) -> str:\n",
    "        return (str(self.elapsed_time))\n",
    "# lg.add(sys.stdout, colorize=True)\n",
    "\n",
    "T =TimerError()\n",
    "T.start()\n",
    "end_time = T.elapsed()\n",
    "lg.info(f\"time taken:{end_time}\")"
   ]
  },
  {
   "cell_type": "code",
   "execution_count": 12,
   "metadata": {},
   "outputs": [],
   "source": [
    "L = [ random.randint(1,1000000000) for i in range(1000000)]"
   ]
  },
  {
   "cell_type": "code",
   "execution_count": 13,
   "metadata": {},
   "outputs": [],
   "source": [
    "\n",
    "def SelectionSort(L):\n",
    "    n = len(L)\n",
    "    if n <= 1:\n",
    "        return(L)\n",
    "    for i in range(n):\n",
    "        # Assume L[:i] is sorted\n",
    "        mpos = i\n",
    "        # mpos: position of minimum in L[i:]\n",
    "        for j in range(i+1,n):\n",
    "            if L[j] < L[mpos]:\n",
    "                mpos = j\n",
    "                # L[mpos] : smallest value in L[i:]\n",
    "                # # Exchange L[mpos] and L[i]\n",
    "                (L[i],L[mpos]) = (L[mpos],L[i])\n",
    "                # Now L[:i+1] is sorted\n",
    "                return(L)"
   ]
  },
  {
   "cell_type": "markdown",
   "metadata": {},
   "source": [
    "$$T(n) =  O(N^{2})$$"
   ]
  },
  {
   "cell_type": "code",
   "execution_count": 14,
   "metadata": {},
   "outputs": [
    {
     "name": "stderr",
     "output_type": "stream",
     "text": [
      "\u001b[32m2024-05-08 19:01:03.132\u001b[0m | \u001b[1mINFO    \u001b[0m | \u001b[36m__main__\u001b[0m:\u001b[36m<module>\u001b[0m:\u001b[36m5\u001b[0m - \u001b[1mtime taken:2.2412044927477837e-05\u001b[0m\n"
     ]
    }
   ],
   "source": [
    "T =TimerError()\n",
    "T.start()\n",
    "SelectionSort(L)\n",
    "end_time_1 = T.elapsed()\n",
    "lg.info(f\"time taken:{end_time_1}\")"
   ]
  },
  {
   "cell_type": "code",
   "execution_count": 15,
   "metadata": {},
   "outputs": [],
   "source": [
    "def sort_list(L: list):\n",
    "    if len(L) ==0:\n",
    "        return []\n",
    "    midpoint = len(L)//2\n",
    "    mid_value = L[midpoint]\n",
    "    lower_list = [low for low in L if low < mid_value]\n",
    "    mid_list = [mid for mid in L if mid == mid_value]\n",
    "    upper_list = [ upper for  upper in L if  upper > mid_value]\n",
    "    return sort_list(lower_list)+mid_list+sort_list(upper_list)"
   ]
  },
  {
   "cell_type": "code",
   "execution_count": 17,
   "metadata": {},
   "outputs": [
    {
     "name": "stderr",
     "output_type": "stream",
     "text": [
      "\u001b[32m2024-05-08 19:01:42.396\u001b[0m | \u001b[1mINFO    \u001b[0m | \u001b[36m__main__\u001b[0m:\u001b[36m<module>\u001b[0m:\u001b[36m5\u001b[0m - \u001b[1mtime taken:1.7496046359883621\u001b[0m\n"
     ]
    }
   ],
   "source": [
    "T =TimerError()\n",
    "T.start()\n",
    "sort_list(L)\n",
    "end_time_2 = T.elapsed()\n",
    "lg.info(f\"time taken:{end_time_2}\")"
   ]
  }
 ],
 "metadata": {
  "kernelspec": {
   "display_name": "pdsa",
   "language": "python",
   "name": "python3"
  },
  "language_info": {
   "codemirror_mode": {
    "name": "ipython",
    "version": 3
   },
   "file_extension": ".py",
   "mimetype": "text/x-python",
   "name": "python",
   "nbconvert_exporter": "python",
   "pygments_lexer": "ipython3",
   "version": "3.11.0"
  }
 },
 "nbformat": 4,
 "nbformat_minor": 2
}
