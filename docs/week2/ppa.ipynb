{
 "cells": [
  {
   "metadata": {},
   "cell_type": "markdown",
   "source": "![PPA1](./image/img.png)",
   "id": "7283ceaf1674edbc"
  },
  {
   "metadata": {},
   "cell_type": "markdown",
   "source": "![ppa1](./image/img_1.png)",
   "id": "c7f7bf7bb0f28181"
  },
  {
   "metadata": {},
   "cell_type": "markdown",
   "source": "",
   "id": "456d9a6fa2ea3370"
  },
  {
   "metadata": {
    "ExecuteTime": {
     "end_time": "2024-06-07T11:20:44.046712Z",
     "start_time": "2024-06-07T11:20:44.041203Z"
    }
   },
   "cell_type": "code",
   "source": [
    "def merge(first_list : list, second_list : list) -> list:\n",
    "    \n",
    "    sorted_listed = list() \n",
    "    first_list_size = len(first_list)\n",
    "    second_list_size = len(second_list)\n",
    "    first_pointer , second_pointer = 0, 0 \n",
    "    while len(sorted_listed) < first_list_size+second_list_size:\n",
    "        if first_pointer == first_list_size:\n",
    "            sorted_listed.extend(second_list[second_pointer:])\n",
    "            break\n",
    "        elif second_pointer == second_list_size:\n",
    "            sorted_listed.extend(first_list[first_pointer:])\n",
    "            break\n",
    "        elif first_list[first_pointer] < second_list[second_pointer]:\n",
    "            sorted_listed.append(first_list[first_pointer])\n",
    "            first_pointer += 1\n",
    "        else:\n",
    "            sorted_listed.append(second_list[second_pointer])\n",
    "            second_pointer += 1\n",
    "    return  sorted_listed\n",
    "\n",
    "def merge_sort( list_to_sort : list) -> list:\n",
    "    \n",
    "    if len(list_to_sort) <= 1:\n",
    "        return list_to_sort\n",
    "    \n",
    "    mid = len(list_to_sort) // 2\n",
    "    \n",
    "    left = merge_sort(list_to_sort[:mid])\n",
    "    right = merge_sort(list_to_sort[mid:])\n",
    "    return merge(left, right)\n",
    "\n",
    "def  binarySearchIndexAndComparisons(list_to_sort : list , value_to_check) -> tuple:\n",
    "    search_result =  False\n",
    "    value_compared = 0\n",
    "    sorted_list = merge_sort(list_to_sort)\n",
    "    left , right = 0, len(sorted_list)-1\n",
    "    while left <=right:\n",
    "        mid = (left + right) // 2\n",
    "        value_compared += 1\n",
    "        if value_to_check == sorted_list[mid]:\n",
    "            search_result = True\n",
    "            return (search_result, value_compared)\n",
    "        elif value_to_check < sorted_list[mid]:\n",
    "            right = mid-1\n",
    "        elif value_to_check > sorted_list[mid]:\n",
    "            left = mid + 1\n",
    "    return (search_result, value_compared)\n",
    "\n",
    "    "
   ],
   "id": "1df856c2bbf84ed1",
   "outputs": [],
   "execution_count": 74
  },
  {
   "metadata": {
    "ExecuteTime": {
     "end_time": "2024-06-07T11:21:30.301891Z",
     "start_time": "2024-06-07T11:21:30.299405Z"
    }
   },
   "cell_type": "code",
   "source": [
    "import random\n",
    "L = [random.randint(1, 100) for i in range(10)]\n",
    "V = random.randint(1, 100)\n",
    "print(L)\n",
    "j = merge_sort(L)"
   ],
   "id": "7203d437a24d60bf",
   "outputs": [
    {
     "name": "stdout",
     "output_type": "stream",
     "text": [
      "[67, 65, 11, 52, 50, 99, 9, 31, 2, 23]\n"
     ]
    }
   ],
   "execution_count": 75
  },
  {
   "metadata": {
    "ExecuteTime": {
     "end_time": "2024-06-07T11:15:57.574181Z",
     "start_time": "2024-06-07T11:15:57.571776Z"
    }
   },
   "cell_type": "code",
   "source": "L=[2, 6, 8, 11, 17, 23, 33, 44, 46, 50, 65]",
   "id": "3f2c76e7ddbf0246",
   "outputs": [],
   "execution_count": 69
  },
  {
   "metadata": {
    "ExecuteTime": {
     "end_time": "2024-06-07T11:21:46.200303Z",
     "start_time": "2024-06-07T11:21:46.196965Z"
    }
   },
   "cell_type": "code",
   "source": "binarySearchIndexAndComparisons(L,100)",
   "id": "703ec591a1e6faed",
   "outputs": [
    {
     "data": {
      "text/plain": [
       "(False, 4)"
      ]
     },
     "execution_count": 77,
     "metadata": {},
     "output_type": "execute_result"
    }
   ],
   "execution_count": 77
  },
  {
   "metadata": {
    "ExecuteTime": {
     "end_time": "2024-06-07T11:09:24.473582Z",
     "start_time": "2024-06-07T11:09:24.470930Z"
    }
   },
   "cell_type": "code",
   "source": "len(L)//2",
   "id": "faf194e5b19eede4",
   "outputs": [
    {
     "data": {
      "text/plain": [
       "5"
      ]
     },
     "execution_count": 45,
     "metadata": {},
     "output_type": "execute_result"
    }
   ],
   "execution_count": 45
  },
  {
   "metadata": {
    "ExecuteTime": {
     "end_time": "2024-06-07T11:09:45.533053Z",
     "start_time": "2024-06-07T11:09:45.527672Z"
    }
   },
   "cell_type": "code",
   "source": "j[5]",
   "id": "1504697c7059fc5a",
   "outputs": [
    {
     "data": {
      "text/plain": [
       "54"
      ]
     },
     "execution_count": 48,
     "metadata": {},
     "output_type": "execute_result"
    }
   ],
   "execution_count": 48
  },
  {
   "metadata": {
    "ExecuteTime": {
     "end_time": "2024-06-07T11:12:20.458926Z",
     "start_time": "2024-06-07T11:12:20.456497Z"
    }
   },
   "cell_type": "code",
   "source": "j",
   "id": "b45140d1508f2518",
   "outputs": [
    {
     "data": {
      "text/plain": [
       "[8, 9, 37, 37, 41, 54, 76, 84, 90, 97]"
      ]
     },
     "execution_count": 63,
     "metadata": {},
     "output_type": "execute_result"
    }
   ],
   "execution_count": 63
  },
  {
   "metadata": {
    "ExecuteTime": {
     "end_time": "2024-06-07T11:28:11.132381Z",
     "start_time": "2024-06-07T11:28:11.129311Z"
    }
   },
   "cell_type": "code",
   "source": "[0]*4",
   "id": "49433ae20317f1f7",
   "outputs": [
    {
     "data": {
      "text/plain": [
       "[0, 0, 0, 0]"
      ]
     },
     "execution_count": 80,
     "metadata": {},
     "output_type": "execute_result"
    }
   ],
   "execution_count": 80
  },
  {
   "metadata": {},
   "cell_type": "markdown",
   "source": "# dont return the sorted listed , the sorted has to be same ",
   "id": "1f93326fe758f22e"
  },
  {
   "metadata": {
    "ExecuteTime": {
     "end_time": "2024-06-07T11:47:21.748520Z",
     "start_time": "2024-06-07T11:47:21.745825Z"
    }
   },
   "cell_type": "code",
   "source": [
    "def sortInRange(list_to_sort : list,range_value: int)-> list:\n",
    "    result_dict = {}\n",
    "    for n in list_to_sort:\n",
    "        if n in result_dict:\n",
    "            result_dict[n].append(n)\n",
    "        else:\n",
    "            result_dict[n] = [n]\n",
    "    list_to_sort.clear()\n",
    "    for i in range(range_value):\n",
    "        list_to_sort.extend(result_dict.get(i))\n",
    "    return"
   ],
   "id": "63bb8501183d19e3",
   "outputs": [],
   "execution_count": 91
  },
  {
   "metadata": {
    "ExecuteTime": {
     "end_time": "2024-06-07T11:47:25.628810Z",
     "start_time": "2024-06-07T11:47:25.626360Z"
    }
   },
   "cell_type": "code",
   "source": [
    "L = [2 ,0, 1, 1 ,2, 3 ,0, 2, 1 ,0, 2, 3 ,1, 2]\n",
    "value = 4 \n",
    "\n",
    "sortInRange(L, 4)"
   ],
   "id": "e6484aedaa55fe0b",
   "outputs": [],
   "execution_count": 92
  },
  {
   "metadata": {
    "ExecuteTime": {
     "end_time": "2024-06-07T11:47:27.432562Z",
     "start_time": "2024-06-07T11:47:27.429112Z"
    }
   },
   "cell_type": "code",
   "source": "L",
   "id": "2d77aca44d019f30",
   "outputs": [
    {
     "data": {
      "text/plain": [
       "[0, 0, 0, 1, 1, 1, 1, 2, 2, 2, 2, 2, 3, 3]"
      ]
     },
     "execution_count": 93,
     "metadata": {},
     "output_type": "execute_result"
    }
   ],
   "execution_count": 93
  },
  {
   "metadata": {},
   "cell_type": "code",
   "outputs": [],
   "execution_count": null,
   "source": "",
   "id": "edc1819381214b1a"
  }
 ],
 "metadata": {
  "kernelspec": {
   "display_name": "Python 3",
   "language": "python",
   "name": "python3"
  },
  "language_info": {
   "codemirror_mode": {
    "name": "ipython",
    "version": 2
   },
   "file_extension": ".py",
   "mimetype": "text/x-python",
   "name": "python",
   "nbconvert_exporter": "python",
   "pygments_lexer": "ipython2",
   "version": "2.7.6"
  }
 },
 "nbformat": 4,
 "nbformat_minor": 5
}
