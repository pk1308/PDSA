{
 "cells": [
  {
   "cell_type": "code",
   "execution_count": 62,
   "id": "68644664",
   "metadata": {},
   "outputs": [],
   "source": [
    "def sort_list(L: list ):\n",
    "    if len(L) == 0:\n",
    "        return []\n",
    "    midpoint = len(L)//2\n",
    "    mid_value = L[midpoint]\n",
    "    lower_list = [low for low in L if low < mid_value]\n",
    "    mid_list = [mid for mid in L if mid == mid_value]\n",
    "    upper_list = [upper for upper in L if upper > mid_value]\n",
    "    return sort_list(lower_list) + mid_list + sort_list(upper_list)\n",
    "def sort_list_descending(L: list) -> list:\n",
    "    if len(L) == 0:\n",
    "        return []\n",
    "    midpoint = len(L)//2\n",
    "    mid_value = L[midpoint]\n",
    "    first_list = [first for first in L if int(first[1:]) > int(mid_value[1:])]\n",
    "    mid_list = [mid for mid in L if int(mid[1:]) == int(mid_value[1:])]\n",
    "    last_list = [last for last in L if int(last[1:]) < int(mid_value[1:])]\n",
    "    return sort_list_descending(first_list) + mid_list + sort_list_descending(last_list)\n",
    "\n",
    "def combinationSort(strList: list) -> list:\n",
    "    ascending_list , descending_list = [] , []\n",
    "    master_dict = {}\n",
    "    \n",
    "    for value in strList:\n",
    "        if value[0] in master_dict:\n",
    "            master_dict[value[0]].append(value)\n",
    "        else:\n",
    "            master_dict[value[0]] = [value]\n",
    "    sorted_keys = sort_list(list(master_dict.keys()))\n",
    "    for keys in sorted_keys:\n",
    "        value_to_add = master_dict.get(keys)\n",
    "        ascending_list.extend(value_to_add)\n",
    "        if len(value_to_add) > 1:\n",
    "            descending_list.extend(sort_list_descending(value_to_add))\n",
    "        else:\n",
    "            descending_list.extend(value_to_add)\n",
    "        \n",
    "    \n",
    "   \n",
    "    return ascending_list , descending_list \n",
    "    "
   ]
  },
  {
   "cell_type": "code",
   "execution_count": 63,
   "id": "c620bdc2",
   "metadata": {},
   "outputs": [],
   "source": [
    "mast_dict = combinationSort([\"d34\", \"g54\", \"d12\", \"b87\", \"g1\", \"c65\", \"g40\", \"g5\", \"d77\"])"
   ]
  },
  {
   "cell_type": "code",
   "execution_count": 64,
   "id": "8b8f84a6",
   "metadata": {},
   "outputs": [
    {
     "data": {
      "text/plain": [
       "(['b87', 'c65', 'd34', 'd12', 'd77', 'g54', 'g1', 'g40', 'g5'],\n",
       " ['b87', 'c65', 'd77', 'd34', 'd12', 'g54', 'g40', 'g5', 'g1'])"
      ]
     },
     "execution_count": 64,
     "metadata": {},
     "output_type": "execute_result"
    }
   ],
   "source": [
    "mast_dict"
   ]
  },
  {
   "cell_type": "code",
   "execution_count": 51,
   "id": "fbab4d26",
   "metadata": {},
   "outputs": [],
   "source": [
    "L = ['g54', 'g1', 'g40', 'g5']"
   ]
  },
  {
   "cell_type": "code",
   "execution_count": 57,
   "id": "d5689a40",
   "metadata": {},
   "outputs": [],
   "source": [
    "midpoint = len(L)//2\n",
    "mid_value = L[midpoint]\n",
    "first_list = [first for first in L if int(first[1:]) > int(mid_value[1:])]\n",
    "mid_list = [mid for mid in L if int(mid[1:]) == int(mid_value[1:])]\n",
    "last_list = [last for last in L if int(last[1:]) < int(mid_value[1:])]"
   ]
  },
  {
   "cell_type": "code",
   "execution_count": 58,
   "id": "6d64f5e2",
   "metadata": {},
   "outputs": [
    {
     "data": {
      "text/plain": [
       "['g54']"
      ]
     },
     "execution_count": 58,
     "metadata": {},
     "output_type": "execute_result"
    }
   ],
   "source": [
    "first_list"
   ]
  },
  {
   "cell_type": "code",
   "execution_count": 59,
   "id": "99b0f5a5",
   "metadata": {},
   "outputs": [
    {
     "data": {
      "text/plain": [
       "['g40']"
      ]
     },
     "execution_count": 59,
     "metadata": {},
     "output_type": "execute_result"
    }
   ],
   "source": [
    "mid_list"
   ]
  },
  {
   "cell_type": "code",
   "execution_count": 60,
   "id": "75d48592",
   "metadata": {},
   "outputs": [
    {
     "data": {
      "text/plain": [
       "['g1', 'g5']"
      ]
     },
     "execution_count": 60,
     "metadata": {},
     "output_type": "execute_result"
    }
   ],
   "source": [
    "last_list"
   ]
  },
  {
   "cell_type": "code",
   "execution_count": 59,
   "id": "4b9ae217",
   "metadata": {},
   "outputs": [],
   "source": [
    "def findLargest(L):\n",
    "    left , right = 0 , len(L)-1\n",
    "    \n",
    "    largest = -1 \n",
    "    while left <= right:\n",
    "        midpoint = L[(left+right)//2]\n",
    "        temp = max(L[left], L[right] , midpoint)  # Assign the maximum value to temp\n",
    "        largest = max(largest, temp, midpoint)  # Update largest if temp is greater\n",
    "        \n",
    "        if midpoint > temp :\n",
    "            left = (left+right)//2-1\n",
    "        else:\n",
    "            right = (left+right)//2-1\n",
    "    return largest"
   ]
  },
  {
   "cell_type": "code",
   "execution_count": 60,
   "id": "33826cab",
   "metadata": {},
   "outputs": [],
   "source": [
    "L =[7 ,8 ,2 ,4 ,5 ,6]"
   ]
  },
  {
   "cell_type": "code",
   "execution_count": 61,
   "id": "c8e01cac",
   "metadata": {},
   "outputs": [
    {
     "data": {
      "text/plain": [
       "8"
      ]
     },
     "execution_count": 61,
     "metadata": {},
     "output_type": "execute_result"
    }
   ],
   "source": [
    "findLargest(L)"
   ]
  },
  {
   "cell_type": "code",
   "execution_count": 62,
   "id": "0076956f",
   "metadata": {},
   "outputs": [],
   "source": [
    "L =[7 ,8 ,2 ,4 ,5 ,6]"
   ]
  },
  {
   "cell_type": "code",
   "execution_count": 35,
   "id": "1de24258",
   "metadata": {},
   "outputs": [],
   "source": [
    "left , right = 0 , len(L)-1"
   ]
  },
  {
   "cell_type": "code",
   "execution_count": 46,
   "id": "2b41d376",
   "metadata": {},
   "outputs": [
    {
     "data": {
      "text/plain": [
       "[]"
      ]
     },
     "execution_count": 46,
     "metadata": {},
     "output_type": "execute_result"
    }
   ],
   "source": [
    "L[left:right+1]"
   ]
  },
  {
   "cell_type": "code",
   "execution_count": 42,
   "id": "15b8cd52",
   "metadata": {},
   "outputs": [],
   "source": [
    "midpoint = L[(left+right)//2]\n",
    "temp = max(L[left], L[right] , midpoint)  # Assign the maximum value to temp\n",
    "largest = max(largest, temp, midpoint)"
   ]
  },
  {
   "cell_type": "code",
   "execution_count": 43,
   "id": "2fc33bdf",
   "metadata": {},
   "outputs": [
    {
     "data": {
      "text/plain": [
       "8"
      ]
     },
     "execution_count": 43,
     "metadata": {},
     "output_type": "execute_result"
    }
   ],
   "source": [
    "largest"
   ]
  },
  {
   "cell_type": "code",
   "execution_count": 44,
   "id": "a5017dc3",
   "metadata": {},
   "outputs": [
    {
     "data": {
      "text/plain": [
       "(7, 8)"
      ]
     },
     "execution_count": 44,
     "metadata": {},
     "output_type": "execute_result"
    }
   ],
   "source": [
    "midpoint, temp"
   ]
  },
  {
   "cell_type": "code",
   "execution_count": 45,
   "id": "87e01485",
   "metadata": {},
   "outputs": [],
   "source": [
    "if midpoint > temp :\n",
    "    left = (left+right)//2-1\n",
    "else:\n",
    "    right = (left+right)//2-1"
   ]
  },
  {
   "cell_type": "code",
   "execution_count": null,
   "id": "39acbf1b",
   "metadata": {},
   "outputs": [],
   "source": []
  }
 ],
 "metadata": {
  "kernelspec": {
   "display_name": "Python 3",
   "language": "python",
   "name": "python3"
  },
  "language_info": {
   "codemirror_mode": {
    "name": "ipython",
    "version": 3
   },
   "file_extension": ".py",
   "mimetype": "text/x-python",
   "name": "python",
   "nbconvert_exporter": "python",
   "pygments_lexer": "ipython3",
   "version": "3.11.9"
  }
 },
 "nbformat": 4,
 "nbformat_minor": 5
}
