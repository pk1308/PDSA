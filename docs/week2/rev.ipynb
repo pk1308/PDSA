{
 "cells": [
  {
   "cell_type": "markdown",
   "metadata": {},
   "source": [
    "\n",
    " \n",
    "\n",
    "Notations to represent complexity\n",
    "The notation are mathematical notations that are commonly used to describe the time complexity of an algorithm or the upper and lower bounds of how an algorithm's running time grows as the input size grows.\n",
    "\n",
    "Big-Oh(O) - Upper bound:\n",
    "\n",
    "Big O notation describes the upper bound of an algorithm's running time. Specifically, we use the notation \n",
    " to describe the maximum growth rate of an algorithm's running time. This means that the algorithm's running time will not grow faster than some constant multiple of \n",
    " as the input size grows.\n",
    "\n",
    "Omega( $ \\Omega $) - Lower bound:\n",
    "\n",
    "Omega notation, on the other hand, describes the lower bound of an algorithm's running time. Specifically, we use the notation \n",
    " to describe the minimum growth rate of an algorithm's running time. This means that the algorithm's running time will not grow slower than some constant multiple of \n",
    "as the input size grows.\n",
    "\n",
    "Theta( $ \\theta$ ) - Tightly bound:\n",
    "\n",
    "Theta notation describes both the upper and lower bounds of an algorithm's running time. Specifically, we use the notation \n",
    " to describe the tight bound of an algorithm's running time. This means that the algorithm's running time will grow at the same rate as some constant multiple of \n",
    " as the input size grows."
   ]
  },
  {
   "cell_type": "code",
   "execution_count": 3,
   "metadata": {},
   "outputs": [
    {
     "name": "stdout",
     "output_type": "stream",
     "text": [
      " Big0 n = 500 s value 500\n",
      " Big0 n^2 = 250000 s value 250000\n",
      " Big0 n^3 = 125000000 s value 125000000\n"
     ]
    }
   ],
   "source": [
    "n = 500\n",
    "s = 0\n",
    "for i in range(n):\n",
    "    s = s + 1\n",
    "print(f\" Big0 n = {n} s value {s}\")\n",
    "s = 0\n",
    "for i in range(n):\n",
    "    for j in range(n):\n",
    "        s = s + 1\n",
    "print(f\" Big0 n^2 = {n**2} s value {s}\")\n",
    "s = 0\n",
    "for i in range(n):\n",
    "    for j in range(n):\n",
    "        for k in range(n):\n",
    "            s = s + 1\n",
    "print(f\" Big0 n^3 = {n**3} s value {s}\")"
   ]
  },
  {
   "cell_type": "markdown",
   "metadata": {},
   "source": [
    "## Binary Search \n",
    "\n",
    "Algorithm:\n",
    "Start with a sorted list and a target value.\n",
    "\n",
    "Set the low and high pointers to the first and last indices of the list, respectively.\n",
    "\n",
    "While the low pointer is less than or equal to the high pointer: \n",
    "\n",
    "A. Calculate the middle index as the average of the low and high pointers (round down if necessary). \n",
    "\n",
    "B. If the target value is equal to the middle element of the list, return the middle index. \n",
    "\n",
    "C. If the target value is less than the middle element, set the high pointer to the index before the middle index. \n",
    "\n",
    "D. If the target value is greater than the middle element, set the low pointer to the index after the middle index.\n",
    "\n",
    "If the target value is not found in the list, return False (or some other indication that the value is not present).\n",
    "\n"
   ]
  },
  {
   "cell_type": "code",
   "execution_count": 1,
   "metadata": {},
   "outputs": [],
   "source": [
    "def merge(first_list , second_list) -> list :\n",
    "    \n",
    "    sorted_list = []\n",
    "    \n",
    "    first_pointer , second_pointer = 0 , 0 \n",
    "    \n",
    "    while first_pointer < len(first_list) and second_pointer < len(second_list):\n",
    "        \n",
    "        if first_list[first_pointer] < second_list[second_pointer]:\n",
    "            sorted_list.append(first_list[first_pointer])\n",
    "            first_pointer+=1\n",
    "        else:\n",
    "            sorted_list.append(second_list[second_pointer])\n",
    "            second_pointer+=1\n",
    "    sorted_list.extend(first_list[first_pointer:])\n",
    "    sorted_list.extend(second_list[second_pointer:])\n",
    "    \n",
    "    return sorted_list\n",
    "\n",
    "def mergesort(L):\n",
    "    \n",
    "    n = len(L)\n",
    "    \n",
    "    if n==1:\n",
    "        return L\n",
    "    left_half = mergesort(L[ : n//2])\n",
    "    right_half = mergesort(L[n//2:])\n",
    "    sorted_list = merge(left_half, right_half)\n",
    "    return sorted_list"
   ]
  },
  {
   "cell_type": "code",
   "execution_count": 28,
   "metadata": {},
   "outputs": [],
   "source": [
    "import random \n",
    "\n",
    "L = [random.randint(a=1, b = 100000) for i in range(10000)]\n",
    "\n",
    "V = random.choice(L)"
   ]
  },
  {
   "cell_type": "code",
   "execution_count": 16,
   "metadata": {},
   "outputs": [
    {
     "data": {
      "text/plain": [
       "27952"
      ]
     },
     "execution_count": 16,
     "metadata": {},
     "output_type": "execute_result"
    }
   ],
   "source": [
    "V"
   ]
  },
  {
   "cell_type": "code",
   "execution_count": 4,
   "metadata": {},
   "outputs": [
    {
     "name": "stdout",
     "output_type": "stream",
     "text": [
      " CWD : /home/pk/Desktop/gitmaster/PDSA\n"
     ]
    }
   ],
   "source": [
    "import sys\n",
    "import random\n",
    "\n",
    "\n",
    "import os\n",
    "\n",
    "os.chdir(\"..\")\n",
    "os.chdir(\"..\")\n",
    "print(f\" CWD : {os.getcwd()}\")\n",
    "from driver_folder.time_driver import TimerError"
   ]
  },
  {
   "cell_type": "code",
   "execution_count": 17,
   "metadata": {},
   "outputs": [],
   "source": [
    "J = L.copy()"
   ]
  },
  {
   "cell_type": "code",
   "execution_count": 29,
   "metadata": {},
   "outputs": [
    {
     "name": "stdout",
     "output_type": "stream",
     "text": [
      "time taken:7.14799971319735e-05\n"
     ]
    }
   ],
   "source": [
    "T = TimerError()\n",
    "T.start()\n",
    "J.sort()\n",
    "end_time_1 = T.elapsed()\n",
    "print(f\"time taken:{end_time_1}\")"
   ]
  },
  {
   "cell_type": "code",
   "execution_count": 31,
   "metadata": {},
   "outputs": [
    {
     "name": "stdout",
     "output_type": "stream",
     "text": [
      "time taken:0.013598621997516602\n"
     ]
    }
   ],
   "source": [
    "T = TimerError()\n",
    "T.start()\n",
    "L = mergesort(L)\n",
    "end_time = T.elapsed()\n",
    "print(f\"time taken:{end_time}\")"
   ]
  },
  {
   "cell_type": "code",
   "execution_count": 20,
   "metadata": {},
   "outputs": [
    {
     "data": {
      "text/plain": [
       "-0.011775112012401223"
      ]
     },
     "execution_count": 20,
     "metadata": {},
     "output_type": "execute_result"
    }
   ],
   "source": [
    "end_time_1- end_time"
   ]
  },
  {
   "cell_type": "code",
   "execution_count": 40,
   "metadata": {},
   "outputs": [],
   "source": [
    "def binarysearch(L , v ):\n",
    "    # L is sorted list     \n",
    "    low , high = 0 , len(L)-1 \n",
    "    \n",
    "    while low <= high:\n",
    "        mid = (low+high)//2\n",
    "        if L[mid] < V:\n",
    "            low = mid+1\n",
    "        elif L[mid] > v:\n",
    "            high = mid -1 \n",
    "        else:\n",
    "            return True\n",
    "    return False"
   ]
  },
  {
   "cell_type": "code",
   "execution_count": 42,
   "metadata": {},
   "outputs": [
    {
     "name": "stdout",
     "output_type": "stream",
     "text": [
      "True\n",
      "time taken:0.0001255530078196898\n"
     ]
    }
   ],
   "source": [
    "T = TimerError()\n",
    "T.start()\n",
    "print(V in L)\n",
    "end_time = T.elapsed()\n",
    "print(f\"time taken:{end_time}\")"
   ]
  },
  {
   "cell_type": "code",
   "execution_count": 41,
   "metadata": {},
   "outputs": [
    {
     "name": "stdout",
     "output_type": "stream",
     "text": [
      "True\n",
      "time taken:0.00010096999176312238\n"
     ]
    }
   ],
   "source": [
    "T = TimerError()\n",
    "T.start()\n",
    "print(binarysearch(L, V))\n",
    "end_time = T.elapsed()\n",
    "print(f\"time taken:{end_time}\")"
   ]
  },
  {
   "cell_type": "code",
   "execution_count": 43,
   "metadata": {},
   "outputs": [],
   "source": [
    "def binarysearch(L, v , low , high):\n",
    "    if high - low < 0 :\n",
    "        return False\n",
    "    mid =  (high+low)//2\n",
    "    if v == L[mid]:\n",
    "        return True \n",
    "    if v < L[mid]:\n",
    "        return binarysearch(L , v , low , mid-1)\n",
    "    else:\n",
    "        return binarysearch(L , v , mid+1 , high)"
   ]
  },
  {
   "cell_type": "code",
   "execution_count": 45,
   "metadata": {},
   "outputs": [],
   "source": [
    "low = 0 \n",
    "high = len(L)"
   ]
  },
  {
   "cell_type": "code",
   "execution_count": 46,
   "metadata": {},
   "outputs": [
    {
     "name": "stdout",
     "output_type": "stream",
     "text": [
      "True\n",
      "time taken:7.534401083830744e-05\n"
     ]
    }
   ],
   "source": [
    "T = TimerError()\n",
    "T.start()\n",
    "print(binarysearch(L, V , low , high))\n",
    "end_time = T.elapsed()\n",
    "print(f\"time taken:{end_time}\")"
   ]
  },
  {
   "cell_type": "code",
   "execution_count": 47,
   "metadata": {},
   "outputs": [],
   "source": [
    "def binarysearch(L,v):\n",
    "    if L == []:\n",
    "        return(False)\n",
    "    mid = len(L)//2\n",
    "    if v == L[mid]:\n",
    "        return mid\n",
    "    if v < L[mid]:\n",
    "        return(binarysearch(L[:mid],v))\n",
    "    else:\n",
    "        return(binarysearch(L[mid+1:],v))"
   ]
  },
  {
   "cell_type": "code",
   "execution_count": 48,
   "metadata": {},
   "outputs": [
    {
     "name": "stdout",
     "output_type": "stream",
     "text": [
      "0\n",
      "time taken:0.00010571499296929687\n"
     ]
    }
   ],
   "source": [
    "T = TimerError()\n",
    "T.start()\n",
    "print(binarysearch(L, V ))\n",
    "end_time = T.elapsed()\n",
    "print(f\"time taken:{end_time}\")"
   ]
  },
  {
   "cell_type": "markdown",
   "metadata": {},
   "source": [
    "## Selection sort"
   ]
  },
  {
   "cell_type": "code",
   "execution_count": 62,
   "metadata": {},
   "outputs": [],
   "source": [
    "def selection_sort(L):\n",
    "    \n",
    "    n = len(L)\n",
    "    \n",
    "    if n <=1 :\n",
    "        return L\n",
    "    for i in range(n): # n \n",
    "        minpos = i \n",
    "        for j in range(i+1, n): # n (n-1)\n",
    "            if L[j] < L[minpos]:\n",
    "                minpos = j \n",
    "        L[i] , L[minpos] = L[minpos] , L[i]\n",
    "        \n",
    "    return L "
   ]
  },
  {
   "attachments": {
    "image.png": {
     "image/png": "[encoded data removed]"
    }
   },
   "cell_type": "markdown",
   "metadata": {},
   "source": [
    "![|](attachment:image.png)"
   ]
  },
  {
   "cell_type": "code",
   "execution_count": 57,
   "metadata": {},
   "outputs": [],
   "source": [
    "L = [random.randint(a=1, b = 100000) for i in range(10000)]"
   ]
  },
  {
   "cell_type": "code",
   "execution_count": 59,
   "metadata": {},
   "outputs": [
    {
     "name": "stdout",
     "output_type": "stream",
     "text": [
      "time taken:0.0008929939940571785\n"
     ]
    }
   ],
   "source": [
    "T = TimerError()\n",
    "T.start()\n",
    "J.sort()\n",
    "end_time = T.elapsed()\n",
    "print(f\"time taken:{end_time}\")"
   ]
  },
  {
   "cell_type": "code",
   "execution_count": 60,
   "metadata": {},
   "outputs": [],
   "source": [
    "J = L.copy()"
   ]
  },
  {
   "cell_type": "code",
   "execution_count": 61,
   "metadata": {},
   "outputs": [
    {
     "name": "stdout",
     "output_type": "stream",
     "text": [
      "time taken:0.9937963989941636\n"
     ]
    }
   ],
   "source": [
    "T = TimerError()\n",
    "T.start()\n",
    "_ = selection_sort(J)\n",
    "end_time = T.elapsed()\n",
    "print(f\"time taken:{end_time}\")"
   ]
  },
  {
   "cell_type": "markdown",
   "metadata": {},
   "source": [
    "# insert sort "
   ]
  },
  {
   "cell_type": "code",
   "execution_count": 64,
   "metadata": {},
   "outputs": [],
   "source": [
    "def Insertsort(L):\n",
    "    n = len(L)\n",
    "    if n <=1:\n",
    "        return L\n",
    "    for i in range(n):\n",
    "        j = i \n",
    "        while (j>0 ) and L[j] < L[j-1]:\n",
    "            L[j] , L[j-1] = L[j-1] , L[j]\n",
    "            j-=1\n",
    "    return L "
   ]
  },
  {
   "attachments": {
    "image.png": {
     "image/png": "[encoded data removed]"
    }
   },
   "cell_type": "markdown",
   "metadata": {},
   "source": [
    "![image.png](attachment:image.png)"
   ]
  },
  {
   "cell_type": "code",
   "execution_count": 65,
   "metadata": {},
   "outputs": [
    {
     "name": "stdout",
     "output_type": "stream",
     "text": [
      "time taken:1.605617697990965\n"
     ]
    }
   ],
   "source": [
    "J = L.copy()\n",
    "T = TimerError()\n",
    "T.start()\n",
    "_ = Insertsort(J)\n",
    "end_time = T.elapsed()\n",
    "print(f\"time taken:{end_time}\")"
   ]
  },
  {
   "cell_type": "code",
   "execution_count": 66,
   "metadata": {},
   "outputs": [],
   "source": [
    "def merge_1(A,B): # Merge two sorted list A and B\n",
    "    (m,n) = (len(A),len(B))\n",
    "    (C,i,j) = ([],0,0)\n",
    "    \n",
    "    #Case 1 :- When both lists A and B have elements for comparing\n",
    "    while i < m and j < n:\n",
    "        if A[i] <= B[j]:\n",
    "            C.append(A[i])\n",
    "            i += 1\n",
    "        else:\n",
    "            C.append(B[j])\n",
    "            j += 1\n",
    "    \n",
    "    #Case 2 :- If list B is over, shift all elements of A to C \n",
    "    while i < m:\n",
    "        C.append(A[i])\n",
    "        i += 1\n",
    "    \n",
    "    #Case 3 :- If list A is over, shift all elements of B to C \n",
    "    while j < n:\n",
    "        C.append(B[j])\n",
    "        j += 1\n",
    "    \n",
    "    # Return sorted merged list   \n",
    "    return C\n",
    "\n",
    "\n",
    "\n",
    "# Recursively divide the problem into sub-problems to sort the input list L    \n",
    "def mergesort_1(L): \n",
    "    n = len(L)\n",
    "    if n <= 1: #If the list contains only one element or is empty return the list.\n",
    "        return(L)\n",
    "    Left_Half = mergesort_1(L[:n//2]) #Recursively sort the left half of the list\n",
    "    Right_Half = mergesort_1(L[n//2:]) #Recursively sort the rightt half of the list\n",
    "    Sorted_Merged_List = merge_1(Left_Half, Right_Half) # Merge two sorted list Left_Half and Right_Half\n",
    "    return(Sorted_Merged_List)"
   ]
  },
  {
   "cell_type": "code",
   "execution_count": 67,
   "metadata": {},
   "outputs": [
    {
     "name": "stdout",
     "output_type": "stream",
     "text": [
      "time taken:0.015720170005806722\n"
     ]
    }
   ],
   "source": [
    "J = L.copy()\n",
    "T = TimerError()\n",
    "T.start()\n",
    "_ = mergesort(J)\n",
    "end_time = T.elapsed()\n",
    "print(f\"time taken:{end_time}\")"
   ]
  },
  {
   "cell_type": "code",
   "execution_count": 68,
   "metadata": {},
   "outputs": [
    {
     "name": "stdout",
     "output_type": "stream",
     "text": [
      "time taken:0.008167273001163267\n"
     ]
    }
   ],
   "source": [
    "J = L.copy()\n",
    "T = TimerError()\n",
    "T.start()\n",
    "_ = mergesort_1(J)\n",
    "end_time = T.elapsed()\n",
    "print(f\"time taken:{end_time}\")"
   ]
  },
  {
   "attachments": {
    "image.png": {
     "image/png": "[encoded data removed]"
    }
   },
   "cell_type": "markdown",
   "metadata": {},
   "source": [
    "![image.png](attachment:image.png)"
   ]
  },
  {
   "cell_type": "code",
   "execution_count": 1,
   "metadata": {},
   "outputs": [
    {
     "name": "stdout",
     "output_type": "stream",
     "text": [
      "3 3 6\n"
     ]
    }
   ],
   "source": [
    "def merge_1(A,B): \n",
    "    (m,n) = (len(A),len(B))\n",
    "    (C,i,j) = ([],0,0)\n",
    "    global count \n",
    "    #Case 1 :- When both lists A and B have elements for comparing\n",
    "    while i < m and j < n:\n",
    "        count +=1 \n",
    "        if A[i] <= B[j]:\n",
    "            C.append(A[i])\n",
    "            i += 1\n",
    "        else:\n",
    "            C.append(B[j])\n",
    "            j += 1\n",
    "    \n",
    "    #Case 2 :- If list B is over, shift all elements of A to C \n",
    "    while i < m:\n",
    "        count +=1\n",
    "        C.append(A[i])\n",
    "        i += 1\n",
    "    \n",
    "    #Case 3 :- If list A is over, shift all elements of B to C \n",
    "    while j < n:\n",
    "        count +=1\n",
    "        C.append(B[j])\n",
    "        j += 1\n",
    "    \n",
    "    # Return sorted merged list   \n",
    "    return C\n",
    "\n",
    "\n",
    "count = 0 \n",
    "\n",
    "L = [1,2,3]\n",
    "J = [4,5, 6]\n",
    "\n",
    "merge_1(L, J)\n",
    "\n",
    "print(len(L), len(J), count )"
   ]
  },
  {
   "cell_type": "code",
   "execution_count": 3,
   "metadata": {},
   "outputs": [
    {
     "data": {
      "text/plain": [
       "[22, 28, 33, 38, 39, 43, 112]"
      ]
     },
     "execution_count": 3,
     "metadata": {},
     "output_type": "execute_result"
    }
   ],
   "source": [
    "def Insertsort(L):\n",
    "    global count \n",
    "    n = len(L)\n",
    "    if n <=1:\n",
    "        return L\n",
    "    for i in range(n):\n",
    "        j = i \n",
    "        while (j>0 ) and L[j] < L[j-1]:\n",
    "            L[j] , L[j-1] = L[j-1] , L[j]\n",
    "            count +=1\n",
    "            j-=1\n",
    "    return L \n",
    "\n",
    "count = 0 \n",
    "L = [38, 28, 43, 22, 112, 33, 39]\n",
    "\n",
    "Insertsort(L)"
   ]
  },
  {
   "cell_type": "code",
   "execution_count": 4,
   "metadata": {},
   "outputs": [
    {
     "data": {
      "text/plain": [
       "9"
      ]
     },
     "execution_count": 4,
     "metadata": {},
     "output_type": "execute_result"
    }
   ],
   "source": [
    "count"
   ]
  },
  {
   "cell_type": "code",
   "execution_count": 7,
   "metadata": {},
   "outputs": [
    {
     "name": "stdout",
     "output_type": "stream",
     "text": [
      "14\n"
     ]
    }
   ],
   "source": [
    "def merge_1(A,B): \n",
    "    (m,n) = (len(A),len(B))\n",
    "    (C,i,j) = ([],0,0)\n",
    "    global count \n",
    "    #Case 1 :- When both lists A and B have elements for comparing\n",
    "    while i < m and j < n:\n",
    "        count +=1 \n",
    "        if A[i] <= B[j]:\n",
    "            C.append(A[i])\n",
    "            i += 1\n",
    "        else:\n",
    "            C.append(B[j])\n",
    "            j += 1\n",
    "    \n",
    "    #Case 2 :- If list B is over, shift all elements of A to C \n",
    "    while i < m:\n",
    "        C.append(A[i])\n",
    "        i += 1\n",
    "    \n",
    "    #Case 3 :- If list A is over, shift all elements of B to C \n",
    "    while j < n:\n",
    "        C.append(B[j])\n",
    "        j += 1\n",
    "    \n",
    "    # Return sorted merged list   \n",
    "    return C\n",
    "\n",
    "count = 0 \n",
    "\n",
    "L1 =[4,5,6]\n",
    "L2=[1,2,3]\n",
    "L3 = [7,9,11]\n",
    "L4 = [8,10,12] \n",
    "\n",
    "merge_1(merge_1(L1, L2), merge_1(L3, L4))\n",
    "\n",
    "print(count )"
   ]
  },
  {
   "cell_type": "code",
   "execution_count": null,
   "metadata": {},
   "outputs": [],
   "source": []
  }
 ],
 "metadata": {
  "kernelspec": {
   "display_name": "pdsa_1",
   "language": "python",
   "name": "python3"
  },
  "language_info": {
   "codemirror_mode": {
    "name": "ipython",
    "version": 3
   },
   "file_extension": ".py",
   "mimetype": "text/x-python",
   "name": "python",
   "nbconvert_exporter": "python",
   "pygments_lexer": "ipython3",
   "version": "3.11.9"
  }
 },
 "nbformat": 4,
 "nbformat_minor": 2
}
