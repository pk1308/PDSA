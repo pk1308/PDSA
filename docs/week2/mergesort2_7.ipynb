{
 "cells": [
  {
   "cell_type": "code",
   "execution_count": 1,
   "metadata": {},
   "outputs": [
    {
     "name": "stderr",
     "output_type": "stream",
     "text": [
      "\u001b[32m2024-05-08 22:56:27.046\u001b[0m | \u001b[1mINFO    \u001b[0m | \u001b[36m__main__\u001b[0m:\u001b[36m<module>\u001b[0m:\u001b[36m37\u001b[0m - \u001b[1mtime taken:1.082499511539936e-05\u001b[0m\n"
     ]
    }
   ],
   "source": [
    "from loguru import logger as lg\n",
    "import random\n",
    "import time\n",
    "\n",
    "\n",
    "class TimerError(Exception):\n",
    "    def __init__(self) -> None:\n",
    "        self._start_time = None\n",
    "        self._stop_time = None\n",
    "        self.elapsed_time = None\n",
    "\n",
    "    def start(self):\n",
    "        if self._start_time != None:\n",
    "            raise TimerError(\" please stop the timer\")\n",
    "        self._start_time = time.perf_counter()\n",
    "        self._stop_time = None\n",
    "\n",
    "    def stop(self):\n",
    "        if self._start_time == None:\n",
    "            raise TimerError(\"please start the timer\")\n",
    "        self._stop_time = time.perf_counter()\n",
    "        self.elapsed_time = self._stop_time - self._start_time\n",
    "        self._start_time = None\n",
    "\n",
    "    def elapsed(self):\n",
    "        if self.elapsed == None and self._start_time == None:\n",
    "            raise TimerError(\"the counter not running\")\n",
    "        else:\n",
    "            self.stop()\n",
    "            return self.elapsed_time\n",
    "\n",
    "    def __str__(self) -> str:\n",
    "        return str(self.elapsed_time)\n",
    "\n",
    "\n",
    "# lg.add(sys.stdout, colorize=True)\n",
    "\n",
    "T = TimerError()\n",
    "T.start()\n",
    "end_time = T.elapsed()\n",
    "lg.info(f\"time taken:{end_time}\")"
   ]
  },
  {
   "cell_type": "code",
   "execution_count": 4,
   "metadata": {},
   "outputs": [],
   "source": [
    "L = [random.randint(1, 100) for i in range(1000)]\n",
    "V = random.randint(1, 100)"
   ]
  },
  {
   "cell_type": "code",
   "execution_count": 9,
   "metadata": {},
   "outputs": [],
   "source": [
    "def merge(A, B):\n",
    "    \"\"\"\n",
    "    Merge two sorted lists A and B into a single sorted list.\n",
    "\n",
    "    Args:\n",
    "        A (list): The first sorted list.\n",
    "        B (list): The second sorted list.\n",
    "\n",
    "    Returns:\n",
    "        list: The merged sorted list.\n",
    "    \"\"\"\n",
    "    C, i, j, k = [], 0, 0, 0\n",
    "    m, n = len(A), len(B)\n",
    "\n",
    "    while k < m + n:\n",
    "        if i == m:\n",
    "            C.extend(B[j:])\n",
    "            k = k + (n - j)\n",
    "        elif j == n:\n",
    "            C.extend(A[i:])\n",
    "            k = k + (m - i)\n",
    "        elif A[i] < B[j]:\n",
    "            C.append(A[i])\n",
    "            i, k = i + 1, k + 1\n",
    "        else:\n",
    "            C.append(B[j])\n",
    "            j, k = j + 1, k + 1\n",
    "\n",
    "    return C\n",
    "\n",
    "\n",
    "def mergesort(A):\n",
    "    \"\"\"\n",
    "    Sorts a list using the merge sort algorithm.\n",
    "\n",
    "    Args:\n",
    "        A (list): The list to be sorted.\n",
    "\n",
    "    Returns:\n",
    "        list: The sorted list.\n",
    "    \"\"\"\n",
    "    n = len(A)\n",
    "\n",
    "    # Base case: If the list has 0 or 1 element, it is already sorted\n",
    "    if n <= 1:\n",
    "        return A\n",
    "\n",
    "    # Recursively split the list into two halves and sort each half\n",
    "    L = mergesort(A[: n // 2])\n",
    "    R = mergesort(A[n // 2 :])\n",
    "\n",
    "    # Merge the sorted halves\n",
    "    B = merge(L, R)\n",
    "\n",
    "    return B"
   ]
  },
  {
   "cell_type": "markdown",
   "metadata": {},
   "source": [
    "$$complexity\\ =\\ O\\left( nlogn\\right)$$"
   ]
  },
  {
   "cell_type": "code",
   "execution_count": 11,
   "metadata": {},
   "outputs": [
    {
     "name": "stderr",
     "output_type": "stream",
     "text": [
      "\u001b[32m2024-05-08 23:07:56.251\u001b[0m | \u001b[1mINFO    \u001b[0m | \u001b[36m__main__\u001b[0m:\u001b[36m<module>\u001b[0m:\u001b[36m5\u001b[0m - \u001b[1mtime taken:0.0008673730189912021\u001b[0m\n"
     ]
    }
   ],
   "source": [
    "T = TimerError()\n",
    "T.start()\n",
    "mergesort(L)\n",
    "end_time = T.elapsed()\n",
    "lg.info(f\"time taken:{end_time}\")"
   ]
  },
  {
   "cell_type": "code",
   "execution_count": null,
   "metadata": {},
   "outputs": [],
   "source": []
  }
 ],
 "metadata": {
  "kernelspec": {
   "display_name": "pdsa",
   "language": "python",
   "name": "python3"
  },
  "language_info": {
   "codemirror_mode": {
    "name": "ipython",
    "version": 3
   },
   "file_extension": ".py",
   "mimetype": "text/x-python",
   "name": "python",
   "nbconvert_exporter": "python",
   "pygments_lexer": "ipython3",
   "version": "3.11.9"
  }
 },
 "nbformat": 4,
 "nbformat_minor": 2
}
