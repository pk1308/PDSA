{
 "cells": [
  {
   "cell_type": "code",
   "execution_count": null,
   "metadata": {},
   "outputs": [],
   "source": [
    "\n",
    "import sys\n",
    "from loguru import logger as lg \n",
    "import random\n",
    "import time\n",
    "\n",
    "\n",
    "class TimerError(Exception):\n",
    "    def __init__(self) -> None:\n",
    "        self._start_time = None \n",
    "        self._stop_time = None \n",
    "        self.elapsed_time = None\n",
    "        \n",
    "    def start(self):\n",
    "        if self._start_time != None:\n",
    "            raise TimerError(\" please stop the timer\")\n",
    "        self._start_time = time.perf_counter()\n",
    "        self._stop_time = None\n",
    "    \n",
    "    def stop(self):\n",
    "        if self._start_time == None:\n",
    "            raise TimerError(\"please start the timer\")\n",
    "        self._stop_time = time.perf_counter()\n",
    "        self.elapsed_time = self._stop_time - self._start_time\n",
    "        self._start_time = None \n",
    "    def elapsed(self):\n",
    "        if self.elapsed == None and self._start_time== None:\n",
    "            raise TimerError(\"the counter not running\")\n",
    "        else:\n",
    "            self.stop()\n",
    "            return self.elapsed_time\n",
    "    def __str__(self) -> str:\n",
    "        return (str(self.elapsed_time))\n",
    "# lg.add(sys.stdout, colorize=True)\n",
    "\n",
    "T =TimerError()\n",
    "T.start()\n",
    "end_time = T.elapsed()\n",
    "lg.info(f\"time taken:{end_time}\")"
   ]
  }
 ],
 "metadata": {
  "kernelspec": {
   "display_name": "pdsa",
   "language": "python",
   "name": "python3"
  },
  "language_info": {
   "name": "python",
   "version": "3.11.0"
  }
 },
 "nbformat": 4,
 "nbformat_minor": 2
}
