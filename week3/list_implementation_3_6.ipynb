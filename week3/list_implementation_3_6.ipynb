{
 "cells": [
  {
   "cell_type": "code",
   "execution_count": 1,
   "metadata": {},
   "outputs": [
    {
     "name": "stdout",
     "output_type": "stream",
     "text": [
      "\u001b[34m\u001b[1mDEBUG\u001b[0m:\u001b[34m CWD : /home/pk/Desktop/gitmaster/PDSA\u001b[0m\n"
     ]
    }
   ],
   "source": [
    "import sys\n",
    "from loguru import logger \n",
    "import random\n",
    "\n",
    "logger.remove()\n",
    "logger.add(sys.stdout, colorize=True,format=\"<level>{level}</level>:<blue>{message}</blue>\")\n",
    "import os \n",
    "\n",
    "os.chdir(\"..\")\n",
    "os.chdir(\"..\")\n",
    "logger.debug(f\" CWD : {os.getcwd()}\")\n",
    "from driver_folder.time_driver import TimerError "
   ]
  },
  {
   "cell_type": "code",
   "execution_count": 2,
   "metadata": {},
   "outputs": [
    {
     "name": "stdout",
     "output_type": "stream",
     "text": [
      "\u001b[1mINFO\u001b[0m:\u001b[34mtime taken:1.7789017874747515e-05\u001b[0m\n"
     ]
    }
   ],
   "source": [
    "T =TimerError()\n",
    "T.start()\n",
    "end_time = T.elapsed()\n",
    "logger.info(f\"time taken:{end_time}\")"
   ]
  },
  {
   "cell_type": "code",
   "execution_count": 3,
   "metadata": {},
   "outputs": [],
   "source": [
    "class Node:\n",
    "    def __init__(self, v=None):\n",
    "        self.value = v\n",
    "        self.next = None\n",
    "\n",
    "    def isempty(self):\n",
    "        return self.value is None\n",
    "\n",
    "    def append(self, value_to_append):\n",
    "        if self.isempty():\n",
    "            self.value = value_to_append\n",
    "        elif self.next is None:\n",
    "            self.next = Node(value_to_append)\n",
    "        else:\n",
    "            self.next.append(value_to_append)\n",
    "\n",
    "    def insert(self, value_to_insert):\n",
    "        new_node = Node(value_to_insert)\n",
    "        new_node.next = self.next\n",
    "        self.next = new_node\n",
    "        self.value, new_node.value = new_node.value, self.value\n",
    "\n",
    "    def delete(self, value_to_delete):\n",
    "        if self.isempty():\n",
    "            return\n",
    "\n",
    "        if self.value == value_to_delete:\n",
    "            if self.next is not None:\n",
    "                self.value = self.next.value\n",
    "                self.next = self.next.next\n",
    "            else:\n",
    "                self.value = None\n",
    "        else:\n",
    "            if self.next is not None:\n",
    "                self.next.delete(value_to_delete)\n",
    "\n",
    "    def __str__(self):\n",
    "        result = str(self.value)\n",
    "        if self.next:\n",
    "            result += ' -> ' + str(self.next)\n",
    "        return result\n",
    "\n",
    "        \n",
    "    "
   ]
  },
  {
   "cell_type": "code",
   "execution_count": 4,
   "metadata": {},
   "outputs": [
    {
     "data": {
      "text/plain": [
       "True"
      ]
     },
     "execution_count": 4,
     "metadata": {},
     "output_type": "execute_result"
    }
   ],
   "source": [
    "l1 = Node()\n",
    "l1.isempty()"
   ]
  },
  {
   "cell_type": "code",
   "execution_count": 5,
   "metadata": {},
   "outputs": [
    {
     "data": {
      "text/plain": [
       "False"
      ]
     },
     "execution_count": 5,
     "metadata": {},
     "output_type": "execute_result"
    }
   ],
   "source": [
    "l2 = Node(5)\n",
    "l2.isempty()\n"
   ]
  },
  {
   "cell_type": "code",
   "execution_count": 6,
   "metadata": {},
   "outputs": [
    {
     "name": "stdout",
     "output_type": "stream",
     "text": [
      "\u001b[1mINFO\u001b[0m:\u001b[34mInitial linked list:1 -> 2 -> 3\u001b[0m\n",
      "\u001b[1mINFO\u001b[0m:\u001b[34mAfter inserting 4:4 -> 1 -> 2 -> 3\u001b[0m\n",
      "\u001b[1mINFO\u001b[0m:\u001b[34mAfter deleting 2:4 -> 1 -> 3\u001b[0m\n"
     ]
    }
   ],
   "source": [
    "\n",
    "# Creating a linked list with values 1, 2, 3\n",
    "head = Node(1)\n",
    "head.append(2)\n",
    "head.append(3)\n",
    "# Output: 1 -> 2 -> 3\n",
    "logger.info(f\"Initial linked list:{head}\")  \n",
    "\n",
    "# Inserting a new node with value 4 after the first node\n",
    "head.insert(4)\n",
    "logger.info(f\"After inserting 4:{head}\")  # Output: 1 -> 4 -> 2 -> 3\n",
    "\n",
    "# Deleting the node with value 2\n",
    "head.delete(2)\n",
    "logger.info(f\"After deleting 2:{head}\")  # Output: 1 -> 4 -> 3"
   ]
  }
 ],
 "metadata": {
  "kernelspec": {
   "display_name": "pdsa",
   "language": "python",
   "name": "python3"
  },
  "language_info": {
   "codemirror_mode": {
    "name": "ipython",
    "version": 3
   },
   "file_extension": ".py",
   "mimetype": "text/x-python",
   "name": "python",
   "nbconvert_exporter": "python",
   "pygments_lexer": "ipython3",
   "version": "3.11.0"
  }
 },
 "nbformat": 4,
 "nbformat_minor": 2
}
