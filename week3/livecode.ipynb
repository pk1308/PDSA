{
 "cells": [
  {
   "cell_type": "code",
   "execution_count": null,
   "metadata": {},
   "outputs": [],
   "source": [
    "\n",
    "def mergeSortedList(head1 , head2):\n",
    "    dummy = Node( None)\n",
    "    current = dummy\n",
    "    if head1.data < head2.data :\n",
    "        current = head1\n",
    "        head1 = head1.next\n",
    "    else:\n",
    "        current = head2\n",
    "        head2 = head2.next \n",
    "        \n",
    "    while head1 is not None and head2 is not None:\n",
    "        if head1.data < head2.data:\n",
    "            temp = head1\n",
    "            temp.next = None\n",
    "            current.next = temp \n",
    "            current = current.next\n",
    "            head1 = head1.next\n",
    "        else:\n",
    "            temp = head2\n",
    "            temp.next = None\n",
    "            current.next = temp \n",
    "            current = current.next\n",
    "            head2 = head2.next\n",
    "    while head1 is not None:\n",
    "        temp = head1\n",
    "        temp.next = None\n",
    "        current.next = temp \n",
    "        current = current.next\n",
    "        head1 = head1.next\n",
    "    while head2 is not None:\n",
    "        temp = head2\n",
    "        temp.next = None\n",
    "        current.next = temp \n",
    "        current = current.next\n",
    "        head2 = head2.next\n",
    "    return dummy"
   ]
  },
  {
   "cell_type": "code",
   "execution_count": null,
   "metadata": {},
   "outputs": [],
   "source": []
  }
 ],
 "metadata": {
  "language_info": {
   "name": "python"
  }
 },
 "nbformat": 4,
 "nbformat_minor": 2
}
