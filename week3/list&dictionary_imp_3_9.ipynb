{
 "cells": [
  {
   "cell_type": "code",
   "metadata": {
    "ExecuteTime": {
     "end_time": "2024-06-07T08:09:40.323316Z",
     "start_time": "2024-06-07T08:09:40.310838Z"
    }
   },
   "source": [
    "import sys\n",
    "import random\n",
    "import os\n",
    "\n",
    "os.chdir(\"..\")\n",
    "os.chdir(\"..\")\n",
    "from driver_folder.time_driver import TimerError"
   ],
   "outputs": [],
   "execution_count": 1
  },
  {
   "cell_type": "code",
   "metadata": {
    "ExecuteTime": {
     "end_time": "2024-06-07T08:09:49.261143Z",
     "start_time": "2024-06-07T08:09:49.257844Z"
    }
   },
   "source": [
    "T = TimerError()\n",
    "T.start()\n",
    "end_time = T.elapsed()\n",
    "print(f\"time taken:{end_time}\")"
   ],
   "outputs": [
    {
     "name": "stdout",
     "output_type": "stream",
     "text": [
      "time taken:3.456299987192324e-05\n"
     ]
    }
   ],
   "execution_count": 2
  },
  {
   "cell_type": "code",
   "metadata": {
    "ExecuteTime": {
     "end_time": "2024-06-07T08:09:49.804241Z",
     "start_time": "2024-06-07T08:09:49.801674Z"
    }
   },
   "source": [
    "sys.setrecursionlimit(2**31 - 1)"
   ],
   "outputs": [],
   "execution_count": 3
  },
  {
   "cell_type": "code",
   "metadata": {
    "ExecuteTime": {
     "end_time": "2024-06-07T08:09:51.013791Z",
     "start_time": "2024-06-07T08:09:50.302590Z"
    }
   },
   "source": [
    "T = TimerError()\n",
    "T.start()\n",
    "l = []\n",
    "for i in range(10**7):\n",
    "    l.append(i)\n",
    "end_time = T.elapsed()\n",
    "print(f\"time taken:{end_time}\")"
   ],
   "outputs": [
    {
     "name": "stdout",
     "output_type": "stream",
     "text": [
      "time taken:0.7082312540001112\n"
     ]
    }
   ],
   "execution_count": 4
  },
  {
   "cell_type": "code",
   "metadata": {
    "ExecuteTime": {
     "end_time": "2024-06-07T08:09:52.305230Z",
     "start_time": "2024-06-07T08:09:51.015502Z"
    }
   },
   "source": [
    "T = TimerError()\n",
    "T.start()\n",
    "l = []\n",
    "for i in range(10**5):\n",
    "    l.insert(0, i)\n",
    "end_time = T.elapsed()\n",
    "print(f\"time taken:{end_time}\")"
   ],
   "outputs": [
    {
     "name": "stdout",
     "output_type": "stream",
     "text": [
      "time taken:1.2863995140000952\n"
     ]
    }
   ],
   "execution_count": 5
  },
  {
   "cell_type": "code",
   "metadata": {
    "ExecuteTime": {
     "end_time": "2024-06-07T08:09:57.198594Z",
     "start_time": "2024-06-07T08:09:52.306448Z"
    }
   },
   "source": [
    "T = TimerError()\n",
    "T.start()\n",
    "l = []\n",
    "for i in range((10**5) * 2):\n",
    "    l.insert(0, i)\n",
    "end_time = T.elapsed()\n",
    "print(f\"time taken:{end_time}\")"
   ],
   "outputs": [
    {
     "name": "stdout",
     "output_type": "stream",
     "text": [
      "time taken:4.889978135000092\n"
     ]
    }
   ],
   "execution_count": 6
  },
  {
   "cell_type": "code",
   "metadata": {
    "ExecuteTime": {
     "end_time": "2024-06-07T08:10:12.335072Z",
     "start_time": "2024-06-07T08:09:57.199341Z"
    }
   },
   "source": [
    "T = TimerError()\n",
    "T.start()\n",
    "l = []\n",
    "for i in range((10**5) * 3):\n",
    "    l.insert(0, i)\n",
    "end_time = T.elapsed()\n",
    "print(f\"time taken:{end_time}\")"
   ],
   "outputs": [
    {
     "name": "stdout",
     "output_type": "stream",
     "text": [
      "time taken:15.133477557999868\n"
     ]
    }
   ],
   "execution_count": 7
  },
  {
   "cell_type": "code",
   "execution_count": null,
   "metadata": {},
   "outputs": [],
   "source": []
  }
 ],
 "metadata": {
  "kernelspec": {
   "display_name": "pdsa",
   "language": "python",
   "name": "python3"
  },
  "language_info": {
   "codemirror_mode": {
    "name": "ipython",
    "version": 3
   },
   "file_extension": ".py",
   "mimetype": "text/x-python",
   "name": "python",
   "nbconvert_exporter": "python",
   "pygments_lexer": "ipython3",
   "version": "3.11.0"
  }
 },
 "nbformat": 4,
 "nbformat_minor": 2
}
