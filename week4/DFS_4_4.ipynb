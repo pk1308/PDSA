{
 "cells": [
  {
   "cell_type": "code",
   "execution_count": 1,
   "metadata": {},
   "outputs": [],
   "source": [
    "import os\n",
    "import numpy as np\n",
    "\n",
    "os.chdir(\"..\")\n",
    "os.chdir(\"..\")\n",
    "from driver_folder.time_driver import TimerError"
   ]
  },
  {
   "cell_type": "code",
   "execution_count": 2,
   "metadata": {},
   "outputs": [
    {
     "name": "stdout",
     "output_type": "stream",
     "text": [
      "time taken:1.3529000170819927e-05\n"
     ]
    }
   ],
   "source": [
    "T = TimerError()\n",
    "T.start()\n",
    "end_time = T.elapsed()\n",
    "print(f\"time taken:{end_time}\")"
   ]
  },
  {
   "cell_type": "code",
   "execution_count": 3,
   "metadata": {},
   "outputs": [
    {
     "name": "stdout",
     "output_type": "stream",
     "text": [
      "Visited nodes: {'A': True, 'B': True, 'C': True, 'D': True, 'E': True, 'F': True}\n",
      "Parent nodes: {'A': -1, 'B': 'A', 'C': 'F', 'D': 'B', 'E': 'B', 'F': 'E'}\n"
     ]
    }
   ],
   "source": [
    "def DFSInitList(AList):\n",
    "    \"\"\"\n",
    "    Initializes the visited and parent dictionaries for each node in the graph.\n",
    "\n",
    "    Parameters:\n",
    "        AList (dict): The adjacency list representation of the graph.\n",
    "\n",
    "    Returns:\n",
    "        tuple: A tuple containing two dictionaries:\n",
    "               - visited: A dictionary to track visited nodes, initialized to False.\n",
    "               - parent: A dictionary to track parent nodes, initialized to -1.\n",
    "    \"\"\"\n",
    "    visited = {}\n",
    "    parent = {}\n",
    "    for i in AList.keys():\n",
    "        visited[i] = False\n",
    "        parent[i] = -1\n",
    "    return (visited, parent)\n",
    "\n",
    "\n",
    "def DFSList(AList, visited, parent, v):\n",
    "    \"\"\"\n",
    "    Performs Depth-First Search (DFS) traversal recursively starting from node v.\n",
    "\n",
    "    Parameters:\n",
    "        AList (dict): The adjacency list representation of the graph.\n",
    "        visited (dict): A dictionary to track visited nodes.\n",
    "        parent (dict): A dictionary to track parent nodes.\n",
    "        v (hashable): The current node being visited.\n",
    "\n",
    "    Returns:\n",
    "        tuple: A tuple containing two dictionaries:\n",
    "               - visited: Updated dictionary with visited nodes.\n",
    "               - parent: Updated dictionary with parent nodes.\n",
    "    \"\"\"\n",
    "    visited[v] = True\n",
    "    for k in AList[v]:\n",
    "        if not visited[k]:\n",
    "            parent[k] = v\n",
    "            DFSList(AList, visited, parent, k)\n",
    "    return (visited, parent)\n",
    "\n",
    "\n",
    "def DFSGlobal(AList, k):\n",
    "    \"\"\"\n",
    "    Initializes DFS and starts DFS traversal from node k in the graph.\n",
    "\n",
    "    Parameters:\n",
    "        AList (dict): The adjacency list representation of the graph.\n",
    "        k (hashable): The starting node for DFS traversal.\n",
    "\n",
    "    Returns:\n",
    "        tuple: A tuple containing two dictionaries:\n",
    "               - visited: Dictionary with visited nodes after DFS traversal.\n",
    "               - parent: Dictionary with parent nodes after DFS traversal.\n",
    "    \"\"\"\n",
    "    (visited, parent) = DFSInitList(AList)\n",
    "    (visited, parent) = DFSList(AList, visited, parent, k)\n",
    "    return (visited, parent)\n",
    "\n",
    "\n",
    "# Example usage:\n",
    "AList = {\n",
    "    \"A\": [\"B\", \"C\"],\n",
    "    \"B\": [\"A\", \"D\", \"E\"],\n",
    "    \"C\": [\"A\", \"F\"],\n",
    "    \"D\": [\"B\"],\n",
    "    \"E\": [\"B\", \"F\"],\n",
    "    \"F\": [\"C\", \"E\"],\n",
    "}\n",
    "\n",
    "# Starting node\n",
    "start_node = \"A\"\n",
    "visited, parent = DFSGlobal(AList, start_node)\n",
    "print(\"Visited nodes:\", visited)\n",
    "print(\"Parent nodes:\", parent)"
   ]
  },
  {
   "cell_type": "code",
   "execution_count": null,
   "metadata": {},
   "outputs": [],
   "source": []
  }
 ],
 "metadata": {
  "kernelspec": {
   "display_name": "pdsa",
   "language": "python",
   "name": "python3"
  },
  "language_info": {
   "codemirror_mode": {
    "name": "ipython",
    "version": 3
   },
   "file_extension": ".py",
   "mimetype": "text/x-python",
   "name": "python",
   "nbconvert_exporter": "python",
   "pygments_lexer": "ipython3",
   "version": "3.11.0"
  }
 },
 "nbformat": 4,
 "nbformat_minor": 2
}
