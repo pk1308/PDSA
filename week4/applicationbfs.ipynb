{
 "cells": [
  {
   "cell_type": "code",
   "execution_count": 1,
   "metadata": {},
   "outputs": [],
   "source": [
    "import os \n",
    "import numpy as np "
   ]
  },
  {
   "cell_type": "code",
   "execution_count": 2,
   "metadata": {},
   "outputs": [],
   "source": [
    "\n",
    "class Queue:\n",
    "    def __init__(self):\n",
    "        \"\"\"\n",
    "        Initializes an empty queue.\n",
    "        The queue is represented as a list.\n",
    "        \"\"\"\n",
    "        self.queue = []\n",
    "\n",
    "    def Equeue(self, v):\n",
    "        \"\"\"\n",
    "        Adds an element 'v' to the end of the queue.\n",
    "\n",
    "        Parameters:\n",
    "        v: The element to be added to the queue.\n",
    "        \"\"\"\n",
    "        self.queue.append(v)\n",
    "\n",
    "    def Dqueue(self):\n",
    "        \"\"\"\n",
    "        Removes and returns the element at the front of the queue.\n",
    "\n",
    "        Returns:\n",
    "        The element at the front of the queue if the queue is not empty,\n",
    "        otherwise None.\n",
    "        \"\"\"\n",
    "        v = None\n",
    "        if not self.isempty():\n",
    "            v = self.queue[0]  \n",
    "            self.queue = self.queue[1:]  \n",
    "        return v\n",
    "\n",
    "    def isempty(self):\n",
    "        \"\"\"\n",
    "        Checks if the queue is empty.\n",
    "\n",
    "        Returns:\n",
    "        True if the queue is empty, otherwise False.\n",
    "        \"\"\"\n",
    "        return self.queue == []\n",
    "\n",
    "    def __str__(self):\n",
    "        \"\"\"\n",
    "        Returns a string representation of the queue.\n",
    "\n",
    "        Returns:\n",
    "        A string representation of the queue list.\n",
    "        \"\"\"\n",
    "        return str(self.queue)"
   ]
  },
  {
   "cell_type": "code",
   "execution_count": 3,
   "metadata": {},
   "outputs": [],
   "source": [
    "def BFSAlist( AList , source_vertex ):\n",
    "    \n",
    "    \"\"\"\n",
    "    Performs Breadth-First Search (BFS) on a graph represented by an adjacency matrix.\n",
    "\n",
    "    Parameters:\n",
    "    AMat: 2D numpy array\n",
    "        The adjacency matrix representing the graph.\n",
    "    Source_vertex : int\n",
    "        The starting vertex for the BFS.\n",
    "\n",
    "    Returns:\n",
    "    visited: dict\n",
    "        A dictionary where keys are the vertices and values are booleans indicating\n",
    "        whether the vertex has been visited (True) or not (False).\n",
    "        \"\"\"\n",
    "    visited = {i : False for i in AList.keys() }\n",
    "    visited[source_vertex] = True \n",
    "    \n",
    "    q = Queue()\n",
    "    q.Equeue(source_vertex)\n",
    "    while not q.isempty():\n",
    "        to_explore = q.Dqueue()\n",
    "        for neighbour in AList[to_explore]:\n",
    "            if not visited[neighbour]:\n",
    "                visited[neighbour] = True \n",
    "                q.Equeue(neighbour)\n",
    "    return visited"
   ]
  },
  {
   "cell_type": "code",
   "execution_count": 4,
   "metadata": {},
   "outputs": [],
   "source": [
    "AMat = np.array(\n",
    "    [\n",
    "        [0, 1, 1, 0, 0, 0, 0, 0, 0, 0],\n",
    "        [1, 0, 0, 1, 0, 0, 0, 0, 0, 0],\n",
    "        [1, 0, 0, 0, 1, 0, 0, 0, 0, 0],\n",
    "        [0, 1, 0, 0, 0, 1, 1, 0, 0, 0],\n",
    "        [0, 0, 1, 0, 0, 1, 0, 0, 0, 1],\n",
    "        [0, 0, 0, 1, 1, 0, 0, 1, 0, 0],\n",
    "        [0, 0, 0, 1, 0, 0, 0, 0, 0, 0],\n",
    "        [0, 0, 0, 0, 0, 1, 0, 0, 1, 0],\n",
    "        [0, 0, 0, 0, 0, 0, 0, 1, 0, 0],\n",
    "        [0, 0, 0, 0, 1, 0, 0, 0, 0, 0],\n",
    "    ]\n",
    ")"
   ]
  },
  {
   "cell_type": "code",
   "execution_count": 5,
   "metadata": {},
   "outputs": [],
   "source": [
    "def create_Alist(AMat):\n",
    "    AList = {}\n",
    "    for  parent in range(AMat.shape[0]):\n",
    "        neighbours = []\n",
    "        for neighbour in range(AMat.shape[1]):\n",
    "            if AMat[parent, neighbour] ==1 :\n",
    "                neighbours.append(neighbour)\n",
    "        AList[parent] = neighbours\n",
    "    return AList"
   ]
  },
  {
   "cell_type": "code",
   "execution_count": 6,
   "metadata": {},
   "outputs": [],
   "source": [
    "AList = create_Alist(AMat=AMat) "
   ]
  },
  {
   "cell_type": "code",
   "execution_count": 12,
   "metadata": {},
   "outputs": [],
   "source": [
    "def ComponentAlist(AList):\n",
    "    \n",
    "    components = {i : -1 for i in AList.keys()}\n",
    "    \n",
    "    seen = 0 \n",
    "    component_id = 0 \n",
    "    \n",
    "    while seen <= max(AList.keys()):\n",
    "        start_vertex = min([i for i in AList.keys() if components[i]==-1])\n",
    "        visited = BFSAlist(AList=AList, source_vertex=start_vertex)\n",
    "        for node in visited.keys():\n",
    "            if visited[node]:\n",
    "                seen+=1 \n",
    "                components[node] = component_id\n",
    "        component_id+=1 \n",
    "    return components"
   ]
  },
  {
   "cell_type": "code",
   "execution_count": 13,
   "metadata": {},
   "outputs": [
    {
     "data": {
      "text/plain": [
       "{0: 0, 1: 0, 2: 0, 3: 0, 4: 0, 5: 0, 6: 0, 7: 0, 8: 0, 9: 0}"
      ]
     },
     "execution_count": 13,
     "metadata": {},
     "output_type": "execute_result"
    }
   ],
   "source": [
    "ComponentAlist(AList=AList)"
   ]
  },
  {
   "cell_type": "code",
   "execution_count": 14,
   "metadata": {},
   "outputs": [],
   "source": [
    "(visited,pre,post) = ({},{},{})\n",
    "def DFSInitPrePost(AList):\n",
    "    \n",
    "    # Initialization\n",
    "    for i in AList.keys():\n",
    "        \n",
    "        visited[i] = False\n",
    "        pre[i],post[i] = (-1,-1)\n",
    "    return\n",
    "\n",
    "\n",
    "\n",
    "\n",
    "def DFSPrePost(AList,v,count):\n",
    "    visited[v] = True\n",
    "    pre[v] = count\n",
    "    count = count+1\n",
    "    for k in AList[v]:\n",
    "        if (not visited[k]):\n",
    "            count = DFSPrePost(AList,k,count)\n",
    "    post[v] = count\n",
    "    count = count+1\n",
    "    return(count)"
   ]
  },
  {
   "cell_type": "code",
   "execution_count": 15,
   "metadata": {},
   "outputs": [],
   "source": [
    "DFSInitPrePost(AList=AList)"
   ]
  },
  {
   "cell_type": "code",
   "execution_count": 17,
   "metadata": {},
   "outputs": [
    {
     "data": {
      "text/plain": [
       "20"
      ]
     },
     "execution_count": 17,
     "metadata": {},
     "output_type": "execute_result"
    }
   ],
   "source": [
    "DFSPrePost(AList=AList, v = 0 , count = 0 )"
   ]
  },
  {
   "cell_type": "code",
   "execution_count": 18,
   "metadata": {},
   "outputs": [
    {
     "data": {
      "text/plain": [
       "{0: 0, 1: 1, 2: 5, 3: 2, 4: 4, 5: 3, 6: 15, 7: 10, 8: 11, 9: 7}"
      ]
     },
     "execution_count": 18,
     "metadata": {},
     "output_type": "execute_result"
    }
   ],
   "source": [
    "pre"
   ]
  },
  {
   "cell_type": "code",
   "execution_count": 19,
   "metadata": {},
   "outputs": [
    {
     "data": {
      "text/plain": [
       "{0: 19, 1: 18, 2: 6, 3: 17, 4: 9, 5: 14, 6: 16, 7: 13, 8: 12, 9: 8}"
      ]
     },
     "execution_count": 19,
     "metadata": {},
     "output_type": "execute_result"
    }
   ],
   "source": [
    "post"
   ]
  },
  {
   "cell_type": "code",
   "execution_count": null,
   "metadata": {},
   "outputs": [],
   "source": []
  }
 ],
 "metadata": {
  "kernelspec": {
   "display_name": "pdsa_1",
   "language": "python",
   "name": "python3"
  },
  "language_info": {
   "codemirror_mode": {
    "name": "ipython",
    "version": 3
   },
   "file_extension": ".py",
   "mimetype": "text/x-python",
   "name": "python",
   "nbconvert_exporter": "python",
   "pygments_lexer": "ipython3",
   "version": "3.11.9"
  }
 },
 "nbformat": 4,
 "nbformat_minor": 2
}
