{
 "cells": [
  {
   "cell_type": "code",
   "execution_count": 2,
   "metadata": {},
   "outputs": [],
   "source": [
    "# Prefix code\n",
    "def BFSListPathLevel(AList, v):\n",
    "    level, parent = {}, {}\n",
    "    for i in AList.keys():\n",
    "        level[i] = -1\n",
    "        parent[i] = -1\n",
    "    q = []\n",
    "\n",
    "    level[v] = 0\n",
    "    q.append(v)\n",
    "\n",
    "    while len(q) > 0:\n",
    "        j = q.pop(0)\n",
    "        for k in AList[j]:\n",
    "            if level[k] == -1:\n",
    "                level[k] = level[j]+1\n",
    "                parent[k] = j\n",
    "                q.append(k)\n",
    "    return level, parent\n",
    "# Write Solution code below\n",
    "\n",
    "\n",
    "def minimumhops(ALlist, start, end):\n",
    "    level , parent = BFSListPathLevel(AList=ALlist, v =  start)\n",
    "    current = end\n",
    "    path = []\n",
    "    while  current != -1 :\n",
    "        path.insert(0, current)\n",
    "        current = parent.get(current)\n",
    "    return path \n",
    "\n"
   ]
  },
  {
   "cell_type": "code",
   "execution_count": 3,
   "metadata": {},
   "outputs": [],
   "source": [
    "\n",
    "def BFSListPath(AList, v ,visited_set):\n",
    "  visited, parent = {}, {}\n",
    "  for i in AList.keys():\n",
    "    if i  not in visited_set or i !=1:\n",
    "      visited[i] = False\n",
    "      parent[i] = -1\n",
    "    else:\n",
    "      visited[i] = True \n",
    "  q = []\n",
    "\n",
    "  visited[v] = True\n",
    "  q.append(v)\n",
    "\n",
    "  while len(q) > 0:\n",
    "    j = q.pop(0)\n",
    "    for k in AList[j]:\n",
    "      if not visited[k]:\n",
    "        visited[k] = True\n",
    "        parent[k] = j\n",
    "        q.append(k)\n",
    "  return visited, parent\n",
    "\n",
    "# Write solution code below\n",
    "\n",
    "def backandforth(AList, end1, end2):\n",
    "    path_count = 0 \n",
    "    visited_set = set()\n",
    "    for neighbor in AList[end1]:\n",
    "        visited , parent = BFSListPath(AList=AList, v =neighbor ,visited_set = visited_set)\n",
    "        current = end2 \n",
    "        while  current != -1 :\n",
    "            if current not in [end1, end2]:\n",
    "                visited_set.add(current)          \n",
    "            current = parent.get(current)\n",
    "        if visited[end2]:\n",
    "            path_count += 1 \n",
    "    return path_count\n"
   ]
  },
  {
   "cell_type": "code",
   "execution_count": null,
   "metadata": {},
   "outputs": [],
   "source": []
  },
  {
   "cell_type": "code",
   "execution_count": 14,
   "metadata": {},
   "outputs": [],
   "source": [
    "from collections import defaultdict\n",
    "\n",
    "def coolWorkers(AList, preference):\n",
    "    in_degree = defaultdict(int)\n",
    "    graph = defaultdict(list)\n",
    "    for node in AList:\n",
    "        for neighbor in AList[node]:\n",
    "            in_degree[neighbor] += 1\n",
    "            graph[node].append(neighbor)\n",
    "    my_queue = []\n",
    "    for vertex in AList.keys():\n",
    "        if in_degree[vertex] ==0:\n",
    "            my_queue.append(vertex)\n",
    "    preference_index = {task: i for i, task in enumerate(preference)}\n",
    "    \n",
    "    result = []\n",
    "    \n",
    "    while my_queue:\n",
    "        result = sorted(result, key=lambda task: preference_index.get(task, len(preference)))\n",
    "        current_vertex = my_queue.pop(0)\n",
    "        result.append(current_vertex)\n",
    "        \n",
    "        for neighbor in graph[current_vertex]:\n",
    "            in_degree[neighbor] -= 1\n",
    "            if in_degree[neighbor] == 0:\n",
    "                my_queue.append(neighbor)\n",
    "     \n",
    "   \n",
    "    \n",
    "    return result\n",
    "    \n",
    "            \n",
    "    "
   ]
  },
  {
   "cell_type": "code",
   "execution_count": 13,
   "metadata": {},
   "outputs": [
    {
     "data": {
      "text/plain": [
       "1"
      ]
     },
     "execution_count": 13,
     "metadata": {},
     "output_type": "execute_result"
    }
   ],
   "source": [
    "[1,2].pop(0)"
   ]
  },
  {
   "cell_type": "code",
   "execution_count": 7,
   "metadata": {},
   "outputs": [],
   "source": [
    "from queue import Queue\n",
    "my_queue = Queue()"
   ]
  },
  {
   "cell_type": "code",
   "execution_count": 9,
   "metadata": {},
   "outputs": [],
   "source": [
    "my_queue.put(1)"
   ]
  },
  {
   "cell_type": "code",
   "execution_count": 10,
   "metadata": {},
   "outputs": [
    {
     "data": {
      "text/plain": [
       "1"
      ]
     },
     "execution_count": 10,
     "metadata": {},
     "output_type": "execute_result"
    }
   ],
   "source": [
    "my_queue.get()"
   ]
  },
  {
   "cell_type": "code",
   "execution_count": null,
   "metadata": {},
   "outputs": [],
   "source": []
  }
 ],
 "metadata": {
  "kernelspec": {
   "display_name": "pdsa_1",
   "language": "python",
   "name": "python3"
  },
  "language_info": {
   "codemirror_mode": {
    "name": "ipython",
    "version": 3
   },
   "file_extension": ".py",
   "mimetype": "text/x-python",
   "name": "python",
   "nbconvert_exporter": "python",
   "pygments_lexer": "ipython3",
   "version": "3.11.9"
  }
 },
 "nbformat": 4,
 "nbformat_minor": 2
}
