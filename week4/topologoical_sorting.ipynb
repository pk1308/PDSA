{
 "cells": [
  {
   "cell_type": "code",
   "execution_count": 1,
   "metadata": {},
   "outputs": [
    {
     "ename": "ModuleNotFoundError",
     "evalue": "No module named 'driver_folder'",
     "output_type": "error",
     "traceback": [
      "\u001b[0;31m---------------------------------------------------------------------------\u001b[0m",
      "\u001b[0;31mModuleNotFoundError\u001b[0m                       Traceback (most recent call last)",
      "Cell \u001b[0;32mIn[1], line 6\u001b[0m\n\u001b[1;32m      4\u001b[0m os\u001b[38;5;241m.\u001b[39mchdir(\u001b[38;5;124m\"\u001b[39m\u001b[38;5;124m..\u001b[39m\u001b[38;5;124m\"\u001b[39m)\n\u001b[1;32m      5\u001b[0m os\u001b[38;5;241m.\u001b[39mchdir(\u001b[38;5;124m\"\u001b[39m\u001b[38;5;124m..\u001b[39m\u001b[38;5;124m\"\u001b[39m)\n\u001b[0;32m----> 6\u001b[0m \u001b[38;5;28;01mfrom\u001b[39;00m \u001b[38;5;21;01mdriver_folder\u001b[39;00m\u001b[38;5;21;01m.\u001b[39;00m\u001b[38;5;21;01mtime_driver\u001b[39;00m \u001b[38;5;28;01mimport\u001b[39;00m TimerError\n",
      "\u001b[0;31mModuleNotFoundError\u001b[0m: No module named 'driver_folder'"
     ]
    }
   ],
   "source": [
    "import os\n",
    "import numpy as np\n",
    "\n",
    "os.chdir(\"..\")\n",
    "os.chdir(\"..\")\n",
    "from driver_folder.time_driver import TimerError"
   ]
  },
  {
   "cell_type": "code",
   "execution_count": null,
   "metadata": {},
   "outputs": [
    {
     "name": "stdout",
     "output_type": "stream",
     "text": [
      "time taken:2.2519000026477443e-05\n"
     ]
    }
   ],
   "source": [
    "T = TimerError()\n",
    "T.start()\n",
    "end_time = T.elapsed()\n",
    "print(f\"time taken:{end_time}\")"
   ]
  },
  {
   "cell_type": "code",
   "execution_count": null,
   "metadata": {},
   "outputs": [
    {
     "name": "stdout",
     "output_type": "stream",
     "text": [
      "[0, 1, 2, 3, 4]\n"
     ]
    }
   ],
   "source": [
    "import numpy as np\n",
    "\n",
    "\n",
    "def toposort(AMat):\n",
    "    \"\"\"\n",
    "    Performs a topological sort on a directed acyclic graph (DAG) using an adjacency matrix.\n",
    "\n",
    "    Parameters:\n",
    "    AMat (np.ndarray): Adjacency matrix representing the graph, where AMat[i][j] == 1 indicates an edge from node i to node j.\n",
    "\n",
    "    Returns:\n",
    "    list: A list of nodes in topologically sorted order.\n",
    "    \"\"\"\n",
    "\n",
    "    # Get the number of rows and columns from the adjacency matrix\n",
    "    rows, cols = AMat.shape\n",
    "\n",
    "    # Initialize the indegree dictionary and the list to store the topological sort result\n",
    "    indegree = {}\n",
    "    toposortlist = []\n",
    "\n",
    "    # Step 1: Initialize all nodes' indegree to 0\n",
    "    for c in range(cols):\n",
    "        indegree[c] = 0\n",
    "\n",
    "    # Step 2: Compute indegree for each node\n",
    "    for r in range(rows):\n",
    "        for c in range(cols):\n",
    "            if AMat[r, c] == 1:\n",
    "                indegree[c] += 1\n",
    "\n",
    "    # Step 3: Perform the topological sort\n",
    "    for _ in range(cols):\n",
    "        # Find a node with zero indegree\n",
    "        zero_indegree_nodes = [k for k in range(cols) if indegree[k] == 0]\n",
    "        if not zero_indegree_nodes:\n",
    "            raise ValueError(\"Graph has at least one cycle\")\n",
    "\n",
    "        # Select the first node with zero indegree\n",
    "        j = zero_indegree_nodes[0]\n",
    "        toposortlist.append(j)\n",
    "\n",
    "        # Set the indegree of this node to -1 to mark it as processed\n",
    "        indegree[j] = -1\n",
    "\n",
    "        # Decrease the indegree of all nodes that this node points to\n",
    "        for k in range(cols):\n",
    "            if AMat[j, k] == 1:\n",
    "                indegree[k] -= 1\n",
    "\n",
    "    return toposortlist\n",
    "\n",
    "\n",
    "# Example usage:\n",
    "AMat = np.array(\n",
    "    [\n",
    "        [0, 1, 1, 0, 0],\n",
    "        [0, 0, 0, 1, 0],\n",
    "        [0, 0, 0, 1, 0],\n",
    "        [0, 0, 0, 0, 1],\n",
    "        [0, 0, 0, 0, 0],\n",
    "    ]\n",
    ")\n",
    "\n",
    "print(toposort(AMat))"
   ]
  },
  {
   "cell_type": "code",
   "execution_count": null,
   "metadata": {},
   "outputs": [
    {
     "name": "stdout",
     "output_type": "stream",
     "text": [
      "['A', 'B', 'C', 'D', 'E']\n"
     ]
    }
   ],
   "source": [
    "from queue import Queue\n",
    "\n",
    "\n",
    "def toposortlist(AList):\n",
    "    \"\"\"\n",
    "    Performs a topological sort on a directed acyclic graph (DAG) using Kahn's algorithm.\n",
    "\n",
    "    Parameters:\n",
    "    AList (dict): Adjacency list representing the graph, where keys are nodes and values are lists of adjacent nodes.\n",
    "\n",
    "    Returns:\n",
    "    list: A list of nodes in topologically sorted order.\n",
    "    \"\"\"\n",
    "\n",
    "    # Initialize the indegree dictionary and the list to store the topological sort result\n",
    "    indegree = {}\n",
    "    toposortlist = []\n",
    "\n",
    "    # Step 1: Initialize all nodes' indegree to 0\n",
    "    for u in AList.keys():\n",
    "        indegree[u] = 0\n",
    "\n",
    "    # Step 2: Compute indegree for each node\n",
    "    for u in AList.keys():\n",
    "        for v in AList[u]:\n",
    "            indegree[v] = indegree[v] + 1\n",
    "\n",
    "    # Step 3: Initialize the queue with nodes having zero indegree\n",
    "    zerodegreeq = Queue()\n",
    "    for u in AList.keys():\n",
    "        if indegree[u] == 0:\n",
    "            zerodegreeq.put(u)\n",
    "\n",
    "    # Step 4: Perform the topological sort\n",
    "    while not zerodegreeq.empty():\n",
    "        # Dequeue a node with zero indegree\n",
    "        j = zerodegreeq.get()\n",
    "        # Append it to the topological sort list\n",
    "        toposortlist.append(j)\n",
    "\n",
    "        # Decrease the indegree of all its adjacent nodes\n",
    "        for k in AList[j]:\n",
    "            indegree[k] = indegree[k] - 1\n",
    "            # If the indegree of any adjacent node becomes zero, enqueue it\n",
    "            if indegree[k] == 0:\n",
    "                zerodegreeq.put(k)\n",
    "\n",
    "    return toposortlist\n",
    "\n",
    "\n",
    "# Example usage:\n",
    "AList = {\"A\": [\"B\", \"C\"], \"B\": [\"D\"], \"C\": [\"D\"], \"D\": [\"E\"], \"E\": []}\n",
    "\n",
    "# Prints the topological sort of the graph\n",
    "print(toposortlist(AList))"
   ]
  },
  {
   "cell_type": "code",
   "execution_count": null,
   "metadata": {},
   "outputs": [],
   "source": []
  }
 ],
 "metadata": {
  "kernelspec": {
   "display_name": "pdsa",
   "language": "python",
   "name": "python3"
  },
  "language_info": {
   "codemirror_mode": {
    "name": "ipython",
    "version": 3
   },
   "file_extension": ".py",
   "mimetype": "text/x-python",
   "name": "python",
   "nbconvert_exporter": "python",
   "pygments_lexer": "ipython3",
   "version": "3.11.9"
  }
 },
 "nbformat": 4,
 "nbformat_minor": 2
}
