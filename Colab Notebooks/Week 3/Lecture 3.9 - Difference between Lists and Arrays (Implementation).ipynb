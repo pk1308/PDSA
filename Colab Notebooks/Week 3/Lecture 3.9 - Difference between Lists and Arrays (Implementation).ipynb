{
  "nbformat": 4,
  "nbformat_minor": 0,
  "metadata": {
    "colab": {
      "name": "Lists-and-Arrays.ipynb",
      "provenance": [],
      "collapsed_sections": []
    },
    "kernelspec": {
      "display_name": "Python 3",
      "language": "python",
      "name": "python3"
    },
    "language_info": {
      "codemirror_mode": {
        "name": "ipython",
        "version": 3
      },
      "file_extension": ".py",
      "mimetype": "text/x-python",
      "name": "python",
      "nbconvert_exporter": "python",
      "pygments_lexer": "ipython3",
      "version": "3.7.7"
    }
  },
  "cells": [
    {
      "cell_type": "markdown",
      "metadata": {
        "id": "bvzwd5SvsZ9M"
      },
      "source": [
        "# Lists and arrays"
      ]
    },
    {
      "cell_type": "markdown",
      "metadata": {
        "id": "HafrRO7osZ9N"
      },
      "source": [
        "### Setup\n",
        "- Set recursion limit to `maxint`, $2^{31}-1$\n",
        "    - This is the highest value Python allows\n",
        "- Set up `Timer` class to time executions"
      ]
    },
    {
      "cell_type": "markdown",
      "metadata": {
        "id": "b0VUAzBb3eCl"
      },
      "source": [
        ""
      ]
    },
    {
      "cell_type": "code",
      "metadata": {
        "id": "3GSGbwurSLFF"
      },
      "source": [
        "import sys\n",
        "sys.setrecursionlimit(2**31-1)"
      ],
      "execution_count": null,
      "outputs": []
    },
    {
      "cell_type": "code",
      "metadata": {
        "id": "FX-LCujtXSyH"
      },
      "source": [
        "import time\n",
        "\n",
        "class TimerError(Exception):\n",
        "    \"\"\"A custom exception used to report errors in use of Timer class\"\"\"\n",
        "\n",
        "class Timer:\n",
        "    def __init__(self):\n",
        "        self._start_time = None\n",
        "        self._elapsed_time = None\n",
        "\n",
        "    def start(self):\n",
        "        \"\"\"Start a new timer\"\"\"\n",
        "        if self._start_time is not None:\n",
        "            raise TimerError(\"Timer is running. Use .stop()\")\n",
        "        self._start_time = time.perf_counter()\n",
        "\n",
        "    def stop(self):\n",
        "        \"\"\"Save the elapsed time and re-initialize timer\"\"\"\n",
        "        if self._start_time is None:\n",
        "           raise TimerError(\"Timer is not running. Use .start()\")\n",
        "        self._elapsed_time = time.perf_counter() - self._start_time\n",
        "        self._start_time = None\n",
        "\n",
        "    def elapsed(self):\n",
        "        \"\"\"Report elapsed time\"\"\"\n",
        "        if self._elapsed_time is None:\n",
        "           raise TimerError(\"Timer has not been run yet. Use .start()\")\n",
        "        return(self._elapsed_time)\n",
        "\n",
        "    def __str__(self):\n",
        "        \"\"\"print() prints elapsed time\"\"\"\n",
        "        return(str(self._elapsed_time))"
      ],
      "execution_count": null,
      "outputs": []
    },
    {
      "cell_type": "markdown",
      "metadata": {
        "id": "_pxxp1sEdhtI"
      },
      "source": [
        "### Python lists"
      ]
    },
    {
      "cell_type": "code",
      "metadata": {
        "colab": {
          "base_uri": "https://localhost:8080/"
        },
        "id": "_E64v0OwdhtI",
        "outputId": "5b635b56-ebf0-46eb-ead1-37abc73621d2"
      },
      "source": [
        "t = Timer()\n",
        "t.start()\n",
        "l = []\n",
        "for i in range(10000000):\n",
        "    l.append(i)\n",
        "t.stop()\n",
        "print(t)"
      ],
      "execution_count": null,
      "outputs": [
        {
          "output_type": "stream",
          "text": [
            "1.5493727650000437\n"
          ],
          "name": "stdout"
        }
      ]
    },
    {
      "cell_type": "code",
      "metadata": {
        "colab": {
          "base_uri": "https://localhost:8080/"
        },
        "id": "wf27yAvgdhtJ",
        "outputId": "bddc1643-5f3e-409f-fd2a-71ce25e40907"
      },
      "source": [
        "t = Timer()\n",
        "t.start()\n",
        "l = []\n",
        "for i in range(300000):\n",
        "    l.insert(0,i)\n",
        "t.stop()\n",
        "print(t)"
      ],
      "execution_count": null,
      "outputs": [
        {
          "output_type": "stream",
          "text": [
            "22.904139766999833\n"
          ],
          "name": "stdout"
        }
      ]
    },
    {
      "cell_type": "markdown",
      "metadata": {
        "id": "HREqZFVosZ9R"
      },
      "source": [
        "## Searching\n",
        "### Naive search and binary search with lists"
      ]
    },
    {
      "cell_type": "code",
      "metadata": {
        "id": "Nh0Rt2ztm4nL"
      },
      "source": [
        "def naivesearchlist(v,L):\n",
        "  for x in L:\n",
        "    if v == x:\n",
        "      return(True)\n",
        "  return(False)"
      ],
      "execution_count": null,
      "outputs": []
    },
    {
      "cell_type": "code",
      "metadata": {
        "id": "9tDWAhyUnA7K"
      },
      "source": [
        "def binarysearchlist(v,L):\n",
        "  if L == []:\n",
        "    return(False)\n",
        "\n",
        "  m = len(L)//2\n",
        "\n",
        "  if v == L[m]:\n",
        "    return(True)\n",
        "\n",
        "  if v < L[m]:\n",
        "    return(binarysearchlist(v,L[:m]))\n",
        "  else:\n",
        "    return(binarysearchlist(v,L[m+1:]))"
      ],
      "execution_count": null,
      "outputs": []
    },
    {
      "cell_type": "markdown",
      "metadata": {
        "id": "Xgnix2F1dhsS"
      },
      "source": [
        "### Naive search and binary search with arrays"
      ]
    },
    {
      "cell_type": "code",
      "metadata": {
        "id": "ECifEBLxdhsV"
      },
      "source": [
        "def naivesearcharray(v,A,l,r):  # Search A[l:r]\n",
        "  for i in range(l,r):\n",
        "    if v == A[i]:\n",
        "      return(True)\n",
        "  return(False)"
      ],
      "execution_count": null,
      "outputs": []
    },
    {
      "cell_type": "code",
      "metadata": {
        "id": "P4dNYbUqdhsX"
      },
      "source": [
        "def binarysearcharray(v,A,l,r):  # Search A[l:r]\n",
        "  if r-l <= 0:\n",
        "    return(False)\n",
        "\n",
        "  m = (l+r)//2\n",
        "\n",
        "  if v == A[m]:\n",
        "    return(True)\n",
        "\n",
        "  if v < A[m]:\n",
        "    return(binarysearcharray(v,A,l,m))\n",
        "  else:\n",
        "    return(binarysearcharray(v,A,m+1,r))"
      ],
      "execution_count": null,
      "outputs": []
    },
    {
      "cell_type": "markdown",
      "metadata": {
        "id": "FcsOBFTGsZ9V"
      },
      "source": [
        "### Performance comparison across $10^4$ worst case searches in a sequence of size $10^5$\n",
        "- Looking for odd numbers in a sequence of even numbers"
      ]
    },
    {
      "cell_type": "markdown",
      "metadata": {
        "id": "TlanrQI0dhsh"
      },
      "source": [
        "#### Naive search vs binary search on lists"
      ]
    },
    {
      "cell_type": "code",
      "metadata": {
        "colab": {
          "base_uri": "https://localhost:8080/"
        },
        "id": "BlsFK6JdoC6L",
        "outputId": "c903ef33-3ff8-4dac-f094-2afac8f649d4"
      },
      "source": [
        "l = list(range(0,100000,2))\n",
        "t = Timer()\n",
        "t.start()\n",
        "for i in range(3001,13000,2):\n",
        "  v = naivesearchlist(i,l)\n",
        "t.stop()\n",
        "print()\n",
        "print(\"Naive search\", t)\n",
        "t.start()\n",
        "for i in range(3001,13000,2):\n",
        "  v = binarysearchlist(i,l)\n",
        "t.stop()\n",
        "print()\n",
        "print(\"Binary search\", t)"
      ],
      "execution_count": null,
      "outputs": [
        {
          "output_type": "stream",
          "text": [
            "\n",
            "Naive search 10.573194997000428\n",
            "\n",
            "Binary search 0.8486883160003345\n"
          ],
          "name": "stdout"
        }
      ]
    },
    {
      "cell_type": "markdown",
      "metadata": {
        "id": "ccwec_x8dhsj"
      },
      "source": [
        "#### Naive search vs binary search on arrays"
      ]
    },
    {
      "cell_type": "code",
      "metadata": {
        "colab": {
          "base_uri": "https://localhost:8080/"
        },
        "id": "GgmWp32fdhsk",
        "outputId": "a784fa72-ba24-4568-c833-a7d186a866db"
      },
      "source": [
        "import numpy as np\n",
        "myarray = np.arange(0,100000,2)\n",
        "t = Timer()\n",
        "t.start()\n",
        "for i in range(3001,5000,2):\n",
        "  v = naivesearcharray(i,myarray,0,np.prod(myarray.shape))\n",
        "t.stop()\n",
        "print()\n",
        "print(\"Naive search\", t)\n",
        "t.start()\n",
        "for i in range(3001,13000,2):\n",
        "  v = binarysearcharray(i,myarray,0,np.prod(myarray.shape))\n",
        "t.stop()\n",
        "print()\n",
        "print(\"Binary search\", t)"
      ],
      "execution_count": null,
      "outputs": [
        {
          "output_type": "stream",
          "text": [
            "\n",
            "Naive search 18.446638938000433\n",
            "\n",
            "Binary search 0.19533542499993928\n"
          ],
          "name": "stdout"
        }
      ]
    },
    {
      "cell_type": "markdown",
      "metadata": {
        "id": "0VR7wk-Mdhsl"
      },
      "source": [
        "### *Questions*\n",
        "- Binary search in arrays is much faster than in lists\n",
        "- Why is naive search in arrays slower than in lists?"
      ]
    },
    {
      "cell_type": "markdown",
      "metadata": {
        "id": "IrkFYqxMsZ9W"
      },
      "source": [
        "## Sorting\n",
        "### Selection sort"
      ]
    },
    {
      "cell_type": "markdown",
      "metadata": {
        "id": "xbJGjzc9dhsm"
      },
      "source": [
        "#### Selection sort on a list"
      ]
    },
    {
      "cell_type": "code",
      "metadata": {
        "id": "Xv8jrh12ouDC"
      },
      "source": [
        "def SelectionSortList(L):\n",
        "   n = len(L)\n",
        "   if n < 1:\n",
        "      return(L)\n",
        "   for i in range(n):\n",
        "      # Assume L[:i] is sorted\n",
        "      mpos = i  \n",
        "      # mpos is position of minimum in L[i:]\n",
        "      for j in range(i+1,n):\n",
        "        if L[j] < L[mpos]:\n",
        "           mpos = j\n",
        "      # L[mpos] is the smallest value in L[i:]\n",
        "      (L[i],L[mpos]) = (L[mpos],L[i])\n",
        "      # Now L[:i+1] is sorted\n",
        "   return(L)"
      ],
      "execution_count": null,
      "outputs": []
    },
    {
      "cell_type": "markdown",
      "metadata": {
        "id": "EJVvsjdSdhso"
      },
      "source": [
        "#### Selection sort on an array"
      ]
    },
    {
      "cell_type": "code",
      "metadata": {
        "id": "ui9GJo-Adhso"
      },
      "source": [
        "def SelectionSortArray(A):\n",
        "   n = np.prod(A.shape)\n",
        "   if n < 1:\n",
        "      return(A)\n",
        "   for i in range(n):\n",
        "      # Assume A[:i] is sorted\n",
        "      mpos = i  \n",
        "      # mpos is position of minimum in A[i:]\n",
        "      for j in range(i+1,n):\n",
        "        if A[j] < A[mpos]:\n",
        "           mpos = j\n",
        "      # A[mpos] is the smallest value in A[i:]\n",
        "      (A[i],A[mpos]) = (A[mpos],A[i])\n",
        "      # Now A[:i+1] is sorted\n",
        "   return(A)"
      ],
      "execution_count": null,
      "outputs": []
    },
    {
      "cell_type": "markdown",
      "metadata": {
        "id": "FAUrIDbtsZ9X"
      },
      "source": [
        "### Selection sort performance is more or less the same for all inputs"
      ]
    },
    {
      "cell_type": "markdown",
      "metadata": {
        "id": "2XvtQgbJdhsq"
      },
      "source": [
        "#### Selection sort performance on lists"
      ]
    },
    {
      "cell_type": "code",
      "metadata": {
        "colab": {
          "base_uri": "https://localhost:8080/"
        },
        "id": "FlOt-RwxoUvX",
        "outputId": "1cdebd8c-d0d6-450b-e15c-b2b2354a3607"
      },
      "source": [
        "import random\n",
        "random.seed(2021)\n",
        "inputlists = {}\n",
        "inputlists[\"random\"] = [random.randrange(100000) for i in range(10000)]\n",
        "inputlists[\"ascending\"] = [i for i in range(10000)]\n",
        "inputlists[\"descending\"] = [i for i in range (9999,-1,-1)]\n",
        "t = Timer()\n",
        "for k in inputlists.keys():\n",
        "    tmplist = inputlists[k][:]\n",
        "    t.start()\n",
        "    SelectionSortList(tmplist)\n",
        "    t.stop()\n",
        "    print(k,t)"
      ],
      "execution_count": null,
      "outputs": [
        {
          "output_type": "stream",
          "text": [
            "random 5.009827684999436\n",
            "ascending 4.9249246090003\n",
            "descending 5.207206533999852\n"
          ],
          "name": "stdout"
        }
      ]
    },
    {
      "cell_type": "markdown",
      "metadata": {
        "id": "ItTm9K0ydhsx"
      },
      "source": [
        "#### Selection sort performance on arrays"
      ]
    },
    {
      "cell_type": "code",
      "metadata": {
        "colab": {
          "base_uri": "https://localhost:8080/"
        },
        "id": "BAZ5qUwFdhsy",
        "outputId": "f5fb85ca-1bdb-49b7-bd35-a4547747e794"
      },
      "source": [
        "import numpy as np\n",
        "import random\n",
        "random.seed(2021)\n",
        "inputarrays = {}\n",
        "inputarrays[\"random\"] = np.arange(10000)\n",
        "for i in range(10000):\n",
        "    inputarrays[\"random\"][i] = random.randrange(100000)\n",
        "inputarrays[\"ascending\"] = np.arange(10000)\n",
        "inputarrays[\"descending\"] = np.arange(9999,-1,-1)\n",
        "t = Timer()\n",
        "for k in inputarrays.keys():\n",
        "    tmparray = inputarrays[k][:]\n",
        "    t.start()\n",
        "    SelectionSortArray(tmparray)\n",
        "    t.stop()\n",
        "    print(k,t)"
      ],
      "execution_count": null,
      "outputs": [
        {
          "output_type": "stream",
          "text": [
            "random 16.26913504999993\n",
            "ascending 16.298071097000502\n",
            "descending 16.776301769999918\n"
          ],
          "name": "stdout"
        }
      ]
    },
    {
      "cell_type": "markdown",
      "metadata": {
        "id": "R4DEVofmdhsz"
      },
      "source": [
        "### *Question:* Why is selection sort slower on arrays than on lists?"
      ]
    },
    {
      "cell_type": "markdown",
      "metadata": {
        "id": "LZYEt3CMsZ9Y"
      },
      "source": [
        "### Insertion sort, iterative, on lists"
      ]
    },
    {
      "cell_type": "code",
      "metadata": {
        "id": "7IU966hV-9Pn"
      },
      "source": [
        "def InsertionSortList(L):\n",
        "   n = len(L)\n",
        "   if n < 1:\n",
        "      return(L)\n",
        "   for i in range(n):\n",
        "      # Assume L[:i] is sorted\n",
        "      # Move L[i] to correct position in L[:i]\n",
        "      j = i\n",
        "      while(j > 0 and L[j] < L[j-1]):\n",
        "        (L[j],L[j-1]) = (L[j-1],L[j])\n",
        "        j = j-1\n",
        "      # Now L[:i+1] is sorted\n",
        "   return(L)"
      ],
      "execution_count": null,
      "outputs": []
    },
    {
      "cell_type": "markdown",
      "metadata": {
        "id": "yZn6-WDIdhs1"
      },
      "source": [
        "### Insertion sort, iterative, on arrays"
      ]
    },
    {
      "cell_type": "code",
      "metadata": {
        "id": "qVBrAeandhs1"
      },
      "source": [
        "def InsertionSortArray(A):\n",
        "   n = np.prod(A.shape)\n",
        "   if n < 1:\n",
        "      return(A)\n",
        "   for i in range(n):\n",
        "      # Assume A[:i] is sorted\n",
        "      # Move A[i] to correct position in A[:i]\n",
        "      j = i\n",
        "      while(j > 0 and A[j] < A[j-1]):\n",
        "        (A[j],A[j-1]) = (A[j-1],A[j])\n",
        "        j = j-1\n",
        "      # Now A[:i+1] is sorted\n",
        "   return(A)"
      ],
      "execution_count": null,
      "outputs": []
    },
    {
      "cell_type": "markdown",
      "metadata": {
        "id": "BYq-qcbTsZ9Y"
      },
      "source": [
        "### Insertion sort preformance\n",
        "- On already sorted input, performance is very good\n",
        "- On reverse sorted input, performance is worse than selection sort"
      ]
    },
    {
      "cell_type": "markdown",
      "metadata": {
        "id": "HPT48kEIdhs2"
      },
      "source": [
        "#### Insertion sort performance on lists"
      ]
    },
    {
      "cell_type": "code",
      "metadata": {
        "colab": {
          "base_uri": "https://localhost:8080/"
        },
        "id": "P59KcaKM_CjK",
        "outputId": "d37043e4-76f7-4598-fb2f-26ffe23fc51c"
      },
      "source": [
        "import random\n",
        "random.seed(2021)\n",
        "inputlists = {}\n",
        "inputlists[\"random\"] = [random.randrange(100000) for i in range(10000)]\n",
        "inputlists[\"ascending\"] = [i for i in range(10000)]\n",
        "inputlists[\"descending\"] = [i for i in range (9999,-1,-1)]\n",
        "t = Timer()\n",
        "for k in inputlists.keys():\n",
        "    tmplist = inputlists[k][:]\n",
        "    t.start()\n",
        "    InsertionSortList(tmplist)\n",
        "    t.stop()\n",
        "    print(k,t)"
      ],
      "execution_count": null,
      "outputs": [
        {
          "name": "stdout",
          "output_type": "stream",
          "text": [
            "random 9.761906529999976\n",
            "ascending 0.0018216439999605427\n"
          ]
        }
      ]
    },
    {
      "cell_type": "markdown",
      "metadata": {
        "id": "7IgWtrVHdhs3"
      },
      "source": [
        "#### Insertion sort performance on arrays"
      ]
    },
    {
      "cell_type": "code",
      "metadata": {
        "colab": {
          "background_save": true
        },
        "id": "qmbbk6Z5dhs4",
        "outputId": "c1c404e6-43ba-4945-80b2-b1ae960ccb99"
      },
      "source": [
        "import numpy as np\n",
        "import random\n",
        "random.seed(2021)\n",
        "inputarrays = {}\n",
        "inputarrays[\"random\"] = np.arange(10000)\n",
        "for i in range(10000):\n",
        "    inputarrays[\"random\"][i] = random.randrange(100000)\n",
        "inputarrays[\"ascending\"] = np.arange(10000)\n",
        "inputarrays[\"descending\"] = np.arange(9999,-1,-1)\n",
        "t = Timer()\n",
        "for k in inputarrays.keys():\n",
        "    tmparray = inputarrays[k][:]\n",
        "    t.start()\n",
        "    InsertionSortArray(tmparray)\n",
        "    t.stop()\n",
        "    print(k,t)"
      ],
      "execution_count": null,
      "outputs": [
        {
          "name": "stdout",
          "output_type": "stream",
          "text": [
            "random 22.89952142300001\n",
            "ascending 0.004247436000014204\n",
            "descending 46.23875934999995\n"
          ]
        }
      ]
    },
    {
      "cell_type": "markdown",
      "metadata": {
        "id": "_I_Kwq5RsZ9S"
      },
      "source": [
        "### *Question:* Why is insertion sort slower on arrays than on lists?"
      ]
    },
    {
      "cell_type": "markdown",
      "metadata": {
        "id": "ugj-kRXpsZ9b"
      },
      "source": [
        "### Merge sort"
      ]
    },
    {
      "cell_type": "code",
      "metadata": {
        "id": "vjSICLy_s0-K"
      },
      "source": [
        "def mergeList(A,B):\n",
        "  (m,n) = (len(A),len(B))\n",
        "  (C,i,j,k) = ([],0,0,0)\n",
        "  while k < m+n:\n",
        "    if i == m:\n",
        "      C.append(B[j])\n",
        "      (j,k) = (j+1,k+1)\n",
        "    elif j == n:\n",
        "      C.append(A[i])\n",
        "      (i,k) = (i+1,k+1)\n",
        "    elif A[i] < B[j]:\n",
        "      C.append(A[i])\n",
        "      (i,k) = (i+1,k+1)\n",
        "    else:\n",
        "      C.append(B[j])\n",
        "      (j,k) = (j+1,k+1)\n",
        "  return(C)"
      ],
      "execution_count": null,
      "outputs": []
    },
    {
      "cell_type": "code",
      "metadata": {
        "id": "YAAEaiRxs6Yu"
      },
      "source": [
        "def mergesortList(L):\n",
        "  n = len(L)\n",
        "\n",
        "  if n <= 1:\n",
        "     return(L)\n",
        "  \n",
        "  Left = mergesortList(L[:n//2])\n",
        "  Right = mergesortList(L[n//2:])\n",
        "\n",
        "  Lsorted = mergeList(Left,Right)\n",
        "\n",
        "  return(Lsorted)"
      ],
      "execution_count": null,
      "outputs": []
    },
    {
      "cell_type": "code",
      "metadata": {
        "id": "owDk3JJddhs9"
      },
      "source": [
        "def mergeArray(A,B):\n",
        "  (m,n) = (np.prod(A.shape),np.prod(B.shape))\n",
        "  (C,i,j,k) = (np.zeros(m+n,dtype=int),0,0,0)\n",
        "  while k < m+n:\n",
        "    if i == m:\n",
        "      C[k] = B[j]\n",
        "      (j,k) = (j+1,k+1)\n",
        "    elif j == n:\n",
        "      C[k] = A[i]\n",
        "      (i,k) = (i+1,k+1)\n",
        "    elif A[i] < B[j]:\n",
        "      C[k] = A[i]\n",
        "      (i,k) = (i+1,k+1)\n",
        "    else:\n",
        "      C[k] = B[j]\n",
        "      (j,k) = (j+1,k+1)\n",
        "  return(C)"
      ],
      "execution_count": null,
      "outputs": []
    },
    {
      "cell_type": "code",
      "metadata": {
        "id": "gS9fT-YLdhs-"
      },
      "source": [
        "def mergesortArray(A,l,r):\n",
        "  if r-l <= 1:\n",
        "    B = np.array(A[l:r])\n",
        "    return(B)\n",
        "    \n",
        "  mid = (l+r)//2\n",
        "  \n",
        "  L = mergesortArray(A,l,mid)\n",
        "  R = mergesortArray(A,mid,r)\n",
        "\n",
        "  B = mergeArray(L,R)\n",
        "\n",
        "  return(B)"
      ],
      "execution_count": null,
      "outputs": []
    },
    {
      "cell_type": "markdown",
      "metadata": {
        "id": "O8dFFhg3sZ9c"
      },
      "source": [
        "### Perfomance on large inputs, $10^7$, random and sorted"
      ]
    },
    {
      "cell_type": "code",
      "metadata": {
        "colab": {
          "base_uri": "https://localhost:8080/"
        },
        "id": "WI6uw7A2sZ9c",
        "outputId": "6ff66ca3-5329-497d-b325-5bd1df9744b5"
      },
      "source": [
        "import random\n",
        "random.seed(2021)\n",
        "inputlists = {}\n",
        "inputlists[\"random\"] = [random.randrange(100000000) for i in range(1000000)]\n",
        "inputlists[\"ascending\"] = [i for i in range(1000000)]\n",
        "inputlists[\"descending\"] = [i for i in range (999999,-1,-1)]\n",
        "t = Timer()\n",
        "for k in inputlists.keys():\n",
        "    tmplist = inputlists[k][:]\n",
        "    t.start()\n",
        "    mergesortList(tmplist)\n",
        "    t.stop()\n",
        "    print(k,t)"
      ],
      "execution_count": null,
      "outputs": [
        {
          "output_type": "stream",
          "text": [
            "random 9.461006794999776\n",
            "ascending 7.209758885000156\n",
            "descending 7.549550362000446\n"
          ],
          "name": "stdout"
        }
      ]
    },
    {
      "cell_type": "code",
      "metadata": {
        "id": "8V4eK7A_dhtD",
        "colab": {
          "base_uri": "https://localhost:8080/"
        },
        "outputId": "395eafec-3cb2-4d83-dc44-923cb942d70f"
      },
      "source": [
        "import numpy as np\n",
        "import random\n",
        "random.seed(2021)\n",
        "inputarrays = {}\n",
        "inputarrays[\"random\"] = np.arange(1000000)\n",
        "for i in range(1000000):\n",
        "    inputarrays[\"random\"][i] = random.randrange(100000000)\n",
        "inputarrays[\"ascending\"] = np.arange(1000000)\n",
        "inputarrays[\"descending\"] = np.arange(999999,-1,-1)\n",
        "t = Timer()\n",
        "for k in inputarrays.keys():\n",
        "    tmparray = inputarrays[k][:]\n",
        "    t.start()\n",
        "    mergesortArray(tmparray,0,1000000)\n",
        "    t.stop()\n",
        "    print(k,t)"
      ],
      "execution_count": null,
      "outputs": [
        {
          "output_type": "stream",
          "text": [
            "random 50.28121324999938\n",
            "ascending 45.242545600000085\n",
            "descending 47.68783998900017\n"
          ],
          "name": "stdout"
        }
      ]
    },
    {
      "cell_type": "code",
      "metadata": {
        "id": "QIAd3klw1DrI"
      },
      "source": [
        "def quicksortList(L,l,r):  # Sort L[l:r]\n",
        "  if (r - l <= 1):\n",
        "    return(L)\n",
        "  (pivot,lower,upper) = (L[l],l+1,l+1)\n",
        "  for i in range(l+1,r):\n",
        "    if L[i] > pivot:  # Extend upper segment\n",
        "      upper = upper+1\n",
        "    else:  # Exchange L[i] with start of upper segment\n",
        "      (L[i], L[lower]) = (L[lower], L[i])\n",
        "      # Shift both segments\n",
        "      (lower,upper) = (lower+1,upper+1)\n",
        "  # Move pivot between lower and upper\n",
        "  (L[l],L[lower-1]) = (L[lower-1],L[l])\n",
        "  lower = lower-1\n",
        "  # Recursive calls\n",
        "  quicksortList(L,l,lower)\n",
        "  quicksortList(L,lower+1,upper)\n",
        "  return(L)"
      ],
      "execution_count": null,
      "outputs": []
    },
    {
      "cell_type": "code",
      "metadata": {
        "id": "nr6uE69zdhtE"
      },
      "source": [
        "def quicksortArray(A,l,r):  # Sort A[l:r]\n",
        "  if (r - l <= 1):\n",
        "    return(A)\n",
        "  (pivot,lower,upper) = (A[l],l+1,l+1)\n",
        "  for i in range(l+1,r):\n",
        "    if A[i] > pivot:  # Extend upper segment\n",
        "      upper = upper+1\n",
        "    else:  # Exchange L[i] with start of upper segment\n",
        "      (A[i], A[lower]) = (A[lower], A[i])\n",
        "      # Shift both segments\n",
        "      (lower,upper) = (lower+1,upper+1)\n",
        "  # Move pivot between lower and upper\n",
        "  (A[l],A[lower-1]) = (A[lower-1],A[l])\n",
        "  lower = lower-1\n",
        "  # Recursive calls\n",
        "  quicksortArray(A,l,lower)\n",
        "  quicksortArray(A,lower+1,upper)\n",
        "  return(A)"
      ],
      "execution_count": null,
      "outputs": []
    },
    {
      "cell_type": "markdown",
      "metadata": {
        "id": "RezAgSDUsZ9d"
      },
      "source": [
        "### Quicksort performance\n",
        "- Random input of size $10^7$\n",
        "    - Compare with merge sort on $10^7$ random input\n",
        "- Sorted inputs of size $2 \\times 10^4$"
      ]
    },
    {
      "cell_type": "code",
      "metadata": {
        "id": "RfH1DiF9J0wZ",
        "colab": {
          "base_uri": "https://localhost:8080/"
        },
        "outputId": "5703065a-ecba-4686-97b6-07d11ea7ac7b"
      },
      "source": [
        "import random\n",
        "random.seed(2021)\n",
        "inputlists = {}\n",
        "inputlists[\"random\"] = [random.randrange(100000000) for i in range(1000000)]\n",
        "inputlists[\"ascending\"] = [i for i in range(20000)]\n",
        "inputlists[\"descending\"] = [i for i in range (19999,-1,-1)]\n",
        "t = Timer()\n",
        "for k in inputlists.keys():\n",
        "    tmplist = inputlists[k][:]\n",
        "    t.start()\n",
        "    quicksortList(tmplist,0,len(tmplist))\n",
        "    t.stop()\n",
        "    print(k,t)"
      ],
      "execution_count": null,
      "outputs": [
        {
          "output_type": "stream",
          "text": [
            "random 6.846926215000053\n",
            "ascending 23.762334613999997\n",
            "descending 43.71380329099998\n"
          ],
          "name": "stdout"
        }
      ]
    },
    {
      "cell_type": "code",
      "metadata": {
        "id": "Pg7ty3SxdhtI",
        "colab": {
          "base_uri": "https://localhost:8080/"
        },
        "outputId": "7bc3e059-986f-4cb7-bf64-24c5a6111fe7"
      },
      "source": [
        "import numpy as np\n",
        "import random\n",
        "random.seed(2021)\n",
        "inputarrays = {}\n",
        "inputarrays[\"random\"] = np.arange(1000000)\n",
        "for i in range(1000000):\n",
        "    inputarrays[\"random\"][i] = random.randrange(100000000)\n",
        "inputarrays[\"ascending\"] = np.arange(20000)\n",
        "inputarrays[\"descending\"] = np.arange(19999,-1,-1)\n",
        "t = Timer()\n",
        "for k in inputarrays.keys():\n",
        "    tmparray = inputarrays[k][:]\n",
        "    t.start()\n",
        "    quicksortArray(tmparray,0,np.prod(tmparray.shape))\n",
        "    t.stop()\n",
        "    print(k,t)"
      ],
      "execution_count": null,
      "outputs": [
        {
          "output_type": "stream",
          "text": [
            "random 12.35117238500004\n",
            "ascending 46.47526735700001\n",
            "descending 96.12570456000003\n"
          ],
          "name": "stdout"
        }
      ]
    }
  ]
}