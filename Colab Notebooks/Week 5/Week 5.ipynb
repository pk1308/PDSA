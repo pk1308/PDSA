{
 "cells": [
  {
   "cell_type": "code",
   "execution_count": null,
   "metadata": {},
   "outputs": [],
   "source": [
    "class Queue:\n",
    "    def __init__(self):\n",
    "        self.queue = []\n",
    "\n",
    "    def addq(self,v):\n",
    "        self.queue.append(v)\n",
    "\n",
    "    def delq(self):\n",
    "        v = None\n",
    "        if not self.isempty():\n",
    "            v = self.queue[0]\n",
    "            self.queue = self.queue[1:]\n",
    "        return(v)\n",
    "    \n",
    "    def isempty(self):\n",
    "        return(self.queue == [])\n",
    "\n",
    "    def __str__(self):\n",
    "        return(str(self.queue))"
   ]
  },
  {
   "cell_type": "code",
   "execution_count": 47,
   "metadata": {},
   "outputs": [],
   "source": [
    "# Dijkstra example\n",
    "dedges = [(0,1,10),(0,2,80),(1,2,6),(1,4,20),(2,3,70),(4,5,50),(4,6,5),(5,6,10)]\n",
    "edges = dedges + [(j,i,w) for (i,j,w) in dedges]"
   ]
  },
  {
   "cell_type": "code",
   "execution_count": null,
   "metadata": {},
   "outputs": [],
   "source": []
  },
  {
   "cell_type": "code",
   "execution_count": 25,
   "metadata": {},
   "outputs": [
    {
     "name": "stdout",
     "output_type": "stream",
     "text": [
      "[[[ 0.  0.]\n",
      "  [ 1. 10.]\n",
      "  [ 1. 80.]\n",
      "  [ 0.  0.]\n",
      "  [ 0.  0.]\n",
      "  [ 0.  0.]\n",
      "  [ 0.  0.]]\n",
      "\n",
      " [[ 1. 10.]\n",
      "  [ 0.  0.]\n",
      "  [ 1.  6.]\n",
      "  [ 0.  0.]\n",
      "  [ 1. 20.]\n",
      "  [ 0.  0.]\n",
      "  [ 0.  0.]]\n",
      "\n",
      " [[ 1. 80.]\n",
      "  [ 1.  6.]\n",
      "  [ 0.  0.]\n",
      "  [ 1. 70.]\n",
      "  [ 0.  0.]\n",
      "  [ 0.  0.]\n",
      "  [ 0.  0.]]\n",
      "\n",
      " [[ 0.  0.]\n",
      "  [ 0.  0.]\n",
      "  [ 1. 70.]\n",
      "  [ 0.  0.]\n",
      "  [ 0.  0.]\n",
      "  [ 0.  0.]\n",
      "  [ 0.  0.]]\n",
      "\n",
      " [[ 0.  0.]\n",
      "  [ 1. 20.]\n",
      "  [ 0.  0.]\n",
      "  [ 0.  0.]\n",
      "  [ 0.  0.]\n",
      "  [ 1. 50.]\n",
      "  [ 1.  5.]]\n",
      "\n",
      " [[ 0.  0.]\n",
      "  [ 0.  0.]\n",
      "  [ 0.  0.]\n",
      "  [ 0.  0.]\n",
      "  [ 1. 50.]\n",
      "  [ 0.  0.]\n",
      "  [ 1. 10.]]\n",
      "\n",
      " [[ 0.  0.]\n",
      "  [ 0.  0.]\n",
      "  [ 0.  0.]\n",
      "  [ 0.  0.]\n",
      "  [ 1.  5.]\n",
      "  [ 1. 10.]\n",
      "  [ 0.  0.]]]\n"
     ]
    }
   ],
   "source": [
    "size = 7\n",
    "import numpy as np\n",
    "W = np.zeros(shape=(size,size,2))\n",
    "for (i,j,w) in edges:\n",
    "    W[i,j,0] = 1\n",
    "    W[i,j,1] = w    \n",
    "print(W)"
   ]
  },
  {
   "cell_type": "code",
   "execution_count": 16,
   "metadata": {},
   "outputs": [
    {
     "data": {
      "text/plain": [
       "80.0"
      ]
     },
     "execution_count": 16,
     "metadata": {},
     "output_type": "execute_result"
    }
   ],
   "source": [
    "np.max(W)"
   ]
  },
  {
   "cell_type": "code",
   "execution_count": 77,
   "metadata": {},
   "outputs": [],
   "source": [
    "def dijkstra(WMat,s):\n",
    "    (rows,cols,x) = WMat.shape\n",
    "    infinity = np.max(WMat)*rows+1\n",
    "    (visited,distance) = ({},{})\n",
    "    for v in range(rows):\n",
    "        (visited[v],distance[v]) = (False,infinity)\n",
    "        \n",
    "    distance[s] = 0\n",
    "    \n",
    "    for u in range(rows):\n",
    "        nextd = min([distance[v] for v in range(rows)\n",
    "                        if not visited[v]])\n",
    "        nextvlist = [v for v in range(rows)\n",
    "                        if (not visited[v]) and\n",
    "                            distance[v] == nextd]\n",
    "        if nextvlist == []:\n",
    "            break\n",
    "        nextv = min(nextvlist)\n",
    "        \n",
    "        visited[nextv] = True        \n",
    "        for v in range(cols):\n",
    "            if WMat[nextv,v,0] == 1 and (not visited[v]):\n",
    "                distance[v] = min(distance[v],distance[nextv]\n",
    "                                              +WMat[nextv,v,1])\n",
    "    return(distance)"
   ]
  },
  {
   "cell_type": "code",
   "execution_count": 31,
   "metadata": {},
   "outputs": [
    {
     "data": {
      "text/plain": [
       "{0: 0, 1: 10.0, 2: 16.0, 3: 81.0, 4: 30.0, 5: 45.0, 6: 35.0}"
      ]
     },
     "execution_count": 31,
     "metadata": {},
     "output_type": "execute_result"
    }
   ],
   "source": [
    "dijkstra(W,0)"
   ]
  },
  {
   "cell_type": "code",
   "execution_count": 42,
   "metadata": {},
   "outputs": [],
   "source": [
    "def dijkstralist(WList,s):\n",
    "    infinity = 1 + len(WList.keys())*\n",
    "                    max([d for u in WList.keys()\n",
    "                           for (v,d) in WList[u]])\n",
    "    (visited,distance) = ({},{})\n",
    "    for v in WList.keys():\n",
    "        (visited[v],distance[v]) = (False,infinity)\n",
    "        \n",
    "    distance[s] = 0\n",
    "    \n",
    "    for u in WList.keys():\n",
    "        nextd = min([distance[v] for v in WList.keys()\n",
    "                        if not visited[v]])\n",
    "        nextvlist = [v for v in WList.keys()\n",
    "                        if (not visited[v]) and\n",
    "                            distance[v] == nextd]\n",
    "        if nextvlist == []:\n",
    "            break\n",
    "        nextv = min(nextvlist)\n",
    "        \n",
    "        visited[nextv] = True        \n",
    "        for (v,d) in WList[nextv]:\n",
    "            if not visited[v]:\n",
    "                distance[v] = min(distance[v],distance[nextv]+d)\n",
    "    return(distance)"
   ]
  },
  {
   "cell_type": "code",
   "execution_count": 3,
   "metadata": {},
   "outputs": [],
   "source": [
    "size = 7\n",
    "WL = {}\n",
    "for i in range(size):\n",
    "    WL[i] = []\n",
    "for (i,j,d) in edges:\n",
    "    WL[i].append((j,d))"
   ]
  },
  {
   "cell_type": "code",
   "execution_count": 44,
   "metadata": {},
   "outputs": [
    {
     "data": {
      "text/plain": [
       "{0: 0, 1: 10, 2: 16, 3: 81, 4: 30, 5: 45, 6: 35}"
      ]
     },
     "execution_count": 44,
     "metadata": {},
     "output_type": "execute_result"
    }
   ],
   "source": [
    "dijkstralist(WL,0)"
   ]
  },
  {
   "cell_type": "code",
   "execution_count": 78,
   "metadata": {},
   "outputs": [],
   "source": [
    "def bellmanford(WMat,s):\n",
    "    (rows,cols,x) = WMat.shape\n",
    "    infinity = np.max(WMat)*rows+1\n",
    "    distance = {}\n",
    "    for v in range(rows):\n",
    "        distance[v] = infinity\n",
    "        \n",
    "    distance[s] = 0\n",
    "    \n",
    "    for i in range(rows):\n",
    "        for u in range(rows):\n",
    "            for v in range(cols):\n",
    "                if WMat[u,v,0] == 1:\n",
    "                    distance[v] = min(distance[v], distance[u] \n",
    "                                                   + WMat[u,v,1])\n",
    "    return(distance)"
   ]
  },
  {
   "cell_type": "code",
   "execution_count": 49,
   "metadata": {},
   "outputs": [],
   "source": [
    "# Bellman Ford Example\n",
    "edges = [(0,1,10),(0,7,8),(1,5,2),(2,1,1),(2,3,1),(3,4,3),(4,5,-1),(5,2,-2),(6,1,-4),(6,5,-1),(7,6,1)]"
   ]
  },
  {
   "cell_type": "code",
   "execution_count": 50,
   "metadata": {},
   "outputs": [
    {
     "name": "stdout",
     "output_type": "stream",
     "text": [
      "[[[ 0.  0.]\n",
      "  [ 1. 10.]\n",
      "  [ 0.  0.]\n",
      "  [ 0.  0.]\n",
      "  [ 0.  0.]\n",
      "  [ 0.  0.]\n",
      "  [ 0.  0.]\n",
      "  [ 1.  8.]]\n",
      "\n",
      " [[ 0.  0.]\n",
      "  [ 0.  0.]\n",
      "  [ 0.  0.]\n",
      "  [ 0.  0.]\n",
      "  [ 0.  0.]\n",
      "  [ 1.  2.]\n",
      "  [ 0.  0.]\n",
      "  [ 0.  0.]]\n",
      "\n",
      " [[ 0.  0.]\n",
      "  [ 1.  1.]\n",
      "  [ 0.  0.]\n",
      "  [ 1.  1.]\n",
      "  [ 0.  0.]\n",
      "  [ 0.  0.]\n",
      "  [ 0.  0.]\n",
      "  [ 0.  0.]]\n",
      "\n",
      " [[ 0.  0.]\n",
      "  [ 0.  0.]\n",
      "  [ 0.  0.]\n",
      "  [ 0.  0.]\n",
      "  [ 1.  3.]\n",
      "  [ 0.  0.]\n",
      "  [ 0.  0.]\n",
      "  [ 0.  0.]]\n",
      "\n",
      " [[ 0.  0.]\n",
      "  [ 0.  0.]\n",
      "  [ 0.  0.]\n",
      "  [ 0.  0.]\n",
      "  [ 0.  0.]\n",
      "  [ 1. -1.]\n",
      "  [ 0.  0.]\n",
      "  [ 0.  0.]]\n",
      "\n",
      " [[ 0.  0.]\n",
      "  [ 0.  0.]\n",
      "  [ 1. -2.]\n",
      "  [ 0.  0.]\n",
      "  [ 0.  0.]\n",
      "  [ 0.  0.]\n",
      "  [ 0.  0.]\n",
      "  [ 0.  0.]]\n",
      "\n",
      " [[ 0.  0.]\n",
      "  [ 1. -4.]\n",
      "  [ 0.  0.]\n",
      "  [ 0.  0.]\n",
      "  [ 0.  0.]\n",
      "  [ 1. -1.]\n",
      "  [ 0.  0.]\n",
      "  [ 0.  0.]]\n",
      "\n",
      " [[ 0.  0.]\n",
      "  [ 0.  0.]\n",
      "  [ 0.  0.]\n",
      "  [ 0.  0.]\n",
      "  [ 0.  0.]\n",
      "  [ 0.  0.]\n",
      "  [ 1.  1.]\n",
      "  [ 0.  0.]]]\n"
     ]
    }
   ],
   "source": [
    "size = 8\n",
    "import numpy as np\n",
    "W = np.zeros(shape=(size,size,2))\n",
    "for (i,j,w) in edges:\n",
    "    W[i,j,0] = 1\n",
    "    W[i,j,1] = w    \n",
    "print(W)"
   ]
  },
  {
   "cell_type": "code",
   "execution_count": 67,
   "metadata": {},
   "outputs": [
    {
     "data": {
      "text/plain": [
       "{0: 0, 1: 5.0, 2: 5.0, 3: 6.0, 4: 9.0, 5: 7.0, 6: 9.0, 7: 8.0}"
      ]
     },
     "execution_count": 67,
     "metadata": {},
     "output_type": "execute_result"
    }
   ],
   "source": [
    "bellmanford(W,0)"
   ]
  },
  {
   "cell_type": "code",
   "execution_count": 75,
   "metadata": {},
   "outputs": [],
   "source": [
    "def bellmanfordlist(WList,s):\n",
    "    infinity = 1 + len(WList.keys())*\n",
    "                    max([d for u in WList.keys()\n",
    "    distance = {}\n",
    "    for v in WList.keys():\n",
    "        distance[v] = infinity\n",
    "        \n",
    "    distance[s] = 0\n",
    "    \n",
    "    for i in WList.keys():\n",
    "        for u in WList.keys():\n",
    "            for (v,d) in WList[u]:\n",
    "                distance[v] = min(distance[v], distance[u] + d)\n",
    "    return(distance)"
   ]
  },
  {
   "cell_type": "code",
   "execution_count": 69,
   "metadata": {},
   "outputs": [],
   "source": [
    "size = 8\n",
    "WL = {}\n",
    "for i in range(size):\n",
    "    WL[i] = []\n",
    "for (i,j,d) in edges:\n",
    "    WL[i].append((j,d))"
   ]
  },
  {
   "cell_type": "code",
   "execution_count": 76,
   "metadata": {},
   "outputs": [
    {
     "data": {
      "text/plain": [
       "{0: 0, 1: 5, 2: 5, 3: 6, 4: 9, 5: 7, 6: 9, 7: 8}"
      ]
     },
     "execution_count": 76,
     "metadata": {},
     "output_type": "execute_result"
    }
   ],
   "source": [
    "bellmanfordlist(WL,0)"
   ]
  },
  {
   "cell_type": "code",
   "execution_count": 104,
   "metadata": {},
   "outputs": [],
   "source": [
    "def floydwarshall(WMat):\n",
    "    (rows,cols,x) = WMat.shape\n",
    "    infinity = np.max(WMat)*rows*rows+1\n",
    "   \n",
    "    SP = np.zeros(shape=(rows,cols,cols+1))\n",
    "    for i in range(rows):\n",
    "        for j in range(cols):\n",
    "            SP[i,j,0] = infinity\n",
    "            \n",
    "    for i in range(rows):\n",
    "        for j in range(cols):\n",
    "            if WMat[i,j,0] == 1:\n",
    "                SP[i,j,0] = WMat[i,j,1]\n",
    "    print(0)\n",
    "    print(SP[:,:,0])\n",
    "    \n",
    "    for k in range(1,cols+1):\n",
    "        for i in range(rows):\n",
    "            for j in range(cols):\n",
    "                SP[i,j,k] = min(SP[i,j,k-1],\n",
    "                                SP[i,k-1,k-1]+SP[k-1,j,k-1])\n",
    "        print(k)\n",
    "        print(SP[:,:,k])\n",
    "    \n",
    "    return(SP[:,:,cols])"
   ]
  },
  {
   "cell_type": "code",
   "execution_count": 105,
   "metadata": {},
   "outputs": [
    {
     "name": "stdout",
     "output_type": "stream",
     "text": [
      "0\n",
      "[[641.  10. 641. 641. 641. 641. 641.   8.]\n",
      " [641. 641. 641. 641. 641.   2. 641. 641.]\n",
      " [641.   1. 641.   1. 641. 641. 641. 641.]\n",
      " [641. 641. 641. 641.   3. 641. 641. 641.]\n",
      " [641. 641. 641. 641. 641.  -1. 641. 641.]\n",
      " [641. 641.  -2. 641. 641. 641. 641. 641.]\n",
      " [641.  -4. 641. 641. 641.  -1. 641. 641.]\n",
      " [641. 641. 641. 641. 641. 641.   1. 641.]]\n",
      "1\n",
      "[[641.  10. 641. 641. 641. 641. 641.   8.]\n",
      " [641. 641. 641. 641. 641.   2. 641. 641.]\n",
      " [641.   1. 641.   1. 641. 641. 641. 641.]\n",
      " [641. 641. 641. 641.   3. 641. 641. 641.]\n",
      " [641. 641. 641. 641. 641.  -1. 641. 641.]\n",
      " [641. 641.  -2. 641. 641. 641. 641. 641.]\n",
      " [641.  -4. 641. 641. 641.  -1. 641. 641.]\n",
      " [641. 641. 641. 641. 641. 641.   1. 641.]]\n",
      "2\n",
      "[[641.  10. 641. 641. 641.  12. 641.   8.]\n",
      " [641. 641. 641. 641. 641.   2. 641. 641.]\n",
      " [641.   1. 641.   1. 641.   3. 641. 641.]\n",
      " [641. 641. 641. 641.   3. 641. 641. 641.]\n",
      " [641. 641. 641. 641. 641.  -1. 641. 641.]\n",
      " [641. 641.  -2. 641. 641. 641. 641. 641.]\n",
      " [637.  -4. 637. 637. 637.  -2. 637. 637.]\n",
      " [641. 641. 641. 641. 641. 641.   1. 641.]]\n",
      "3\n",
      "[[641.  10. 641. 641. 641.  12. 641.   8.]\n",
      " [641. 641. 641. 641. 641.   2. 641. 641.]\n",
      " [641.   1. 641.   1. 641.   3. 641. 641.]\n",
      " [641. 641. 641. 641.   3. 641. 641. 641.]\n",
      " [641. 641. 641. 641. 641.  -1. 641. 641.]\n",
      " [639.  -1.  -2.  -1. 639.   1. 639. 639.]\n",
      " [637.  -4. 637. 637. 637.  -2. 637. 637.]\n",
      " [641. 641. 641. 641. 641. 641.   1. 641.]]\n",
      "4\n",
      "[[641.  10. 641. 641. 641.  12. 641.   8.]\n",
      " [641. 641. 641. 641. 641.   2. 641. 641.]\n",
      " [641.   1. 641.   1.   4.   3. 641. 641.]\n",
      " [641. 641. 641. 641.   3. 641. 641. 641.]\n",
      " [641. 641. 641. 641. 641.  -1. 641. 641.]\n",
      " [639.  -1.  -2.  -1.   2.   1. 639. 639.]\n",
      " [637.  -4. 637. 637. 637.  -2. 637. 637.]\n",
      " [641. 641. 641. 641. 641. 641.   1. 641.]]\n",
      "5\n",
      "[[641.  10. 641. 641. 641.  12. 641.   8.]\n",
      " [641. 641. 641. 641. 641.   2. 641. 641.]\n",
      " [641.   1. 641.   1.   4.   3. 641. 641.]\n",
      " [641. 641. 641. 641.   3.   2. 641. 641.]\n",
      " [641. 641. 641. 641. 641.  -1. 641. 641.]\n",
      " [639.  -1.  -2.  -1.   2.   1. 639. 639.]\n",
      " [637.  -4. 637. 637. 637.  -2. 637. 637.]\n",
      " [641. 641. 641. 641. 641. 640.   1. 641.]]\n",
      "6\n",
      "[[641.  10.  10.  11.  14.  12. 641.   8.]\n",
      " [641.   1.   0.   1.   4.   2. 641. 641.]\n",
      " [641.   1.   1.   1.   4.   3. 641. 641.]\n",
      " [641.   1.   0.   1.   3.   2. 641. 641.]\n",
      " [638.  -2.  -3.  -2.   1.  -1. 638. 638.]\n",
      " [639.  -1.  -2.  -1.   2.   1. 639. 639.]\n",
      " [637.  -4.  -4.  -3.   0.  -2. 637. 637.]\n",
      " [641. 639. 638. 639. 641. 640.   1. 641.]]\n",
      "7\n",
      "[[641.  10.  10.  11.  14.  12. 641.   8.]\n",
      " [641.   1.   0.   1.   4.   2. 641. 641.]\n",
      " [641.   1.   1.   1.   4.   3. 641. 641.]\n",
      " [641.   1.   0.   1.   3.   2. 641. 641.]\n",
      " [638.  -2.  -3.  -2.   1.  -1. 638. 638.]\n",
      " [639.  -1.  -2.  -1.   2.   1. 639. 639.]\n",
      " [637.  -4.  -4.  -3.   0.  -2. 637. 637.]\n",
      " [638.  -3.  -3.  -2.   1.  -1.   1. 638.]]\n",
      "8\n",
      "[[641.   5.   5.   6.   9.   7.   9.   8.]\n",
      " [641.   1.   0.   1.   4.   2. 641. 641.]\n",
      " [641.   1.   1.   1.   4.   3. 641. 641.]\n",
      " [641.   1.   0.   1.   3.   2. 641. 641.]\n",
      " [638.  -2.  -3.  -2.   1.  -1. 638. 638.]\n",
      " [639.  -1.  -2.  -1.   2.   1. 639. 639.]\n",
      " [637.  -4.  -4.  -3.   0.  -2. 637. 637.]\n",
      " [638.  -3.  -3.  -2.   1.  -1.   1. 638.]]\n"
     ]
    },
    {
     "data": {
      "text/plain": [
       "array([[641.,   5.,   5.,   6.,   9.,   7.,   9.,   8.],\n",
       "       [641.,   1.,   0.,   1.,   4.,   2., 641., 641.],\n",
       "       [641.,   1.,   1.,   1.,   4.,   3., 641., 641.],\n",
       "       [641.,   1.,   0.,   1.,   3.,   2., 641., 641.],\n",
       "       [638.,  -2.,  -3.,  -2.,   1.,  -1., 638., 638.],\n",
       "       [639.,  -1.,  -2.,  -1.,   2.,   1., 639., 639.],\n",
       "       [637.,  -4.,  -4.,  -3.,   0.,  -2., 637., 637.],\n",
       "       [638.,  -3.,  -3.,  -2.,   1.,  -1.,   1., 638.]])"
      ]
     },
     "execution_count": 105,
     "metadata": {},
     "output_type": "execute_result"
    }
   ],
   "source": [
    "floydwarshall(W)"
   ]
  },
  {
   "cell_type": "code",
   "execution_count": 115,
   "metadata": {},
   "outputs": [],
   "source": [
    "def primlist(WList):\n",
    "    infinity = 1 + max([d for u in WList.keys()\n",
    "                           for (v,d) in WList[u]])\n",
    "    (visited,distance) = ({},{})\n",
    "    for v in WList.keys():\n",
    "        (visited[v],distance[v]) = (False,infinity)\n",
    "        \n",
    "    TreeEdges = []\n",
    "    visited[0] = True\n",
    "    for (v,d) in WList[0]:\n",
    "        distance[v] = d\n",
    "    \n",
    "    for i in WList.keys():\n",
    "        mindist = infinity\n",
    "        nextv = None\n",
    "        for u in WList.keys():\n",
    "            for (v,d) in WList[u]:\n",
    "                if visited[u] and (not visited[v]) and d < mindist:\n",
    "                    mindist = d\n",
    "                    nextv = v\n",
    "                    nexte = (u,v)\n",
    "                    \n",
    "        if nextv is None:\n",
    "            break\n",
    "        \n",
    "        visited[nextv] = True\n",
    "        TreeEdges.append(nexte)\n",
    "        for (v,d) in WList[nextv]:\n",
    "            if not visited[v]:\n",
    "                distance[v] = min(distance[v],d)\n",
    "    return(TreeEdges)"
   ]
  },
  {
   "cell_type": "code",
   "execution_count": 107,
   "metadata": {},
   "outputs": [],
   "source": [
    "# Prims\n",
    "dedges = [(0,1,10),(0,3,18),(1,2,20),(1,3,6),(2,4,8),(3,4,70)]\n",
    "edges = dedges + [(j,i,w) for (i,j,w) in dedges]"
   ]
  },
  {
   "cell_type": "code",
   "execution_count": 109,
   "metadata": {},
   "outputs": [
    {
     "name": "stdout",
     "output_type": "stream",
     "text": [
      "{0: [(1, 10), (3, 18)], 1: [(2, 20), (3, 6), (0, 10)], 2: [(4, 8), (1, 20)], 3: [(4, 70), (0, 18), (1, 6)], 4: [(2, 8), (3, 70)]}\n"
     ]
    }
   ],
   "source": [
    "size = 5\n",
    "WL = {}\n",
    "for i in range(size):\n",
    "    WL[i] = []\n",
    "for (i,j,d) in edges:\n",
    "    WL[i].append((j,d))\n",
    "print(WL)"
   ]
  },
  {
   "cell_type": "code",
   "execution_count": 116,
   "metadata": {},
   "outputs": [
    {
     "data": {
      "text/plain": [
       "[(0, 1), (1, 3), (1, 2), (2, 4)]"
      ]
     },
     "execution_count": 116,
     "metadata": {},
     "output_type": "execute_result"
    }
   ],
   "source": [
    "primlist(WL)"
   ]
  },
  {
   "cell_type": "code",
   "execution_count": 127,
   "metadata": {},
   "outputs": [],
   "source": [
    "def primlist2(WList):\n",
    "    infinity = 1 + max([d for u in WList.keys()\n",
    "                           for (v,d) in WList[u]])\n",
    "    (visited,distance,nbr) = ({},{},{})\n",
    "    for v in WList.keys():\n",
    "        (visited[v],distance[v],nbr[v]) = (False,infinity,-1)\n",
    "\n",
    "    visited[0] = True\n",
    "    for (v,d) in WList[0]:\n",
    "        distance[v] = d\n",
    "        nbr[v] = 0\n",
    "    \n",
    "    for i in range(1,len(WList.keys())):\n",
    "        nextd = min([distance[v] for v in WList.keys()\n",
    "                        if not visited[v]])\n",
    "        nextvlist = [v for v in WList.keys()\n",
    "                        if (not visited[v]) and\n",
    "                            distance[v] == nextd]\n",
    "        if nextvlist == []:\n",
    "            break\n",
    "        nextv = min(nextvlist)\n",
    "       \n",
    "        visited[nextv] = True\n",
    "        for (v,d) in WList[nextv]:\n",
    "            if not visited[v] and d < distance[v]:\n",
    "                    (distance[v],nbr) = (d,nextv)\n",
    "    return(nbr)"
   ]
  },
  {
   "cell_type": "code",
   "execution_count": 128,
   "metadata": {},
   "outputs": [
    {
     "data": {
      "text/plain": [
       "{0: -1, 1: 0, 2: 1, 3: 1, 4: 2}"
      ]
     },
     "execution_count": 128,
     "metadata": {},
     "output_type": "execute_result"
    }
   ],
   "source": [
    "primlist2(WL)"
   ]
  },
  {
   "cell_type": "code",
   "execution_count": 13,
   "metadata": {},
   "outputs": [],
   "source": [
    "def kruskal(WList):\n",
    "    (edges,component,TE) = ([],{},[])\n",
    "    for u in WList.keys():\n",
    "        # Weight as first component to sort easily\n",
    "        edges.extend([(d,u,v) for (v,d) in WList[u]])\n",
    "        component[u] = u\n",
    "    edges.sort()\n",
    "    print(edges)\n",
    "    \n",
    "    for (d,u,v) in edges:\n",
    "        if component[u] != component[v]:\n",
    "            TE.append((u,v))\n",
    "            c = component[u]\n",
    "            for w in WList.keys():\n",
    "                if component[w] == c:\n",
    "                    component[w] = component[v]\n",
    "    return(TE)\n",
    "                    "
   ]
  },
  {
   "cell_type": "code",
   "execution_count": 2,
   "metadata": {},
   "outputs": [],
   "source": [
    "# Kruskak example\n",
    "dedges = [(0,1,10),(0,2,18),(1,2,6),(1,4,20),(2,3,70),(4,5,10),(4,6,10),(5,6,5)]\n",
    "edges = dedges + [(j,i,w) for (i,j,w) in dedges]"
   ]
  },
  {
   "cell_type": "code",
   "execution_count": 4,
   "metadata": {},
   "outputs": [],
   "source": [
    "size = 7\n",
    "WL = {}\n",
    "for i in range(size):\n",
    "    WL[i] = []\n",
    "for (i,j,d) in edges:\n",
    "    WL[i].append((j,d))"
   ]
  },
  {
   "cell_type": "code",
   "execution_count": 12,
   "metadata": {},
   "outputs": [
    {
     "name": "stdout",
     "output_type": "stream",
     "text": [
      "[(5, 5, 6), (5, 6, 5), (6, 1, 2), (6, 2, 1), (10, 0, 1), (10, 1, 0), (10, 4, 5), (10, 4, 6), (10, 5, 4), (10, 6, 4), (18, 0, 2), (18, 2, 0), (20, 1, 4), (20, 4, 1), (70, 2, 3), (70, 3, 2)]\n"
     ]
    },
    {
     "data": {
      "text/plain": [
       "[(5, 6), (1, 2), (0, 1), (4, 5), (1, 4), (2, 3)]"
      ]
     },
     "execution_count": 12,
     "metadata": {},
     "output_type": "execute_result"
    }
   ],
   "source": [
    "kruskal(WL)"
   ]
  }
 ],
 "metadata": {
  "kernelspec": {
   "display_name": "Python 3",
   "language": "python",
   "name": "python3"
  },
  "language_info": {
   "codemirror_mode": {
    "name": "ipython",
    "version": 3
   },
   "file_extension": ".py",
   "mimetype": "text/x-python",
   "name": "python",
   "nbconvert_exporter": "python",
   "pygments_lexer": "ipython3",
   "version": "3.7.7"
  }
 },
 "nbformat": 4,
 "nbformat_minor": 5
}
