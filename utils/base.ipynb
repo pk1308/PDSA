{
 "cells": [
  {
   "cell_type": "code",
   "execution_count": 1,
   "metadata": {},
   "outputs": [],
   "source": [
    "import os\n",
    "import numpy as np\n"
   ]
  },
  {
   "cell_type": "code",
   "execution_count": 2,
   "metadata": {},
   "outputs": [
    {
     "ename": "DeprecationError",
     "evalue": "PdfFileReader is deprecated and was removed in PyPDF2 3.0.0. Use PdfReader instead.",
     "output_type": "error",
     "traceback": [
      "\u001b[0;31m---------------------------------------------------------------------------\u001b[0m",
      "\u001b[0;31mDeprecationError\u001b[0m                          Traceback (most recent call last)",
      "Cell \u001b[0;32mIn[2], line 30\u001b[0m\n\u001b[1;32m     27\u001b[0m end_page \u001b[38;5;241m=\u001b[39m \u001b[38;5;241m10\u001b[39m   \u001b[38;5;66;03m# Last page to extract (adjust as needed)\u001b[39;00m\n\u001b[1;32m     29\u001b[0m \u001b[38;5;66;03m# Extract the specified pages and create the output PDF\u001b[39;00m\n\u001b[0;32m---> 30\u001b[0m \u001b[43mextract_pages\u001b[49m\u001b[43m(\u001b[49m\u001b[43minput_pdf\u001b[49m\u001b[43m,\u001b[49m\u001b[43m \u001b[49m\u001b[43moutput_pdf\u001b[49m\u001b[43m,\u001b[49m\u001b[43m \u001b[49m\u001b[43mstart_page\u001b[49m\u001b[43m,\u001b[49m\u001b[43m \u001b[49m\u001b[43mend_page\u001b[49m\u001b[43m)\u001b[49m\n\u001b[1;32m     32\u001b[0m \u001b[38;5;28mprint\u001b[39m(\u001b[38;5;124mf\u001b[39m\u001b[38;5;124m\"\u001b[39m\u001b[38;5;124mExtracted pages \u001b[39m\u001b[38;5;132;01m{\u001b[39;00mstart_page\u001b[38;5;250m \u001b[39m\u001b[38;5;241m+\u001b[39m\u001b[38;5;250m \u001b[39m\u001b[38;5;241m1\u001b[39m\u001b[38;5;132;01m}\u001b[39;00m\u001b[38;5;124m to \u001b[39m\u001b[38;5;132;01m{\u001b[39;00mend_page\u001b[38;5;250m \u001b[39m\u001b[38;5;241m+\u001b[39m\u001b[38;5;250m \u001b[39m\u001b[38;5;241m1\u001b[39m\u001b[38;5;132;01m}\u001b[39;00m\u001b[38;5;124m from \u001b[39m\u001b[38;5;132;01m{\u001b[39;00minput_pdf\u001b[38;5;132;01m}\u001b[39;00m\u001b[38;5;124m and saved to \u001b[39m\u001b[38;5;132;01m{\u001b[39;00moutput_pdf\u001b[38;5;132;01m}\u001b[39;00m\u001b[38;5;124m\"\u001b[39m)\n",
      "Cell \u001b[0;32mIn[2], line 6\u001b[0m, in \u001b[0;36mextract_pages\u001b[0;34m(input_pdf, output_pdf, start_page, end_page)\u001b[0m\n\u001b[1;32m      3\u001b[0m \u001b[38;5;28;01mdef\u001b[39;00m \u001b[38;5;21mextract_pages\u001b[39m(input_pdf, output_pdf, start_page, end_page):\n\u001b[1;32m      4\u001b[0m     \u001b[38;5;66;03m# Open the input PDF file\u001b[39;00m\n\u001b[1;32m      5\u001b[0m     \u001b[38;5;28;01mwith\u001b[39;00m \u001b[38;5;28mopen\u001b[39m(input_pdf, \u001b[38;5;124m'\u001b[39m\u001b[38;5;124mrb\u001b[39m\u001b[38;5;124m'\u001b[39m) \u001b[38;5;28;01mas\u001b[39;00m infile:\n\u001b[0;32m----> 6\u001b[0m         reader \u001b[38;5;241m=\u001b[39m \u001b[43mPyPDF2\u001b[49m\u001b[38;5;241;43m.\u001b[39;49m\u001b[43mPdfFileReader\u001b[49m\u001b[43m(\u001b[49m\u001b[43minfile\u001b[49m\u001b[43m)\u001b[49m\n\u001b[1;32m      8\u001b[0m         \u001b[38;5;66;03m# Create a PDF writer object for the output file\u001b[39;00m\n\u001b[1;32m      9\u001b[0m         writer \u001b[38;5;241m=\u001b[39m PyPDF2\u001b[38;5;241m.\u001b[39mPdfFileWriter()\n",
      "File \u001b[0;32m~/miniconda3/envs/pdsa_1/lib/python3.11/site-packages/PyPDF2/_reader.py:1974\u001b[0m, in \u001b[0;36mPdfFileReader.__init__\u001b[0;34m(self, *args, **kwargs)\u001b[0m\n\u001b[1;32m   1973\u001b[0m \u001b[38;5;28;01mdef\u001b[39;00m \u001b[38;5;21m__init__\u001b[39m(\u001b[38;5;28mself\u001b[39m, \u001b[38;5;241m*\u001b[39margs: Any, \u001b[38;5;241m*\u001b[39m\u001b[38;5;241m*\u001b[39mkwargs: Any) \u001b[38;5;241m-\u001b[39m\u001b[38;5;241m>\u001b[39m \u001b[38;5;28;01mNone\u001b[39;00m:\n\u001b[0;32m-> 1974\u001b[0m     \u001b[43mdeprecation_with_replacement\u001b[49m\u001b[43m(\u001b[49m\u001b[38;5;124;43m\"\u001b[39;49m\u001b[38;5;124;43mPdfFileReader\u001b[39;49m\u001b[38;5;124;43m\"\u001b[39;49m\u001b[43m,\u001b[49m\u001b[43m \u001b[49m\u001b[38;5;124;43m\"\u001b[39;49m\u001b[38;5;124;43mPdfReader\u001b[39;49m\u001b[38;5;124;43m\"\u001b[39;49m\u001b[43m,\u001b[49m\u001b[43m \u001b[49m\u001b[38;5;124;43m\"\u001b[39;49m\u001b[38;5;124;43m3.0.0\u001b[39;49m\u001b[38;5;124;43m\"\u001b[39;49m\u001b[43m)\u001b[49m\n\u001b[1;32m   1975\u001b[0m     \u001b[38;5;28;01mif\u001b[39;00m \u001b[38;5;124m\"\u001b[39m\u001b[38;5;124mstrict\u001b[39m\u001b[38;5;124m\"\u001b[39m \u001b[38;5;129;01mnot\u001b[39;00m \u001b[38;5;129;01min\u001b[39;00m kwargs \u001b[38;5;129;01mand\u001b[39;00m \u001b[38;5;28mlen\u001b[39m(args) \u001b[38;5;241m<\u001b[39m \u001b[38;5;241m2\u001b[39m:\n\u001b[1;32m   1976\u001b[0m         kwargs[\u001b[38;5;124m\"\u001b[39m\u001b[38;5;124mstrict\u001b[39m\u001b[38;5;124m\"\u001b[39m] \u001b[38;5;241m=\u001b[39m \u001b[38;5;28;01mTrue\u001b[39;00m  \u001b[38;5;66;03m# maintain the default\u001b[39;00m\n",
      "File \u001b[0;32m~/miniconda3/envs/pdsa_1/lib/python3.11/site-packages/PyPDF2/_utils.py:369\u001b[0m, in \u001b[0;36mdeprecation_with_replacement\u001b[0;34m(old_name, new_name, removed_in)\u001b[0m\n\u001b[1;32m    363\u001b[0m \u001b[38;5;28;01mdef\u001b[39;00m \u001b[38;5;21mdeprecation_with_replacement\u001b[39m(\n\u001b[1;32m    364\u001b[0m     old_name: \u001b[38;5;28mstr\u001b[39m, new_name: \u001b[38;5;28mstr\u001b[39m, removed_in: \u001b[38;5;28mstr\u001b[39m \u001b[38;5;241m=\u001b[39m \u001b[38;5;124m\"\u001b[39m\u001b[38;5;124m3.0.0\u001b[39m\u001b[38;5;124m\"\u001b[39m\n\u001b[1;32m    365\u001b[0m ) \u001b[38;5;241m-\u001b[39m\u001b[38;5;241m>\u001b[39m \u001b[38;5;28;01mNone\u001b[39;00m:\n\u001b[1;32m    366\u001b[0m \u001b[38;5;250m    \u001b[39m\u001b[38;5;124;03m\"\"\"\u001b[39;00m\n\u001b[1;32m    367\u001b[0m \u001b[38;5;124;03m    Raise an exception that a feature was already removed, but has a replacement.\u001b[39;00m\n\u001b[1;32m    368\u001b[0m \u001b[38;5;124;03m    \"\"\"\u001b[39;00m\n\u001b[0;32m--> 369\u001b[0m     \u001b[43mdeprecation\u001b[49m\u001b[43m(\u001b[49m\u001b[43mDEPR_MSG_HAPPENED\u001b[49m\u001b[38;5;241;43m.\u001b[39;49m\u001b[43mformat\u001b[49m\u001b[43m(\u001b[49m\u001b[43mold_name\u001b[49m\u001b[43m,\u001b[49m\u001b[43m \u001b[49m\u001b[43mremoved_in\u001b[49m\u001b[43m,\u001b[49m\u001b[43m \u001b[49m\u001b[43mnew_name\u001b[49m\u001b[43m)\u001b[49m\u001b[43m)\u001b[49m\n",
      "File \u001b[0;32m~/miniconda3/envs/pdsa_1/lib/python3.11/site-packages/PyPDF2/_utils.py:351\u001b[0m, in \u001b[0;36mdeprecation\u001b[0;34m(msg)\u001b[0m\n\u001b[1;32m    350\u001b[0m \u001b[38;5;28;01mdef\u001b[39;00m \u001b[38;5;21mdeprecation\u001b[39m(msg: \u001b[38;5;28mstr\u001b[39m) \u001b[38;5;241m-\u001b[39m\u001b[38;5;241m>\u001b[39m \u001b[38;5;28;01mNone\u001b[39;00m:\n\u001b[0;32m--> 351\u001b[0m     \u001b[38;5;28;01mraise\u001b[39;00m DeprecationError(msg)\n",
      "\u001b[0;31mDeprecationError\u001b[0m: PdfFileReader is deprecated and was removed in PyPDF2 3.0.0. Use PdfReader instead."
     ]
    }
   ],
   "source": [
    "import PyPDF2\n",
    "\n",
    "def extract_pages(input_pdf, output_pdf, start_page, end_page):\n",
    "    # Open the input PDF file\n",
    "    with open(input_pdf, 'rb') as infile:\n",
    "        reader = PyPDF2.PdfFileReader(infile)\n",
    "        \n",
    "        # Create a PDF writer object for the output file\n",
    "        writer = PyPDF2.PdfFileWriter()\n",
    "        \n",
    "        # Add the specified pages to the writer object\n",
    "        for page_num in range(start_page, end_page + 1):\n",
    "            page = reader.getPage(page_num)\n",
    "            writer.addPage(page)\n",
    "        \n",
    "        # Write the output PDF file\n",
    "        with open(output_pdf, 'wb') as outfile:\n",
    "            writer.write(outfile)\n",
    "\n",
    "# Define the input and output PDF file names\n",
    "input_pdf = '/home/pk/Desktop/gitmaster/PDSA/pyq/quiz1/Jan 2023.pdf'\n",
    "output_pdf = 'jan 2023_NO_ans.pdf'\n",
    "\n",
    "# Define the range of pages to extract (assuming the second file is a subset of the first)\n",
    "# Adjust the page numbers as needed\n",
    "start_page = 0  # First page (0-indexed)\n",
    "end_page = 10   # Last page to extract (adjust as needed)\n",
    "\n",
    "# Extract the specified pages and create the output PDF\n",
    "extract_pages(input_pdf, output_pdf, start_page, end_page)\n",
    "\n",
    "print(f\"Extracted pages {start_page + 1} to {end_page + 1} from {input_pdf} and saved to {output_pdf}\")"
   ]
  },
  {
   "cell_type": "code",
   "execution_count": 3,
   "metadata": {},
   "outputs": [
    {
     "name": "stdout",
     "output_type": "stream",
     "text": [
      "Extracted pages 1 to 11 from /home/pk/Desktop/gitmaster/PDSA/pyq/quiz1/Jan 2023.pdf and saved to jan 2023_NO_ans.pdf\n"
     ]
    }
   ],
   "source": [
    "import PyPDF2\n",
    "\n",
    "def extract_pages(input_pdf, output_pdf, start_page, end_page):\n",
    "    # Open the input PDF file\n",
    "    with open(input_pdf, 'rb') as infile:\n",
    "        reader = PyPDF2.PdfReader(infile)\n",
    "        \n",
    "        # Create a PDF writer object for the output file\n",
    "        writer = PyPDF2.PdfWriter()\n",
    "        \n",
    "        # Add the specified pages to the writer object\n",
    "        for page_num in range(start_page, end_page + 1):\n",
    "            page = reader.pages[page_num]\n",
    "            # Remove answers marked with crosses, ticks, and color-coded text\n",
    "            text = re.sub(r'$$X$$|$$√$$|$$✓$$', '', text)  # Remove crosses and ticks\n",
    "            text = re.sub(r'$$(green|red)$$', '', text)  # Remove color-coded text\n",
    "\n",
    "            writer.add_page(page)\n",
    "        \n",
    "        # Write the output PDF file\n",
    "        with open(output_pdf, 'wb') as outfile:\n",
    "            writer.write(outfile)\n",
    "\n",
    "# Define the input and output PDF file names\n",
    "input_pdf = '/home/pk/Desktop/gitmaster/PDSA/pyq/quiz1/Jan 2023.pdf'\n",
    "output_pdf = 'jan 2023_NO_ans.pdf'\n",
    "\n",
    "# Define the range of pages to extract (assuming the second file is a subset of the first)\n",
    "# Adjust the page numbers as needed\n",
    "start_page = 0  # First page (0-indexed)\n",
    "end_page = 10   # Last page to extract (adjust as needed)\n",
    "\n",
    "# Extract the specified pages and create the output PDF\n",
    "extract_pages(input_pdf, output_pdf, start_page, end_page)\n",
    "\n",
    "print(f\"Extracted pages {start_page + 1} to {end_page + 1} from {input_pdf} and saved to {output_pdf}\")"
   ]
  },
  {
   "cell_type": "code",
   "execution_count": 5,
   "metadata": {},
   "outputs": [
    {
     "name": "stdout",
     "output_type": "stream",
     "text": [
      "Processed /home/pk/Desktop/gitmaster/PDSA/pyq/quiz1/Jan 2023.pdf and saved to jan 2023_grayscale.pdf\n"
     ]
    }
   ],
   "source": [
    "import fitz  # PyMuPDF\n",
    "\n",
    "def remove_marks_and_convert_to_grayscale(input_pdf, output_pdf):\n",
    "    # Open the input PDF file\n",
    "    document = fitz.open(input_pdf)\n",
    "    \n",
    "    # Iterate through each page\n",
    "    for page_num in range(len(document)):\n",
    "        page = document.load_page(page_num)\n",
    "        pix = page.get_pixmap()\n",
    "        \n",
    "        # Convert the page to grayscale\n",
    "        pix = fitz.Pixmap(pix, 0)  # 0 means grayscale\n",
    "        \n",
    "        # Create a new page with the grayscale image\n",
    "        new_page = document.new_page(width=pix.width, height=pix.height)\n",
    "        new_page.insert_image(new_page.rect, pixmap=pix)\n",
    "        \n",
    "        # Remove the original page\n",
    "        document.delete_page(page_num)\n",
    "    \n",
    "    # Save the modified document\n",
    "    document.save(output_pdf)\n",
    "\n",
    "# Define the input and output PDF file names\n",
    "input_pdf = '/home/pk/Desktop/gitmaster/PDSA/pyq/quiz1/Jan 2023.pdf'\n",
    "output_pdf = 'jan 2023_grayscale.pdf'\n",
    "\n",
    "# Remove marks and convert to grayscale\n",
    "remove_marks_and_convert_to_grayscale(input_pdf, output_pdf)\n",
    "\n",
    "print(f\"Processed {input_pdf} and saved to {output_pdf}\")"
   ]
  },
  {
   "cell_type": "code",
   "execution_count": 4,
   "metadata": {},
   "outputs": [
    {
     "name": "stdout",
     "output_type": "stream",
     "text": [
      "Second file generated: jan 2023_NO_ans.pdf\n"
     ]
    }
   ],
   "source": [
    "import PyPDF2\n",
    "import re\n",
    "\n",
    "# Open the first file (question paper with answers)\n",
    "with open('/home/pk/Desktop/gitmaster/PDSA/pyq/quiz1/Jan 2023.pdf', 'rb') as f:\n",
    "    pdf = PyPDF2.PdfReader(f)\n",
    "    text = ''\n",
    "    for page in pdf.pages:\n",
    "        text += page.extract_text()\n",
    "\n",
    "# Remove answers marked with crosses, ticks, and color-coded text\n",
    "text = re.sub(r'$$X$$|$$√$$|$$✓$$', '', text)  # Remove crosses and ticks\n",
    "text = re.sub(r'$$(green|red)$$', '', text)  # Remove color-coded text\n",
    "\n",
    "# Split the text into individual questions\n",
    "questions = re.split(r'\\n\\s*\\n', text)\n",
    "\n",
    "# Create the second file (question paper without answers)\n",
    "with open('jan_2023_NO_ans.pdf', 'w') as f:\n",
    "    for question in questions:\n",
    "        f.write(question + '\\n\\n')\n",
    "\n",
    "print(\"Second file generated: jan 2023_NO_ans.pdf\")"
   ]
  },
  {
   "cell_type": "code",
   "execution_count": 6,
   "metadata": {},
   "outputs": [
    {
     "name": "stdout",
     "output_type": "stream",
     "text": [
      "Extracted pages 1 to 10 from /home/pk/Desktop/gitmaster/PDSA/pyq/quiz1/Jan 2023.pdf and saved to jan 2023_NO_ans.pdf\n"
     ]
    }
   ],
   "source": [
    "import PyPDF2\n",
    "import re\n",
    "\n",
    "def extract_pages(input_pdf, output_pdf, start_page, end_page):\n",
    "    # Open the input PDF file\n",
    "    with open(input_pdf, 'rb') as infile:\n",
    "        reader = PyPDF2.PdfReader(infile)\n",
    "        \n",
    "        # Create a PDF writer object for the output file\n",
    "        writer = PyPDF2.PdfWriter()\n",
    "        \n",
    "        # Add the specified pages to the writer object\n",
    "        for page_num in range(start_page, end_page + 1):\n",
    "            page = reader.pages[page_num - 1]  # PyPDF2 pages are 0-indexed\n",
    "            \n",
    "            # Extract the text from the page\n",
    "            text = ''\n",
    "            if '/XObject' in page['/Resources']:\n",
    "                xObject = page['/Resources']['/XObject'].get_object()\n",
    "                for obj in xObject:\n",
    "                    if xObject[obj]['/Subtype'] == '/Form':\n",
    "                        stream = xObject[obj].getObject()['/Length'].getObject().decode('utf-8')\n",
    "                        text += stream\n",
    "            \n",
    "            # Remove answers marked with crosses, ticks, and color-coded text\n",
    "            text = re.sub(r'$$X$$|$$√$$|$$✓$$', '', text)  # Remove crosses and ticks\n",
    "            text = re.sub(r'$$(green|red)$$', '', text)  # Remove color-coded text\n",
    "            \n",
    "            # Create a new page with the modified text\n",
    "            new_page = writer.add_blank_page(width=page['/MediaBox'][2], height=page['/MediaBox'][3])\n",
    "            new_page.merge_page(page)\n",
    "            \n",
    "        # Write the output PDF file\n",
    "        with open(output_pdf, 'wb') as outfile:\n",
    "            writer.write(outfile)\n",
    "\n",
    "# Define the input and output PDF file names\n",
    "input_pdf = '/home/pk/Desktop/gitmaster/PDSA/pyq/quiz1/Jan 2023.pdf'\n",
    "output_pdf = 'jan 2023_NO_ans.pdf'\n",
    "\n",
    "# Define the range of pages to extract (assuming the second file is a subset of the first)\n",
    "# Adjust the page numbers as needed\n",
    "start_page = 1  # First page (1-indexed)\n",
    "end_page = 10   # Last page to extract (adjust as needed)\n",
    "\n",
    "# Extract the specified pages and create the output PDF\n",
    "extract_pages(input_pdf, output_pdf, start_page, end_page)\n",
    "\n",
    "print(f\"Extracted pages {start_page} to {end_page} from {input_pdf} and saved to {output_pdf}\")"
   ]
  },
  {
   "cell_type": "code",
   "execution_count": null,
   "metadata": {},
   "outputs": [],
   "source": []
  }
 ],
 "metadata": {
  "kernelspec": {
   "display_name": "pdsa",
   "language": "python",
   "name": "python3"
  },
  "language_info": {
   "codemirror_mode": {
    "name": "ipython",
    "version": 3
   },
   "file_extension": ".py",
   "mimetype": "text/x-python",
   "name": "python",
   "nbconvert_exporter": "python",
   "pygments_lexer": "ipython3",
   "version": "3.11.9"
  }
 },
 "nbformat": 4,
 "nbformat_minor": 2
}
