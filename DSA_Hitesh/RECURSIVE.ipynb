{
 "cells": [
  {
   "cell_type": "markdown",
   "id": "8fa725e0760875af",
   "metadata": {},
   "source": [
    "# recursion is the program which calls itself with a base case defined "
   ]
  },
  {
   "cell_type": "markdown",
   "id": "e716e94c38761c99",
   "metadata": {},
   "source": [
    "- track forward \n",
    "- track back word "
   ]
  },
  {
   "cell_type": "markdown",
   "id": "2d63995fca57c39f",
   "metadata": {},
   "source": [
    "# Tracing Tree\n",
    "- Track Forward  \n",
    "- Track Backward  "
   ]
  },
  {
   "cell_type": "code",
   "execution_count": 1,
   "id": "43a477fea15a6b41",
   "metadata": {
    "ExecuteTime": {
     "end_time": "2024-05-25T12:18:28.696761Z",
     "start_time": "2024-05-25T12:18:28.694551Z"
    }
   },
   "outputs": [],
   "source": [
    "def tree_tracking(n):\n",
    "    if n > 0:\n",
    "        print(\"call\", n)\n",
    "        tree_tracking(n - 1)"
   ]
  },
  {
   "cell_type": "code",
   "execution_count": 2,
   "id": "3591e8e139097e2",
   "metadata": {
    "ExecuteTime": {
     "end_time": "2024-05-25T12:18:29.558686Z",
     "start_time": "2024-05-25T12:18:29.556575Z"
    }
   },
   "outputs": [
    {
     "name": "stdout",
     "output_type": "stream",
     "text": [
      "call 3\n",
      "call 2\n",
      "call 1\n"
     ]
    }
   ],
   "source": [
    "tree_tracking(3)"
   ]
  },
  {
   "cell_type": "markdown",
   "id": "296ef7fe393e1ecf",
   "metadata": {},
   "source": [
    "![tracking](img_9.png)"
   ]
  },
  {
   "cell_type": "code",
   "execution_count": 3,
   "id": "7cda490c850a0942",
   "metadata": {
    "ExecuteTime": {
     "end_time": "2024-05-25T12:18:31.122778Z",
     "start_time": "2024-05-25T12:18:31.120744Z"
    }
   },
   "outputs": [],
   "source": [
    "def back_tree_tracking(n):\n",
    "    if n > 0:\n",
    "        tree_tracking(n - 1)\n",
    "        print(\"call\", n)"
   ]
  },
  {
   "cell_type": "code",
   "execution_count": 4,
   "id": "b84378b635baf3a6",
   "metadata": {
    "ExecuteTime": {
     "end_time": "2024-05-25T12:18:31.868795Z",
     "start_time": "2024-05-25T12:18:31.866502Z"
    }
   },
   "outputs": [
    {
     "name": "stdout",
     "output_type": "stream",
     "text": [
      "call 2\n",
      "call 1\n",
      "call 3\n"
     ]
    }
   ],
   "source": [
    "back_tree_tracking(3)"
   ]
  },
  {
   "cell_type": "markdown",
   "id": "8b85df0fa15860b7",
   "metadata": {},
   "source": [
    "![backtracking](img_9.png)"
   ]
  },
  {
   "cell_type": "markdown",
   "id": "a5490f65ce0e0713",
   "metadata": {},
   "source": [
    "TYpe of recursion \n",
    "- head/top recursion \n",
    "-  Tail/bottom \n",
    "- tree recursion "
   ]
  },
  {
   "cell_type": "code",
   "execution_count": 5,
   "id": "e31b523cdde9a320",
   "metadata": {
    "ExecuteTime": {
     "end_time": "2024-05-25T12:18:36.090381Z",
     "start_time": "2024-05-25T12:18:36.088241Z"
    }
   },
   "outputs": [],
   "source": [
    "def back_tree_tracking(n):\n",
    "    if n > 0:\n",
    "        print(\"call\", n)\n",
    "        back_tree_tracking(n - 1)\n",
    "        back_tree_tracking(n - 1)"
   ]
  },
  {
   "cell_type": "code",
   "execution_count": 6,
   "id": "edd8af7182fcf929",
   "metadata": {
    "ExecuteTime": {
     "end_time": "2024-05-25T12:18:36.781765Z",
     "start_time": "2024-05-25T12:18:36.779685Z"
    }
   },
   "outputs": [
    {
     "name": "stdout",
     "output_type": "stream",
     "text": [
      "call 3\n",
      "call 2\n",
      "call 1\n",
      "call 1\n",
      "call 2\n",
      "call 1\n",
      "call 1\n"
     ]
    }
   ],
   "source": [
    "back_tree_tracking(3)"
   ]
  },
  {
   "cell_type": "markdown",
   "id": "d2fbcaf382f63e8",
   "metadata": {},
   "source": [
    "![back_tree_tracking](backtracking.png)"
   ]
  },
  {
   "cell_type": "code",
   "execution_count": 7,
   "id": "2b25c5a5fcf9c3dd",
   "metadata": {
    "ExecuteTime": {
     "end_time": "2024-05-25T12:31:42.750068Z",
     "start_time": "2024-05-25T12:31:42.747960Z"
    }
   },
   "outputs": [],
   "source": [
    "# factorial\n",
    "def factorial(n):\n",
    "    if n <= 1:\n",
    "        return 1\n",
    "    else:\n",
    "        return n * factorial(n - 1)"
   ]
  },
  {
   "cell_type": "code",
   "execution_count": 8,
   "id": "d377a087732ecbd5",
   "metadata": {
    "ExecuteTime": {
     "end_time": "2024-05-25T12:31:49.124763Z",
     "start_time": "2024-05-25T12:31:49.120184Z"
    }
   },
   "outputs": [
    {
     "data": {
      "text/plain": [
       "720"
      ]
     },
     "execution_count": 8,
     "metadata": {},
     "output_type": "execute_result"
    }
   ],
   "source": [
    "factorial(6)"
   ]
  },
  {
   "cell_type": "code",
   "execution_count": 9,
   "id": "b86a414f535ff59b",
   "metadata": {
    "ExecuteTime": {
     "end_time": "2024-05-25T13:22:58.878328Z",
     "start_time": "2024-05-25T13:22:58.875272Z"
    }
   },
   "outputs": [],
   "source": [
    "def fibonacci(n):\n",
    "    if n < 0:\n",
    "        return 0\n",
    "    if n == 1:\n",
    "        return 0\n",
    "    if n == 2:\n",
    "        return 1\n",
    "    else:\n",
    "        return fibonacci(n - 1) + fibonacci(n - 2)"
   ]
  },
  {
   "cell_type": "code",
   "execution_count": 10,
   "id": "c04a110ec868571c",
   "metadata": {
    "ExecuteTime": {
     "end_time": "2024-05-25T13:23:50.769596Z",
     "start_time": "2024-05-25T13:23:50.766932Z"
    }
   },
   "outputs": [
    {
     "data": {
      "text/plain": [
       "55"
      ]
     },
     "execution_count": 10,
     "metadata": {},
     "output_type": "execute_result"
    }
   ],
   "source": [
    "fibonacci(11)"
   ]
  },
  {
   "cell_type": "code",
   "execution_count": 11,
   "id": "ed87e348a9d6acfa",
   "metadata": {
    "ExecuteTime": {
     "end_time": "2024-05-25T13:24:16.155038Z",
     "start_time": "2024-05-25T13:24:16.151734Z"
    }
   },
   "outputs": [
    {
     "name": "stdout",
     "output_type": "stream",
     "text": [
      "Move disk 1 from A to C\n",
      "Move disk 2 from A to B\n",
      "Move disk 1 from C to B\n",
      "Move disk 3 from A to C\n",
      "Move disk 1 from B to A\n",
      "Move disk 2 from B to C\n",
      "Move disk 1 from A to C\n"
     ]
    }
   ],
   "source": [
    "def TowerOfHanoi(n, source, destination, auxiliary):\n",
    "    if n == 1:\n",
    "        print(f\"Move disk 1 from {source} to {destination}\")\n",
    "        return\n",
    "    TowerOfHanoi(n - 1, source, auxiliary, destination)\n",
    "    print(f\"Move disk {n} from {source} to {destination}\")\n",
    "    TowerOfHanoi(n - 1, auxiliary, destination, source)\n",
    "\n",
    "\n",
    "n = 3\n",
    "TowerOfHanoi(n, \"A\", \"C\", \"B\")"
   ]
  },
  {
   "cell_type": "code",
   "execution_count": 19,
   "id": "fa418060aa263364",
   "metadata": {
    "ExecuteTime": {
     "end_time": "2024-05-25T14:04:39.066405Z",
     "start_time": "2024-05-25T14:04:39.064093Z"
    }
   },
   "outputs": [],
   "source": [
    "def power(base, exponent):\n",
    "    \"\"\"_summary_\n",
    "\n",
    "    Args:\n",
    "        base (_type_): _description_\n",
    "        exponent (_type_): _description_\n",
    "\n",
    "    Returns:\n",
    "        _type_: _description_\n",
    "    \"\"\"\n",
    "    if exponent == 0:\n",
    "        return 1\n",
    "    if exponent < 0:  # handle neg power\n",
    "        return 1 / power(base, exponent * -1)\n",
    "    else:\n",
    "        return base * power(base, exponent - 1)"
   ]
  },
  {
   "cell_type": "code",
   "execution_count": 20,
   "id": "316c4fcddf959c38",
   "metadata": {
    "ExecuteTime": {
     "end_time": "2024-05-25T14:04:52.697506Z",
     "start_time": "2024-05-25T14:04:52.694872Z"
    }
   },
   "outputs": [
    {
     "data": {
      "text/plain": [
       "8"
      ]
     },
     "execution_count": 20,
     "metadata": {},
     "output_type": "execute_result"
    }
   ],
   "source": [
    "power(2, 3)"
   ]
  },
  {
   "cell_type": "code",
   "execution_count": 21,
   "id": "274092690c4e158e",
   "metadata": {},
   "outputs": [
    {
     "data": {
      "text/plain": [
       "0.5"
      ]
     },
     "execution_count": 21,
     "metadata": {},
     "output_type": "execute_result"
    }
   ],
   "source": [
    "power(2, -1)"
   ]
  },
  {
   "cell_type": "code",
   "execution_count": 1,
   "id": "9b014591",
   "metadata": {},
   "outputs": [],
   "source": [
    "def find_combinations_recursive(data, r, current_combination=[], start=0):\n",
    "    \"\"\"\n",
    "    This function finds all combinations of r elements from a list using recursion.\n",
    "\n",
    "    Args:\n",
    "        data: The list of elements.\n",
    "        r: The number of elements to choose for each combination.\n",
    "        current_combination: A list to store the current combination being built (internal use).\n",
    "        start: The starting index for recursion (internal use).\n",
    "\n",
    "    Returns:\n",
    "        None (function modifies a passed list)\n",
    "    \"\"\"\n",
    "    if len(current_combination) == r:\n",
    "        all_combinations.append(\n",
    "            current_combination.copy()\n",
    "        )  # Append a copy to avoid modification\n",
    "        return\n",
    "\n",
    "    for i in range(start, len(data)):\n",
    "        current_combination.append(data[i])\n",
    "        find_combinations_recursive(\n",
    "            data, r, current_combination, i + 1\n",
    "        )  # Move to next element for next combination\n",
    "        current_combination.pop()  # Backtrack and remove the element after exploring its combinations\n",
    "\n",
    "\n",
    "# Example usage\n",
    "import random\n",
    "\n",
    "random.seed(1965)\n",
    "my_list = [random.randint(1, 100) for _ in range(15)]\n",
    "r = 2  # Choose 2 elements at a time\n",
    "all_combinations = []\n",
    "\n",
    "find_combinations_recursive(my_list, r)"
   ]
  },
  {
   "cell_type": "code",
   "execution_count": 2,
   "id": "fe22e8b4",
   "metadata": {},
   "outputs": [
    {
     "data": {
      "text/plain": [
       "[82, 89, 43, 45, 95, 73, 70, 23, 75, 99, 9, 68, 48, 20, 57]"
      ]
     },
     "execution_count": 2,
     "metadata": {},
     "output_type": "execute_result"
    }
   ],
   "source": [
    "my_list"
   ]
  },
  {
   "cell_type": "code",
   "execution_count": 27,
   "id": "683a57ad",
   "metadata": {},
   "outputs": [
    {
     "data": {
      "text/plain": [
       "[[82, 89],\n",
       " [82, 43],\n",
       " [82, 45],\n",
       " [82, 95],\n",
       " [82, 73],\n",
       " [82, 70],\n",
       " [82, 23],\n",
       " [82, 75],\n",
       " [82, 99],\n",
       " [82, 9],\n",
       " [82, 68],\n",
       " [82, 48],\n",
       " [82, 20],\n",
       " [82, 57],\n",
       " [89, 43],\n",
       " [89, 45],\n",
       " [89, 95],\n",
       " [89, 73],\n",
       " [89, 70],\n",
       " [89, 23],\n",
       " [89, 75],\n",
       " [89, 99],\n",
       " [89, 9],\n",
       " [89, 68],\n",
       " [89, 48],\n",
       " [89, 20],\n",
       " [89, 57],\n",
       " [43, 45],\n",
       " [43, 95],\n",
       " [43, 73],\n",
       " [43, 70],\n",
       " [43, 23],\n",
       " [43, 75],\n",
       " [43, 99],\n",
       " [43, 9],\n",
       " [43, 68],\n",
       " [43, 48],\n",
       " [43, 20],\n",
       " [43, 57],\n",
       " [45, 95],\n",
       " [45, 73],\n",
       " [45, 70],\n",
       " [45, 23],\n",
       " [45, 75],\n",
       " [45, 99],\n",
       " [45, 9],\n",
       " [45, 68],\n",
       " [45, 48],\n",
       " [45, 20],\n",
       " [45, 57],\n",
       " [95, 73],\n",
       " [95, 70],\n",
       " [95, 23],\n",
       " [95, 75],\n",
       " [95, 99],\n",
       " [95, 9],\n",
       " [95, 68],\n",
       " [95, 48],\n",
       " [95, 20],\n",
       " [95, 57],\n",
       " [73, 70],\n",
       " [73, 23],\n",
       " [73, 75],\n",
       " [73, 99],\n",
       " [73, 9],\n",
       " [73, 68],\n",
       " [73, 48],\n",
       " [73, 20],\n",
       " [73, 57],\n",
       " [70, 23],\n",
       " [70, 75],\n",
       " [70, 99],\n",
       " [70, 9],\n",
       " [70, 68],\n",
       " [70, 48],\n",
       " [70, 20],\n",
       " [70, 57],\n",
       " [23, 75],\n",
       " [23, 99],\n",
       " [23, 9],\n",
       " [23, 68],\n",
       " [23, 48],\n",
       " [23, 20],\n",
       " [23, 57],\n",
       " [75, 99],\n",
       " [75, 9],\n",
       " [75, 68],\n",
       " [75, 48],\n",
       " [75, 20],\n",
       " [75, 57],\n",
       " [99, 9],\n",
       " [99, 68],\n",
       " [99, 48],\n",
       " [99, 20],\n",
       " [99, 57],\n",
       " [9, 68],\n",
       " [9, 48],\n",
       " [9, 20],\n",
       " [9, 57],\n",
       " [68, 48],\n",
       " [68, 20],\n",
       " [68, 57],\n",
       " [48, 20],\n",
       " [48, 57],\n",
       " [20, 57]]"
      ]
     },
     "execution_count": 27,
     "metadata": {},
     "output_type": "execute_result"
    }
   ],
   "source": [
    "all_combinations"
   ]
  },
  {
   "cell_type": "code",
   "execution_count": 50,
   "id": "8be6dd87",
   "metadata": {},
   "outputs": [],
   "source": [
    "class Solution(object):\n",
    "    def latestTimeCatchTheBus(self, buses, passengers, capacity):\n",
    "        \"\"\"\n",
    "        :type buses: List[int]\n",
    "        :type passengers: List[int]\n",
    "        :type capacity: int\n",
    "        :rtype: int\n",
    "        \"\"\"\n",
    "        buses_sorted = sorted(buses)\n",
    "        passengers_sorted = sorted(passengers, reverse=True)\n",
    "        for bus in buses_sorted:\n",
    "            temp_cap = capacity\n",
    "            current_passenger_list = []\n",
    "            while temp_cap > 0 and passengers_sorted:\n",
    "\n",
    "                current_passenger = passengers_sorted.pop()\n",
    "                if current_passenger > bus:\n",
    "                    passengers_sorted.append(current_passenger)\n",
    "                    break\n",
    "                else:\n",
    "                    temp_cap -= 1\n",
    "                    current_passenger_list.append(current_passenger)\n",
    "        return self.best_time(current_passenger_list)\n",
    "\n",
    "    def best_time(self, L):\n",
    "        for index in range(len(L) - 1, -1, -1):\n",
    "            if L[index] - L[index - 1] > 1:\n",
    "                return L[index] - 1\n",
    "            else:\n",
    "                # Check for base case (list with only 2 elements)\n",
    "                if len(L) == 2 and L[index] - L[index - 1] == 1:\n",
    "                    return L[index - 1] - 1\n",
    "        return L[0] - 1"
   ]
  },
  {
   "cell_type": "code",
   "execution_count": 51,
   "id": "46839ec6",
   "metadata": {},
   "outputs": [],
   "source": [
    "busses = [10, 20]\n",
    "passengers = [2, 17, 18, 19]\n",
    "capacity = 2\n",
    "\n",
    "s = Solution()\n",
    "passenger_list = s.latestTimeCatchTheBus(\n",
    "    buses=busses, passengers=passengers, capacity=capacity\n",
    ")"
   ]
  },
  {
   "cell_type": "code",
   "execution_count": 53,
   "id": "e2087167",
   "metadata": {},
   "outputs": [
    {
     "name": "stdout",
     "output_type": "stream",
     "text": [
      "20\n"
     ]
    }
   ],
   "source": [
    "def latestTimeCatchTheBus(self, buses, passengers, capacity):\n",
    "    buses.sort()\n",
    "    passengers.sort()\n",
    "    passenger_index = 0\n",
    "    latest_time = -1\n",
    "\n",
    "    for bus in buses:\n",
    "        current_capacity = 0\n",
    "\n",
    "        while (\n",
    "            current_capacity < capacity\n",
    "            and passenger_index < len(passengers)\n",
    "            and passengers[passenger_index] <= bus\n",
    "        ):\n",
    "            current_capacity += 1\n",
    "            passenger_index += 1\n",
    "\n",
    "        if current_capacity < capacity:\n",
    "            latest_time = bus\n",
    "        else:\n",
    "            latest_time = passengers[passenger_index - 1] - 1\n",
    "\n",
    "        while latest_time in set(passengers):\n",
    "            latest_time -= 1\n",
    "\n",
    "    return latest_time"
   ]
  },
  {
   "cell_type": "code",
   "execution_count": null,
   "id": "d9dd36f7",
   "metadata": {},
   "outputs": [],
   "source": []
  },
  {
   "cell_type": "code",
   "execution_count": 52,
   "id": "54c8ef34",
   "metadata": {},
   "outputs": [
    {
     "data": {
      "text/plain": [
       "16"
      ]
     },
     "execution_count": 52,
     "metadata": {},
     "output_type": "execute_result"
    }
   ],
   "source": [
    "passenger_list"
   ]
  },
  {
   "cell_type": "code",
   "execution_count": 47,
   "id": "264a200c",
   "metadata": {},
   "outputs": [],
   "source": [
    "def best_time(L):\n",
    "    for index in range(len(L) - 1, 0, -1):\n",
    "        if L[index] - L[index - 1] > 1:\n",
    "            return L[index] - 1\n",
    "        else:\n",
    "            # Check for base case (list with only 2 elements)\n",
    "            if len(L) == 2 and L[index] - L[index - 1] == 1:\n",
    "                return L[index - 1] - 1\n",
    "    return L[0] - 1  # Default selling time (unchange"
   ]
  },
  {
   "cell_type": "code",
   "execution_count": 48,
   "id": "c902cc0f",
   "metadata": {},
   "outputs": [],
   "source": [
    "va = best_time(passenger_list)"
   ]
  },
  {
   "cell_type": "code",
   "execution_count": 49,
   "id": "ca2fabe3",
   "metadata": {},
   "outputs": [
    {
     "data": {
      "text/plain": [
       "16"
      ]
     },
     "execution_count": 49,
     "metadata": {},
     "output_type": "execute_result"
    }
   ],
   "source": [
    "va"
   ]
  },
  {
   "cell_type": "code",
   "execution_count": 24,
   "id": "bcceafb7",
   "metadata": {},
   "outputs": [],
   "source": [
    "passengers_sorted = sorted(passengers, reverse=True)"
   ]
  },
  {
   "cell_type": "code",
   "execution_count": 26,
   "id": "c344d598",
   "metadata": {},
   "outputs": [
    {
     "data": {
      "text/plain": [
       "2"
      ]
     },
     "execution_count": 26,
     "metadata": {},
     "output_type": "execute_result"
    }
   ],
   "source": [
    "passengers_sorted.pop()"
   ]
  },
  {
   "cell_type": "code",
   "execution_count": null,
   "id": "efc74bed",
   "metadata": {},
   "outputs": [],
   "source": []
  }
 ],
 "metadata": {
  "kernelspec": {
   "display_name": "Python 3",
   "language": "python",
   "name": "python3"
  },
  "language_info": {
   "codemirror_mode": {
    "name": "ipython",
    "version": 3
   },
   "file_extension": ".py",
   "mimetype": "text/x-python",
   "name": "python",
   "nbconvert_exporter": "python",
   "pygments_lexer": "ipython3",
   "version": "3.11.9"
  }
 },
 "nbformat": 4,
 "nbformat_minor": 5
}
