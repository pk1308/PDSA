{
 "cells": [
  {
   "metadata": {},
   "cell_type": "markdown",
   "source": "# recursion is the program which calls itself with a base case defined ",
   "id": "8fa725e0760875af"
  },
  {
   "metadata": {},
   "cell_type": "markdown",
   "source": [
    "- track forward \n",
    "- track back word "
   ],
   "id": "e716e94c38761c99"
  },
  {
   "metadata": {},
   "cell_type": "markdown",
   "source": [
    "# Tracing Tree\n",
    "- Track Forward  \n",
    "- Track Backward  "
   ],
   "id": "2d63995fca57c39f"
  },
  {
   "metadata": {
    "ExecuteTime": {
     "end_time": "2024-05-25T11:34:57.253126Z",
     "start_time": "2024-05-25T11:34:57.249890Z"
    }
   },
   "cell_type": "code",
   "source": [
    "def tree_tracking(n):\n",
    "    if n > 0 :\n",
    "        print(\"Lco\" , n)\n",
    "        tree_tracking(n-1)"
   ],
   "id": "43a477fea15a6b41",
   "outputs": [],
   "execution_count": 1
  },
  {
   "metadata": {
    "ExecuteTime": {
     "end_time": "2024-05-25T11:35:06.286652Z",
     "start_time": "2024-05-25T11:35:06.284700Z"
    }
   },
   "cell_type": "code",
   "source": "tree_tracking(3)",
   "id": "3591e8e139097e2",
   "outputs": [
    {
     "name": "stdout",
     "output_type": "stream",
     "text": [
      "Lco 3\n",
      "Lco 2\n",
      "Lco 1\n"
     ]
    }
   ],
   "execution_count": 2
  },
  {
   "metadata": {},
   "cell_type": "markdown",
   "source": "![tracking](img_9.png)",
   "id": "296ef7fe393e1ecf"
  },
  {
   "metadata": {},
   "cell_type": "code",
   "outputs": [],
   "execution_count": null,
   "source": "",
   "id": "7cda490c850a0942"
  }
 ],
 "metadata": {
  "kernelspec": {
   "display_name": "Python 3",
   "language": "python",
   "name": "python3"
  },
  "language_info": {
   "codemirror_mode": {
    "name": "ipython",
    "version": 2
   },
   "file_extension": ".py",
   "mimetype": "text/x-python",
   "name": "python",
   "nbconvert_exporter": "python",
   "pygments_lexer": "ipython2",
   "version": "2.7.6"
  }
 },
 "nbformat": 4,
 "nbformat_minor": 5
}
