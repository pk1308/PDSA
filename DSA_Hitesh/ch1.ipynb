{
 "cells": [
  {
   "cell_type": "code",
   "metadata": {
    "ExecuteTime": {
     "end_time": "2024-05-23T18:58:55.544913Z",
     "start_time": "2024-05-23T18:58:55.488674Z"
    }
   },
   "source": [
    "import os \n",
    "import numpy as np \n",
    "\n",
    "os.chdir(\"..\")\n",
    "os.chdir(\"..\")\n",
    "from driver_folder.time_driver import TimerError "
   ],
   "outputs": [],
   "execution_count": 1
  },
  {
   "cell_type": "code",
   "metadata": {
    "ExecuteTime": {
     "end_time": "2024-05-23T18:58:55.547705Z",
     "start_time": "2024-05-23T18:58:55.545754Z"
    }
   },
   "source": [
    "T =TimerError()\n",
    "T.start()\n",
    "end_time = T.elapsed()\n",
    "print(f\"time taken:{end_time}\")"
   ],
   "outputs": [
    {
     "name": "stdout",
     "output_type": "stream",
     "text": [
      "time taken:1.5173995052464306e-05\n"
     ]
    }
   ],
   "execution_count": 2
  },
  {
   "metadata": {
    "ExecuteTime": {
     "end_time": "2024-05-23T18:58:56.424584Z",
     "start_time": "2024-05-23T18:58:56.422486Z"
    }
   },
   "cell_type": "code",
   "source": " input_str = \"prince\"",
   "outputs": [],
   "execution_count": 3
  },
  {
   "metadata": {
    "ExecuteTime": {
     "end_time": "2024-05-23T18:58:57.734163Z",
     "start_time": "2024-05-23T18:58:57.731676Z"
    }
   },
   "cell_type": "code",
   "source": [
    "def reverse(string):\n",
    "    string = string[::-1]\n",
    "    return string"
   ],
   "outputs": [],
   "execution_count": 4
  },
  {
   "metadata": {
    "ExecuteTime": {
     "end_time": "2024-05-23T18:58:58.493336Z",
     "start_time": "2024-05-23T18:58:58.488535Z"
    }
   },
   "cell_type": "code",
   "source": "reverse(input_str)",
   "outputs": [
    {
     "data": {
      "text/plain": [
       "'ecnirp'"
      ]
     },
     "execution_count": 5,
     "metadata": {},
     "output_type": "execute_result"
    }
   ],
   "execution_count": 5
  },
  {
   "metadata": {
    "ExecuteTime": {
     "end_time": "2024-05-23T18:58:59.074561Z",
     "start_time": "2024-05-23T18:58:59.072130Z"
    }
   },
   "cell_type": "code",
   "source": [
    "def reversetwo(string : str) ->str:\n",
    "    str  = \"\"\n",
    "    for i in string:\n",
    "        str = i + str\n",
    "    return str\n",
    "    "
   ],
   "outputs": [],
   "execution_count": 6
  },
  {
   "metadata": {
    "ExecuteTime": {
     "end_time": "2024-05-23T18:59:00.046734Z",
     "start_time": "2024-05-23T18:59:00.043177Z"
    }
   },
   "cell_type": "code",
   "source": "reversetwo(input_str)",
   "outputs": [
    {
     "data": {
      "text/plain": [
       "'ecnirp'"
      ]
     },
     "execution_count": 7,
     "metadata": {},
     "output_type": "execute_result"
    }
   ],
   "execution_count": 7
  },
  {
   "metadata": {},
   "cell_type": "markdown",
   "source": "![img_5.png](img_5.png)"
  },
  {
   "metadata": {},
   "cell_type": "code",
   "outputs": [],
   "execution_count": null,
   "source": ""
  },
  {
   "metadata": {},
   "cell_type": "markdown",
   "source": ""
  }
 ],
 "metadata": {
  "kernelspec": {
   "display_name": "pdsa",
   "language": "python",
   "name": "python3"
  },
  "language_info": {
   "codemirror_mode": {
    "name": "ipython",
    "version": 3
   },
   "file_extension": ".py",
   "mimetype": "text/x-python",
   "name": "python",
   "nbconvert_exporter": "python",
   "pygments_lexer": "ipython3",
   "version": "3.11.0"
  }
 },
 "nbformat": 4,
 "nbformat_minor": 2
}
