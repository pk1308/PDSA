{
 "cells": [
  {
   "cell_type": "code",
   "metadata": {
    "ExecuteTime": {
     "end_time": "2024-05-23T19:11:33.543098Z",
     "start_time": "2024-05-23T19:11:33.495723Z"
    }
   },
   "source": [
    "import os \n",
    "import numpy as np \n",
    "\n",
    "os.chdir(\"..\")\n",
    "os.chdir(\"..\")\n",
    "from driver_folder.time_driver import TimerError "
   ],
   "outputs": [],
   "execution_count": 1
  },
  {
   "cell_type": "code",
   "metadata": {
    "ExecuteTime": {
     "end_time": "2024-05-23T19:11:33.545947Z",
     "start_time": "2024-05-23T19:11:33.543850Z"
    }
   },
   "source": [
    "T =TimerError()\n",
    "T.start()\n",
    "end_time = T.elapsed()\n",
    "print(f\"time taken:{end_time}\")"
   ],
   "outputs": [
    {
     "name": "stdout",
     "output_type": "stream",
     "text": [
      "time taken:1.444100053049624e-05\n"
     ]
    }
   ],
   "execution_count": 2
  },
  {
   "metadata": {},
   "cell_type": "markdown",
   "source": ""
  },
  {
   "metadata": {},
   "cell_type": "markdown",
   "source": "![img_6.png](img_6.png)"
  },
  {
   "metadata": {},
   "cell_type": "markdown",
   "source": "![img_7.png](img_7.png)"
  },
  {
   "metadata": {},
   "cell_type": "markdown",
   "source": "![img_8.png](img_8.png)"
  },
  {
   "metadata": {},
   "cell_type": "markdown",
   "source": "# Abstract Datat Type "
  },
  {
   "metadata": {},
   "cell_type": "markdown",
   "source": [
    "- list \n",
    "- stack \n",
    "- queue "
   ]
  },
  {
   "metadata": {},
   "cell_type": "code",
   "outputs": [],
   "execution_count": null,
   "source": ""
  }
 ],
 "metadata": {
  "kernelspec": {
   "display_name": "pdsa",
   "language": "python",
   "name": "python3"
  },
  "language_info": {
   "codemirror_mode": {
    "name": "ipython",
    "version": 3
   },
   "file_extension": ".py",
   "mimetype": "text/x-python",
   "name": "python",
   "nbconvert_exporter": "python",
   "pygments_lexer": "ipython3",
   "version": "3.11.0"
  }
 },
 "nbformat": 4,
 "nbformat_minor": 2
}
