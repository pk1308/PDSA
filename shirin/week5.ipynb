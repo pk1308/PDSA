{
 "cells": [
  {
   "cell_type": "code",
   "execution_count": 2,
   "metadata": {},
   "outputs": [],
   "source": [
    "import numpy as np \n",
    "import networkx as nx \n",
    "import matplotlib.pyplot as plt \n"
   ]
  },
  {
   "cell_type": "markdown",
   "metadata": {},
   "source": [
    "## Weighted directed graph "
   ]
  },
  {
   "cell_type": "code",
   "execution_count": 5,
   "metadata": {},
   "outputs": [],
   "source": [
    "\n",
    "dedges = [(0,1,10),(0,2,80),(1,2,6),(1,4,20),(2,3,70),(4,5,50),(4,6,5),(5,6,10)]\n",
    "size = 7\n",
    "WL = {}\n",
    "for i in range(size):\n",
    "    WL[i] = []\n",
    "for (i,j,d) in dedges:\n",
    "    WL[i].append((j,d))\n",
    "# print(WL)"
   ]
  },
  {
   "cell_type": "code",
   "execution_count": 4,
   "metadata": {},
   "outputs": [],
   "source": [
    "# Each tuple (u,v,d) in list is representing the edge from u to v with weight d\n",
    "dedges = [(0,1,10),(0,2,80),(1,2,6),(1,4,20),(2,3,70),(4,5,50),(4,6,5),(5,6,10)]\n",
    "size = 7\n",
    "import numpy as np\n",
    "W = np.zeros(shape=(size,size,2))\n",
    "for (i,j,w) in dedges:\n",
    "    W[i,j,0] = 1\n",
    "    W[i,j,1] = w"
   ]
  },
  {
   "cell_type": "code",
   "execution_count": 17,
   "metadata": {},
   "outputs": [],
   "source": [
    "\n",
    "\n",
    "def plot_directed_graph(edges, title):\n",
    "    \"\"\"Plot a directed graph with weighted edges.\n",
    "\n",
    "    Args:\n",
    "        edges (list): A list of tuples representing edges, where each tuple contains the source node, destination node, and edge weight.\n",
    "        title (str): The title of the graph.\n",
    "\n",
    "    Example:\n",
    "        edges = [(0,1,10),(0,2,80),(1,2,6),(1,4,20),(2,3,70),(4,5,50),(4,6,5),(5,6,10)]\n",
    "    \"\"\"\n",
    "    G = nx.DiGraph()\n",
    "\n",
    "    # Add edges with weights to the graph\n",
    "    for u, v, weight in edges:\n",
    "        G.add_edge(u, v, weight=weight)\n",
    "\n",
    "    # Draw the graph\n",
    "    pos = nx.spring_layout(G)  # Positions for all nodes\n",
    "    nx.draw(\n",
    "        G,\n",
    "        pos,\n",
    "        with_labels=True,\n",
    "        node_color=\"lightblue\",\n",
    "        node_size=500,\n",
    "        font_size=10,\n",
    "        arrows=True,\n",
    "        arrowstyle='-|>',\n",
    "        arrowsize=20,\n",
    "        node_shape='s',  # Use square nodes for better visibility\n",
    "        edge_color='gray',  # Use a lighter color for edges to improve contrast\n",
    "        width=1.5  # Increase edge width for better visibility\n",
    "    )\n",
    "\n",
    "    # Draw edge labels\n",
    "    edge_labels = {(u, v): f'{d[\"weight\"]:.0f}' for u, v, d in G.edges(data=True)}\n",
    "    nx.draw_networkx_edge_labels(G, pos, edge_labels=edge_labels, font_size=10, label_pos=0.5)\n",
    "\n",
    "    plt.title(title)\n",
    "   \n",
    "    plt.show()"
   ]
  },
  {
   "cell_type": "code",
   "execution_count": 15,
   "metadata": {},
   "outputs": [],
   "source": [
    "dedges = [(0,1,10),(0,2,80),(1,2,6),(1,4,20),(2,3,70),(4,5,50),(4,6,5),(5,6,10)]"
   ]
  },
  {
   "cell_type": "code",
   "execution_count": 16,
   "metadata": {},
   "outputs": [
    {
     "data": {
      "image/png": "[encoded data removed]",
      "text/plain": [
       "<Figure size 640x480 with 1 Axes>"
      ]
     },
     "metadata": {},
     "output_type": "display_data"
    }
   ],
   "source": [
    "plot_directed_graph(edges=dedges , title= \"plot for graph \")"
   ]
  },
  {
   "cell_type": "code",
   "execution_count": 18,
   "metadata": {},
   "outputs": [
    {
     "data": {
      "text/plain": [
       "inf"
      ]
     },
     "execution_count": 18,
     "metadata": {},
     "output_type": "execute_result"
    }
   ],
   "source": [
    "def dijkstra(WList , source):\n",
    "    \"\"\" Shortest Path from the source \n",
    "\n",
    "    Args:\n",
    "        WList (_type_): { parent : (CHILD , DISTANCE) } \n",
    "        source (_type_): _description_\n",
    "    \"\"\"\n",
    "    # Initialisation \n",
    "    \n",
    "    visited , distance = {} , {}\n",
    "    for vertex in WList.keys():\n",
    "        visited[vertex] , distance[vertex] = False , np.inf\n",
    "        \n",
    "        "
   ]
  },
  {
   "cell_type": "code",
   "execution_count": null,
   "metadata": {},
   "outputs": [],
   "source": []
  }
 ],
 "metadata": {
  "kernelspec": {
   "display_name": "pdsa_1",
   "language": "python",
   "name": "python3"
  },
  "language_info": {
   "codemirror_mode": {
    "name": "ipython",
    "version": 3
   },
   "file_extension": ".py",
   "mimetype": "text/x-python",
   "name": "python",
   "nbconvert_exporter": "python",
   "pygments_lexer": "ipython3",
   "version": "3.11.9"
  }
 },
 "nbformat": 4,
 "nbformat_minor": 2
}
