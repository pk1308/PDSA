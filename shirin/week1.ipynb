{
 "cells": [
  {
   "cell_type": "markdown",
   "metadata": {},
   "source": [
    "# FIFO"
   ]
  },
  {
   "cell_type": "code",
   "execution_count": 24,
   "metadata": {},
   "outputs": [],
   "source": [
    "class Queue:\n",
    "    def __init__(self):\n",
    "        \"\"\"\n",
    "        Initializes an empty queue.\n",
    "        The queue is represented as a list.\n",
    "        \"\"\"\n",
    "        self.queue = []\n",
    "\n",
    "    def Enqueue(self, v):\n",
    "        \"\"\"\n",
    "        Adds an element 'v' to the end of the queue.\n",
    "\n",
    "        Parameters:\n",
    "        v: The element to be added to the queue.\n",
    "        \"\"\"\n",
    "        self.queue.append(v)\n",
    "\n",
    "    def Dequeue(self):\n",
    "        \"\"\"\n",
    "        Removes and returns the element at the front of the queue.\n",
    "\n",
    "        Returns:\n",
    "        The element at the front of the queue if the queue is not empty,\n",
    "        otherwise None.\n",
    "        \"\"\"\n",
    "        v = None\n",
    "        if not self.isempty():\n",
    "            v = self.queue[0]  \n",
    "            self.queue = self.queue[1:]  \n",
    "        return v\n",
    "\n",
    "    def isempty(self):\n",
    "        \"\"\"\n",
    "        Checks if the queue is empty.\n",
    "\n",
    "        Returns:\n",
    "        True if the queue is empty, otherwise False.\n",
    "        \"\"\"\n",
    "        return self.queue == []\n",
    "\n",
    "    def __str__(self):\n",
    "        \"\"\"\n",
    "        Returns a string representation of the queue.\n",
    "\n",
    "        Returns:\n",
    "        A string representation of the queue list.\n",
    "        \"\"\"\n",
    "        return str(self.queue)"
   ]
  },
  {
   "cell_type": "code",
   "execution_count": 16,
   "metadata": {},
   "outputs": [],
   "source": [
    "class Queue:\n",
    "    def __init__(self) -> None:\n",
    "        self.queue= []\n",
    "    def Enqueue(self, data):\n",
    "        self.queue.append(data)\n",
    "    def Dequeue(self):\n",
    "        if len(self.queue) > 0 :\n",
    "            return self.queue.pop(0)\n",
    "        else:\n",
    "            return None\n",
    "    def Isempty(self):\n",
    "        return self.queue == []\n",
    "            \n",
    "        \n",
    "    "
   ]
  },
  {
   "cell_type": "code",
   "execution_count": 17,
   "metadata": {},
   "outputs": [],
   "source": [
    "qobj = Queue()"
   ]
  },
  {
   "cell_type": "code",
   "execution_count": 18,
   "metadata": {},
   "outputs": [
    {
     "data": {
      "text/plain": [
       "[]"
      ]
     },
     "execution_count": 18,
     "metadata": {},
     "output_type": "execute_result"
    }
   ],
   "source": [
    "qobj.queue"
   ]
  },
  {
   "cell_type": "code",
   "execution_count": 19,
   "metadata": {},
   "outputs": [],
   "source": [
    "qobj.Enqueue(\"shirin\")"
   ]
  },
  {
   "cell_type": "code",
   "execution_count": 23,
   "metadata": {},
   "outputs": [
    {
     "data": {
      "text/plain": [
       "[]"
      ]
     },
     "execution_count": 23,
     "metadata": {},
     "output_type": "execute_result"
    }
   ],
   "source": [
    "qobj.queue"
   ]
  },
  {
   "cell_type": "code",
   "execution_count": 22,
   "metadata": {},
   "outputs": [],
   "source": [
    "qobj.Dequeue()"
   ]
  },
  {
   "cell_type": "code",
   "execution_count": null,
   "metadata": {},
   "outputs": [],
   "source": []
  }
 ],
 "metadata": {
  "kernelspec": {
   "display_name": "pdsa_1",
   "language": "python",
   "name": "python3"
  },
  "language_info": {
   "codemirror_mode": {
    "name": "ipython",
    "version": 3
   },
   "file_extension": ".py",
   "mimetype": "text/x-python",
   "name": "python",
   "nbconvert_exporter": "python",
   "pygments_lexer": "ipython3",
   "version": "3.11.9"
  }
 },
 "nbformat": 4,
 "nbformat_minor": 2
}
